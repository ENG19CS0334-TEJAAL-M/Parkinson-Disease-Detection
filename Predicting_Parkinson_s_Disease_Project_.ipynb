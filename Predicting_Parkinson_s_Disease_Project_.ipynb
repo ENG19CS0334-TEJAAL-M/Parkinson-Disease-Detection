{
  "nbformat": 4,
  "nbformat_minor": 0,
  "metadata": {
    "colab": {
      "name": "Predicting Parkinson s Disease Project_.ipynb",
      "provenance": [],
      "include_colab_link": true
    },
    "kernelspec": {
      "name": "python3",
      "display_name": "Python 3"
    },
    "language_info": {
      "name": "python"
    }
  },
  "cells": [
    {
      "cell_type": "markdown",
      "metadata": {
        "id": "view-in-github",
        "colab_type": "text"
      },
      "source": [
        "<a href=\"https://colab.research.google.com/github/ENG19CS0334-TEJAAL-M/Parkinson-Disease-Detection/blob/main/Predicting_Parkinson_s_Disease_Project_.ipynb\" target=\"_parent\"><img src=\"https://colab.research.google.com/assets/colab-badge.svg\" alt=\"Open In Colab\"/></a>"
      ]
    },
    {
      "cell_type": "markdown",
      "source": [
        "#**PARKINSON S DISEASE PREDICTION**\n",
        "###MINI PROJECT\n"
      ],
      "metadata": {
        "id": "9wMmwONEMS1b"
      }
    },
    {
      "cell_type": "markdown",
      "source": [
        "#**IMPORTING DATASET**"
      ],
      "metadata": {
        "id": "0sko5YGxMvqc"
      }
    },
    {
      "cell_type": "code",
      "execution_count": 1,
      "metadata": {
        "id": "FUNPzKkIMLSH"
      },
      "outputs": [],
      "source": [
        "import numpy as np\n",
        "import pandas as pd"
      ]
    },
    {
      "cell_type": "code",
      "source": [
        "df=pd.read_csv(\"/content/parkinsons.csv\");"
      ],
      "metadata": {
        "id": "aJFJZoV7M7dW"
      },
      "execution_count": 2,
      "outputs": []
    },
    {
      "cell_type": "code",
      "source": [
        "df.head()"
      ],
      "metadata": {
        "colab": {
          "base_uri": "https://localhost:8080/",
          "height": 300
        },
        "id": "hu3N7EiPNNeH",
        "outputId": "445e88ba-55ef-422d-8d39-62bd5180009d"
      },
      "execution_count": 3,
      "outputs": [
        {
          "output_type": "execute_result",
          "data": {
            "text/plain": [
              "             name  MDVP:Fo(Hz)  MDVP:Fhi(Hz)  MDVP:Flo(Hz)  MDVP:Jitter(%)  \\\n",
              "0  phon_R01_S01_1      119.992       157.302        74.997         0.00784   \n",
              "1  phon_R01_S01_2      122.400       148.650       113.819         0.00968   \n",
              "2  phon_R01_S01_3      116.682       131.111       111.555         0.01050   \n",
              "3  phon_R01_S01_4      116.676       137.871       111.366         0.00997   \n",
              "4  phon_R01_S01_5      116.014       141.781       110.655         0.01284   \n",
              "\n",
              "   MDVP:Jitter(Abs)  MDVP:RAP  MDVP:PPQ  Jitter:DDP  MDVP:Shimmer  ...  \\\n",
              "0           0.00007   0.00370   0.00554     0.01109       0.04374  ...   \n",
              "1           0.00008   0.00465   0.00696     0.01394       0.06134  ...   \n",
              "2           0.00009   0.00544   0.00781     0.01633       0.05233  ...   \n",
              "3           0.00009   0.00502   0.00698     0.01505       0.05492  ...   \n",
              "4           0.00011   0.00655   0.00908     0.01966       0.06425  ...   \n",
              "\n",
              "   Shimmer:DDA      NHR     HNR  status      RPDE       DFA   spread1  \\\n",
              "0      0.06545  0.02211  21.033       1  0.414783  0.815285 -4.813031   \n",
              "1      0.09403  0.01929  19.085       1  0.458359  0.819521 -4.075192   \n",
              "2      0.08270  0.01309  20.651       1  0.429895  0.825288 -4.443179   \n",
              "3      0.08771  0.01353  20.644       1  0.434969  0.819235 -4.117501   \n",
              "4      0.10470  0.01767  19.649       1  0.417356  0.823484 -3.747787   \n",
              "\n",
              "    spread2        D2       PPE  \n",
              "0  0.266482  2.301442  0.284654  \n",
              "1  0.335590  2.486855  0.368674  \n",
              "2  0.311173  2.342259  0.332634  \n",
              "3  0.334147  2.405554  0.368975  \n",
              "4  0.234513  2.332180  0.410335  \n",
              "\n",
              "[5 rows x 24 columns]"
            ],
            "text/html": [
              "\n",
              "  <div id=\"df-0b8ca3ea-dc50-468d-a3f1-6d2f3be854d3\">\n",
              "    <div class=\"colab-df-container\">\n",
              "      <div>\n",
              "<style scoped>\n",
              "    .dataframe tbody tr th:only-of-type {\n",
              "        vertical-align: middle;\n",
              "    }\n",
              "\n",
              "    .dataframe tbody tr th {\n",
              "        vertical-align: top;\n",
              "    }\n",
              "\n",
              "    .dataframe thead th {\n",
              "        text-align: right;\n",
              "    }\n",
              "</style>\n",
              "<table border=\"1\" class=\"dataframe\">\n",
              "  <thead>\n",
              "    <tr style=\"text-align: right;\">\n",
              "      <th></th>\n",
              "      <th>name</th>\n",
              "      <th>MDVP:Fo(Hz)</th>\n",
              "      <th>MDVP:Fhi(Hz)</th>\n",
              "      <th>MDVP:Flo(Hz)</th>\n",
              "      <th>MDVP:Jitter(%)</th>\n",
              "      <th>MDVP:Jitter(Abs)</th>\n",
              "      <th>MDVP:RAP</th>\n",
              "      <th>MDVP:PPQ</th>\n",
              "      <th>Jitter:DDP</th>\n",
              "      <th>MDVP:Shimmer</th>\n",
              "      <th>...</th>\n",
              "      <th>Shimmer:DDA</th>\n",
              "      <th>NHR</th>\n",
              "      <th>HNR</th>\n",
              "      <th>status</th>\n",
              "      <th>RPDE</th>\n",
              "      <th>DFA</th>\n",
              "      <th>spread1</th>\n",
              "      <th>spread2</th>\n",
              "      <th>D2</th>\n",
              "      <th>PPE</th>\n",
              "    </tr>\n",
              "  </thead>\n",
              "  <tbody>\n",
              "    <tr>\n",
              "      <th>0</th>\n",
              "      <td>phon_R01_S01_1</td>\n",
              "      <td>119.992</td>\n",
              "      <td>157.302</td>\n",
              "      <td>74.997</td>\n",
              "      <td>0.00784</td>\n",
              "      <td>0.00007</td>\n",
              "      <td>0.00370</td>\n",
              "      <td>0.00554</td>\n",
              "      <td>0.01109</td>\n",
              "      <td>0.04374</td>\n",
              "      <td>...</td>\n",
              "      <td>0.06545</td>\n",
              "      <td>0.02211</td>\n",
              "      <td>21.033</td>\n",
              "      <td>1</td>\n",
              "      <td>0.414783</td>\n",
              "      <td>0.815285</td>\n",
              "      <td>-4.813031</td>\n",
              "      <td>0.266482</td>\n",
              "      <td>2.301442</td>\n",
              "      <td>0.284654</td>\n",
              "    </tr>\n",
              "    <tr>\n",
              "      <th>1</th>\n",
              "      <td>phon_R01_S01_2</td>\n",
              "      <td>122.400</td>\n",
              "      <td>148.650</td>\n",
              "      <td>113.819</td>\n",
              "      <td>0.00968</td>\n",
              "      <td>0.00008</td>\n",
              "      <td>0.00465</td>\n",
              "      <td>0.00696</td>\n",
              "      <td>0.01394</td>\n",
              "      <td>0.06134</td>\n",
              "      <td>...</td>\n",
              "      <td>0.09403</td>\n",
              "      <td>0.01929</td>\n",
              "      <td>19.085</td>\n",
              "      <td>1</td>\n",
              "      <td>0.458359</td>\n",
              "      <td>0.819521</td>\n",
              "      <td>-4.075192</td>\n",
              "      <td>0.335590</td>\n",
              "      <td>2.486855</td>\n",
              "      <td>0.368674</td>\n",
              "    </tr>\n",
              "    <tr>\n",
              "      <th>2</th>\n",
              "      <td>phon_R01_S01_3</td>\n",
              "      <td>116.682</td>\n",
              "      <td>131.111</td>\n",
              "      <td>111.555</td>\n",
              "      <td>0.01050</td>\n",
              "      <td>0.00009</td>\n",
              "      <td>0.00544</td>\n",
              "      <td>0.00781</td>\n",
              "      <td>0.01633</td>\n",
              "      <td>0.05233</td>\n",
              "      <td>...</td>\n",
              "      <td>0.08270</td>\n",
              "      <td>0.01309</td>\n",
              "      <td>20.651</td>\n",
              "      <td>1</td>\n",
              "      <td>0.429895</td>\n",
              "      <td>0.825288</td>\n",
              "      <td>-4.443179</td>\n",
              "      <td>0.311173</td>\n",
              "      <td>2.342259</td>\n",
              "      <td>0.332634</td>\n",
              "    </tr>\n",
              "    <tr>\n",
              "      <th>3</th>\n",
              "      <td>phon_R01_S01_4</td>\n",
              "      <td>116.676</td>\n",
              "      <td>137.871</td>\n",
              "      <td>111.366</td>\n",
              "      <td>0.00997</td>\n",
              "      <td>0.00009</td>\n",
              "      <td>0.00502</td>\n",
              "      <td>0.00698</td>\n",
              "      <td>0.01505</td>\n",
              "      <td>0.05492</td>\n",
              "      <td>...</td>\n",
              "      <td>0.08771</td>\n",
              "      <td>0.01353</td>\n",
              "      <td>20.644</td>\n",
              "      <td>1</td>\n",
              "      <td>0.434969</td>\n",
              "      <td>0.819235</td>\n",
              "      <td>-4.117501</td>\n",
              "      <td>0.334147</td>\n",
              "      <td>2.405554</td>\n",
              "      <td>0.368975</td>\n",
              "    </tr>\n",
              "    <tr>\n",
              "      <th>4</th>\n",
              "      <td>phon_R01_S01_5</td>\n",
              "      <td>116.014</td>\n",
              "      <td>141.781</td>\n",
              "      <td>110.655</td>\n",
              "      <td>0.01284</td>\n",
              "      <td>0.00011</td>\n",
              "      <td>0.00655</td>\n",
              "      <td>0.00908</td>\n",
              "      <td>0.01966</td>\n",
              "      <td>0.06425</td>\n",
              "      <td>...</td>\n",
              "      <td>0.10470</td>\n",
              "      <td>0.01767</td>\n",
              "      <td>19.649</td>\n",
              "      <td>1</td>\n",
              "      <td>0.417356</td>\n",
              "      <td>0.823484</td>\n",
              "      <td>-3.747787</td>\n",
              "      <td>0.234513</td>\n",
              "      <td>2.332180</td>\n",
              "      <td>0.410335</td>\n",
              "    </tr>\n",
              "  </tbody>\n",
              "</table>\n",
              "<p>5 rows × 24 columns</p>\n",
              "</div>\n",
              "      <button class=\"colab-df-convert\" onclick=\"convertToInteractive('df-0b8ca3ea-dc50-468d-a3f1-6d2f3be854d3')\"\n",
              "              title=\"Convert this dataframe to an interactive table.\"\n",
              "              style=\"display:none;\">\n",
              "        \n",
              "  <svg xmlns=\"http://www.w3.org/2000/svg\" height=\"24px\"viewBox=\"0 0 24 24\"\n",
              "       width=\"24px\">\n",
              "    <path d=\"M0 0h24v24H0V0z\" fill=\"none\"/>\n",
              "    <path d=\"M18.56 5.44l.94 2.06.94-2.06 2.06-.94-2.06-.94-.94-2.06-.94 2.06-2.06.94zm-11 1L8.5 8.5l.94-2.06 2.06-.94-2.06-.94L8.5 2.5l-.94 2.06-2.06.94zm10 10l.94 2.06.94-2.06 2.06-.94-2.06-.94-.94-2.06-.94 2.06-2.06.94z\"/><path d=\"M17.41 7.96l-1.37-1.37c-.4-.4-.92-.59-1.43-.59-.52 0-1.04.2-1.43.59L10.3 9.45l-7.72 7.72c-.78.78-.78 2.05 0 2.83L4 21.41c.39.39.9.59 1.41.59.51 0 1.02-.2 1.41-.59l7.78-7.78 2.81-2.81c.8-.78.8-2.07 0-2.86zM5.41 20L4 18.59l7.72-7.72 1.47 1.35L5.41 20z\"/>\n",
              "  </svg>\n",
              "      </button>\n",
              "      \n",
              "  <style>\n",
              "    .colab-df-container {\n",
              "      display:flex;\n",
              "      flex-wrap:wrap;\n",
              "      gap: 12px;\n",
              "    }\n",
              "\n",
              "    .colab-df-convert {\n",
              "      background-color: #E8F0FE;\n",
              "      border: none;\n",
              "      border-radius: 50%;\n",
              "      cursor: pointer;\n",
              "      display: none;\n",
              "      fill: #1967D2;\n",
              "      height: 32px;\n",
              "      padding: 0 0 0 0;\n",
              "      width: 32px;\n",
              "    }\n",
              "\n",
              "    .colab-df-convert:hover {\n",
              "      background-color: #E2EBFA;\n",
              "      box-shadow: 0px 1px 2px rgba(60, 64, 67, 0.3), 0px 1px 3px 1px rgba(60, 64, 67, 0.15);\n",
              "      fill: #174EA6;\n",
              "    }\n",
              "\n",
              "    [theme=dark] .colab-df-convert {\n",
              "      background-color: #3B4455;\n",
              "      fill: #D2E3FC;\n",
              "    }\n",
              "\n",
              "    [theme=dark] .colab-df-convert:hover {\n",
              "      background-color: #434B5C;\n",
              "      box-shadow: 0px 1px 3px 1px rgba(0, 0, 0, 0.15);\n",
              "      filter: drop-shadow(0px 1px 2px rgba(0, 0, 0, 0.3));\n",
              "      fill: #FFFFFF;\n",
              "    }\n",
              "  </style>\n",
              "\n",
              "      <script>\n",
              "        const buttonEl =\n",
              "          document.querySelector('#df-0b8ca3ea-dc50-468d-a3f1-6d2f3be854d3 button.colab-df-convert');\n",
              "        buttonEl.style.display =\n",
              "          google.colab.kernel.accessAllowed ? 'block' : 'none';\n",
              "\n",
              "        async function convertToInteractive(key) {\n",
              "          const element = document.querySelector('#df-0b8ca3ea-dc50-468d-a3f1-6d2f3be854d3');\n",
              "          const dataTable =\n",
              "            await google.colab.kernel.invokeFunction('convertToInteractive',\n",
              "                                                     [key], {});\n",
              "          if (!dataTable) return;\n",
              "\n",
              "          const docLinkHtml = 'Like what you see? Visit the ' +\n",
              "            '<a target=\"_blank\" href=https://colab.research.google.com/notebooks/data_table.ipynb>data table notebook</a>'\n",
              "            + ' to learn more about interactive tables.';\n",
              "          element.innerHTML = '';\n",
              "          dataTable['output_type'] = 'display_data';\n",
              "          await google.colab.output.renderOutput(dataTable, element);\n",
              "          const docLink = document.createElement('div');\n",
              "          docLink.innerHTML = docLinkHtml;\n",
              "          element.appendChild(docLink);\n",
              "        }\n",
              "      </script>\n",
              "    </div>\n",
              "  </div>\n",
              "  "
            ]
          },
          "metadata": {},
          "execution_count": 3
        }
      ]
    },
    {
      "cell_type": "markdown",
      "source": [
        "###ATTRIBUTE INFORMATION\n",
        "\n",
        "Matrix column entries (attributes):\n",
        "\n",
        "name - ASCII subject name and recording number\n",
        "\n",
        "MDVP:Fo(Hz) - Average vocal fundamental frequency\n",
        "\n",
        "MDVP:Fhi(Hz) - Maximum vocal fundamental frequency\n",
        "\n",
        "MDVP:Flo(Hz) - Minimum vocal fundamental frequency\n",
        "\n",
        "MDVP:Jitter(%),MDVP:Jitter(Abs),MDVP:RAP,MDVP:PPQ,Jitter:DDP - Several\n",
        "measures of variation in fundamental frequency\n",
        "\n",
        "MDVP:Shimmer,\n",
        "\n",
        "MDVP:Shimmer(dB),\n",
        "\n",
        "Shimmer:APQ3,\n",
        "\n",
        "Shimmer:APQ5,\n",
        "\n",
        "MDVP:APQ,\n",
        "\n",
        "Shimmer:DDA - Several measures of variation in amplitude\n",
        "\n",
        "NHR,HNR - Two measures of ratio of noise to tonal components in the voice\n",
        "\n",
        "status - Health status of the subject (one) - Parkinson's, (zero) - healthy\n",
        "\n",
        "RPDE,D2 - Two nonlinear dynamical complexity measures\n",
        "\n",
        "DFA - Signal fractal scaling exponent\n",
        "\n",
        "spread1,spread2,PPE - Three nonlinear measures of fundamental frequency variation\n",
        "\n",
        "\n",
        "\n",
        "\n"
      ],
      "metadata": {
        "id": "bIjd3ORDNjxO"
      }
    },
    {
      "cell_type": "markdown",
      "source": [
        "#**DATA CLEANING**"
      ],
      "metadata": {
        "id": "bkMgifS6OyBZ"
      }
    },
    {
      "cell_type": "code",
      "source": [
        "df"
      ],
      "metadata": {
        "colab": {
          "base_uri": "https://localhost:8080/",
          "height": 488
        },
        "id": "IxQgWKAsNW1w",
        "outputId": "35c8ca25-0746-49d2-b359-f6d57226fafc"
      },
      "execution_count": 4,
      "outputs": [
        {
          "output_type": "execute_result",
          "data": {
            "text/plain": [
              "               name  MDVP:Fo(Hz)  MDVP:Fhi(Hz)  MDVP:Flo(Hz)  MDVP:Jitter(%)  \\\n",
              "0    phon_R01_S01_1      119.992       157.302        74.997         0.00784   \n",
              "1    phon_R01_S01_2      122.400       148.650       113.819         0.00968   \n",
              "2    phon_R01_S01_3      116.682       131.111       111.555         0.01050   \n",
              "3    phon_R01_S01_4      116.676       137.871       111.366         0.00997   \n",
              "4    phon_R01_S01_5      116.014       141.781       110.655         0.01284   \n",
              "..              ...          ...           ...           ...             ...   \n",
              "190  phon_R01_S50_2      174.188       230.978        94.261         0.00459   \n",
              "191  phon_R01_S50_3      209.516       253.017        89.488         0.00564   \n",
              "192  phon_R01_S50_4      174.688       240.005        74.287         0.01360   \n",
              "193  phon_R01_S50_5      198.764       396.961        74.904         0.00740   \n",
              "194  phon_R01_S50_6      214.289       260.277        77.973         0.00567   \n",
              "\n",
              "     MDVP:Jitter(Abs)  MDVP:RAP  MDVP:PPQ  Jitter:DDP  MDVP:Shimmer  ...  \\\n",
              "0             0.00007   0.00370   0.00554     0.01109       0.04374  ...   \n",
              "1             0.00008   0.00465   0.00696     0.01394       0.06134  ...   \n",
              "2             0.00009   0.00544   0.00781     0.01633       0.05233  ...   \n",
              "3             0.00009   0.00502   0.00698     0.01505       0.05492  ...   \n",
              "4             0.00011   0.00655   0.00908     0.01966       0.06425  ...   \n",
              "..                ...       ...       ...         ...           ...  ...   \n",
              "190           0.00003   0.00263   0.00259     0.00790       0.04087  ...   \n",
              "191           0.00003   0.00331   0.00292     0.00994       0.02751  ...   \n",
              "192           0.00008   0.00624   0.00564     0.01873       0.02308  ...   \n",
              "193           0.00004   0.00370   0.00390     0.01109       0.02296  ...   \n",
              "194           0.00003   0.00295   0.00317     0.00885       0.01884  ...   \n",
              "\n",
              "     Shimmer:DDA      NHR     HNR  status      RPDE       DFA   spread1  \\\n",
              "0        0.06545  0.02211  21.033       1  0.414783  0.815285 -4.813031   \n",
              "1        0.09403  0.01929  19.085       1  0.458359  0.819521 -4.075192   \n",
              "2        0.08270  0.01309  20.651       1  0.429895  0.825288 -4.443179   \n",
              "3        0.08771  0.01353  20.644       1  0.434969  0.819235 -4.117501   \n",
              "4        0.10470  0.01767  19.649       1  0.417356  0.823484 -3.747787   \n",
              "..           ...      ...     ...     ...       ...       ...       ...   \n",
              "190      0.07008  0.02764  19.517       0  0.448439  0.657899 -6.538586   \n",
              "191      0.04812  0.01810  19.147       0  0.431674  0.683244 -6.195325   \n",
              "192      0.03804  0.10715  17.883       0  0.407567  0.655683 -6.787197   \n",
              "193      0.03794  0.07223  19.020       0  0.451221  0.643956 -6.744577   \n",
              "194      0.03078  0.04398  21.209       0  0.462803  0.664357 -5.724056   \n",
              "\n",
              "      spread2        D2       PPE  \n",
              "0    0.266482  2.301442  0.284654  \n",
              "1    0.335590  2.486855  0.368674  \n",
              "2    0.311173  2.342259  0.332634  \n",
              "3    0.334147  2.405554  0.368975  \n",
              "4    0.234513  2.332180  0.410335  \n",
              "..        ...       ...       ...  \n",
              "190  0.121952  2.657476  0.133050  \n",
              "191  0.129303  2.784312  0.168895  \n",
              "192  0.158453  2.679772  0.131728  \n",
              "193  0.207454  2.138608  0.123306  \n",
              "194  0.190667  2.555477  0.148569  \n",
              "\n",
              "[195 rows x 24 columns]"
            ],
            "text/html": [
              "\n",
              "  <div id=\"df-39a6e94c-b173-46c0-955e-351752fc7f6f\">\n",
              "    <div class=\"colab-df-container\">\n",
              "      <div>\n",
              "<style scoped>\n",
              "    .dataframe tbody tr th:only-of-type {\n",
              "        vertical-align: middle;\n",
              "    }\n",
              "\n",
              "    .dataframe tbody tr th {\n",
              "        vertical-align: top;\n",
              "    }\n",
              "\n",
              "    .dataframe thead th {\n",
              "        text-align: right;\n",
              "    }\n",
              "</style>\n",
              "<table border=\"1\" class=\"dataframe\">\n",
              "  <thead>\n",
              "    <tr style=\"text-align: right;\">\n",
              "      <th></th>\n",
              "      <th>name</th>\n",
              "      <th>MDVP:Fo(Hz)</th>\n",
              "      <th>MDVP:Fhi(Hz)</th>\n",
              "      <th>MDVP:Flo(Hz)</th>\n",
              "      <th>MDVP:Jitter(%)</th>\n",
              "      <th>MDVP:Jitter(Abs)</th>\n",
              "      <th>MDVP:RAP</th>\n",
              "      <th>MDVP:PPQ</th>\n",
              "      <th>Jitter:DDP</th>\n",
              "      <th>MDVP:Shimmer</th>\n",
              "      <th>...</th>\n",
              "      <th>Shimmer:DDA</th>\n",
              "      <th>NHR</th>\n",
              "      <th>HNR</th>\n",
              "      <th>status</th>\n",
              "      <th>RPDE</th>\n",
              "      <th>DFA</th>\n",
              "      <th>spread1</th>\n",
              "      <th>spread2</th>\n",
              "      <th>D2</th>\n",
              "      <th>PPE</th>\n",
              "    </tr>\n",
              "  </thead>\n",
              "  <tbody>\n",
              "    <tr>\n",
              "      <th>0</th>\n",
              "      <td>phon_R01_S01_1</td>\n",
              "      <td>119.992</td>\n",
              "      <td>157.302</td>\n",
              "      <td>74.997</td>\n",
              "      <td>0.00784</td>\n",
              "      <td>0.00007</td>\n",
              "      <td>0.00370</td>\n",
              "      <td>0.00554</td>\n",
              "      <td>0.01109</td>\n",
              "      <td>0.04374</td>\n",
              "      <td>...</td>\n",
              "      <td>0.06545</td>\n",
              "      <td>0.02211</td>\n",
              "      <td>21.033</td>\n",
              "      <td>1</td>\n",
              "      <td>0.414783</td>\n",
              "      <td>0.815285</td>\n",
              "      <td>-4.813031</td>\n",
              "      <td>0.266482</td>\n",
              "      <td>2.301442</td>\n",
              "      <td>0.284654</td>\n",
              "    </tr>\n",
              "    <tr>\n",
              "      <th>1</th>\n",
              "      <td>phon_R01_S01_2</td>\n",
              "      <td>122.400</td>\n",
              "      <td>148.650</td>\n",
              "      <td>113.819</td>\n",
              "      <td>0.00968</td>\n",
              "      <td>0.00008</td>\n",
              "      <td>0.00465</td>\n",
              "      <td>0.00696</td>\n",
              "      <td>0.01394</td>\n",
              "      <td>0.06134</td>\n",
              "      <td>...</td>\n",
              "      <td>0.09403</td>\n",
              "      <td>0.01929</td>\n",
              "      <td>19.085</td>\n",
              "      <td>1</td>\n",
              "      <td>0.458359</td>\n",
              "      <td>0.819521</td>\n",
              "      <td>-4.075192</td>\n",
              "      <td>0.335590</td>\n",
              "      <td>2.486855</td>\n",
              "      <td>0.368674</td>\n",
              "    </tr>\n",
              "    <tr>\n",
              "      <th>2</th>\n",
              "      <td>phon_R01_S01_3</td>\n",
              "      <td>116.682</td>\n",
              "      <td>131.111</td>\n",
              "      <td>111.555</td>\n",
              "      <td>0.01050</td>\n",
              "      <td>0.00009</td>\n",
              "      <td>0.00544</td>\n",
              "      <td>0.00781</td>\n",
              "      <td>0.01633</td>\n",
              "      <td>0.05233</td>\n",
              "      <td>...</td>\n",
              "      <td>0.08270</td>\n",
              "      <td>0.01309</td>\n",
              "      <td>20.651</td>\n",
              "      <td>1</td>\n",
              "      <td>0.429895</td>\n",
              "      <td>0.825288</td>\n",
              "      <td>-4.443179</td>\n",
              "      <td>0.311173</td>\n",
              "      <td>2.342259</td>\n",
              "      <td>0.332634</td>\n",
              "    </tr>\n",
              "    <tr>\n",
              "      <th>3</th>\n",
              "      <td>phon_R01_S01_4</td>\n",
              "      <td>116.676</td>\n",
              "      <td>137.871</td>\n",
              "      <td>111.366</td>\n",
              "      <td>0.00997</td>\n",
              "      <td>0.00009</td>\n",
              "      <td>0.00502</td>\n",
              "      <td>0.00698</td>\n",
              "      <td>0.01505</td>\n",
              "      <td>0.05492</td>\n",
              "      <td>...</td>\n",
              "      <td>0.08771</td>\n",
              "      <td>0.01353</td>\n",
              "      <td>20.644</td>\n",
              "      <td>1</td>\n",
              "      <td>0.434969</td>\n",
              "      <td>0.819235</td>\n",
              "      <td>-4.117501</td>\n",
              "      <td>0.334147</td>\n",
              "      <td>2.405554</td>\n",
              "      <td>0.368975</td>\n",
              "    </tr>\n",
              "    <tr>\n",
              "      <th>4</th>\n",
              "      <td>phon_R01_S01_5</td>\n",
              "      <td>116.014</td>\n",
              "      <td>141.781</td>\n",
              "      <td>110.655</td>\n",
              "      <td>0.01284</td>\n",
              "      <td>0.00011</td>\n",
              "      <td>0.00655</td>\n",
              "      <td>0.00908</td>\n",
              "      <td>0.01966</td>\n",
              "      <td>0.06425</td>\n",
              "      <td>...</td>\n",
              "      <td>0.10470</td>\n",
              "      <td>0.01767</td>\n",
              "      <td>19.649</td>\n",
              "      <td>1</td>\n",
              "      <td>0.417356</td>\n",
              "      <td>0.823484</td>\n",
              "      <td>-3.747787</td>\n",
              "      <td>0.234513</td>\n",
              "      <td>2.332180</td>\n",
              "      <td>0.410335</td>\n",
              "    </tr>\n",
              "    <tr>\n",
              "      <th>...</th>\n",
              "      <td>...</td>\n",
              "      <td>...</td>\n",
              "      <td>...</td>\n",
              "      <td>...</td>\n",
              "      <td>...</td>\n",
              "      <td>...</td>\n",
              "      <td>...</td>\n",
              "      <td>...</td>\n",
              "      <td>...</td>\n",
              "      <td>...</td>\n",
              "      <td>...</td>\n",
              "      <td>...</td>\n",
              "      <td>...</td>\n",
              "      <td>...</td>\n",
              "      <td>...</td>\n",
              "      <td>...</td>\n",
              "      <td>...</td>\n",
              "      <td>...</td>\n",
              "      <td>...</td>\n",
              "      <td>...</td>\n",
              "      <td>...</td>\n",
              "    </tr>\n",
              "    <tr>\n",
              "      <th>190</th>\n",
              "      <td>phon_R01_S50_2</td>\n",
              "      <td>174.188</td>\n",
              "      <td>230.978</td>\n",
              "      <td>94.261</td>\n",
              "      <td>0.00459</td>\n",
              "      <td>0.00003</td>\n",
              "      <td>0.00263</td>\n",
              "      <td>0.00259</td>\n",
              "      <td>0.00790</td>\n",
              "      <td>0.04087</td>\n",
              "      <td>...</td>\n",
              "      <td>0.07008</td>\n",
              "      <td>0.02764</td>\n",
              "      <td>19.517</td>\n",
              "      <td>0</td>\n",
              "      <td>0.448439</td>\n",
              "      <td>0.657899</td>\n",
              "      <td>-6.538586</td>\n",
              "      <td>0.121952</td>\n",
              "      <td>2.657476</td>\n",
              "      <td>0.133050</td>\n",
              "    </tr>\n",
              "    <tr>\n",
              "      <th>191</th>\n",
              "      <td>phon_R01_S50_3</td>\n",
              "      <td>209.516</td>\n",
              "      <td>253.017</td>\n",
              "      <td>89.488</td>\n",
              "      <td>0.00564</td>\n",
              "      <td>0.00003</td>\n",
              "      <td>0.00331</td>\n",
              "      <td>0.00292</td>\n",
              "      <td>0.00994</td>\n",
              "      <td>0.02751</td>\n",
              "      <td>...</td>\n",
              "      <td>0.04812</td>\n",
              "      <td>0.01810</td>\n",
              "      <td>19.147</td>\n",
              "      <td>0</td>\n",
              "      <td>0.431674</td>\n",
              "      <td>0.683244</td>\n",
              "      <td>-6.195325</td>\n",
              "      <td>0.129303</td>\n",
              "      <td>2.784312</td>\n",
              "      <td>0.168895</td>\n",
              "    </tr>\n",
              "    <tr>\n",
              "      <th>192</th>\n",
              "      <td>phon_R01_S50_4</td>\n",
              "      <td>174.688</td>\n",
              "      <td>240.005</td>\n",
              "      <td>74.287</td>\n",
              "      <td>0.01360</td>\n",
              "      <td>0.00008</td>\n",
              "      <td>0.00624</td>\n",
              "      <td>0.00564</td>\n",
              "      <td>0.01873</td>\n",
              "      <td>0.02308</td>\n",
              "      <td>...</td>\n",
              "      <td>0.03804</td>\n",
              "      <td>0.10715</td>\n",
              "      <td>17.883</td>\n",
              "      <td>0</td>\n",
              "      <td>0.407567</td>\n",
              "      <td>0.655683</td>\n",
              "      <td>-6.787197</td>\n",
              "      <td>0.158453</td>\n",
              "      <td>2.679772</td>\n",
              "      <td>0.131728</td>\n",
              "    </tr>\n",
              "    <tr>\n",
              "      <th>193</th>\n",
              "      <td>phon_R01_S50_5</td>\n",
              "      <td>198.764</td>\n",
              "      <td>396.961</td>\n",
              "      <td>74.904</td>\n",
              "      <td>0.00740</td>\n",
              "      <td>0.00004</td>\n",
              "      <td>0.00370</td>\n",
              "      <td>0.00390</td>\n",
              "      <td>0.01109</td>\n",
              "      <td>0.02296</td>\n",
              "      <td>...</td>\n",
              "      <td>0.03794</td>\n",
              "      <td>0.07223</td>\n",
              "      <td>19.020</td>\n",
              "      <td>0</td>\n",
              "      <td>0.451221</td>\n",
              "      <td>0.643956</td>\n",
              "      <td>-6.744577</td>\n",
              "      <td>0.207454</td>\n",
              "      <td>2.138608</td>\n",
              "      <td>0.123306</td>\n",
              "    </tr>\n",
              "    <tr>\n",
              "      <th>194</th>\n",
              "      <td>phon_R01_S50_6</td>\n",
              "      <td>214.289</td>\n",
              "      <td>260.277</td>\n",
              "      <td>77.973</td>\n",
              "      <td>0.00567</td>\n",
              "      <td>0.00003</td>\n",
              "      <td>0.00295</td>\n",
              "      <td>0.00317</td>\n",
              "      <td>0.00885</td>\n",
              "      <td>0.01884</td>\n",
              "      <td>...</td>\n",
              "      <td>0.03078</td>\n",
              "      <td>0.04398</td>\n",
              "      <td>21.209</td>\n",
              "      <td>0</td>\n",
              "      <td>0.462803</td>\n",
              "      <td>0.664357</td>\n",
              "      <td>-5.724056</td>\n",
              "      <td>0.190667</td>\n",
              "      <td>2.555477</td>\n",
              "      <td>0.148569</td>\n",
              "    </tr>\n",
              "  </tbody>\n",
              "</table>\n",
              "<p>195 rows × 24 columns</p>\n",
              "</div>\n",
              "      <button class=\"colab-df-convert\" onclick=\"convertToInteractive('df-39a6e94c-b173-46c0-955e-351752fc7f6f')\"\n",
              "              title=\"Convert this dataframe to an interactive table.\"\n",
              "              style=\"display:none;\">\n",
              "        \n",
              "  <svg xmlns=\"http://www.w3.org/2000/svg\" height=\"24px\"viewBox=\"0 0 24 24\"\n",
              "       width=\"24px\">\n",
              "    <path d=\"M0 0h24v24H0V0z\" fill=\"none\"/>\n",
              "    <path d=\"M18.56 5.44l.94 2.06.94-2.06 2.06-.94-2.06-.94-.94-2.06-.94 2.06-2.06.94zm-11 1L8.5 8.5l.94-2.06 2.06-.94-2.06-.94L8.5 2.5l-.94 2.06-2.06.94zm10 10l.94 2.06.94-2.06 2.06-.94-2.06-.94-.94-2.06-.94 2.06-2.06.94z\"/><path d=\"M17.41 7.96l-1.37-1.37c-.4-.4-.92-.59-1.43-.59-.52 0-1.04.2-1.43.59L10.3 9.45l-7.72 7.72c-.78.78-.78 2.05 0 2.83L4 21.41c.39.39.9.59 1.41.59.51 0 1.02-.2 1.41-.59l7.78-7.78 2.81-2.81c.8-.78.8-2.07 0-2.86zM5.41 20L4 18.59l7.72-7.72 1.47 1.35L5.41 20z\"/>\n",
              "  </svg>\n",
              "      </button>\n",
              "      \n",
              "  <style>\n",
              "    .colab-df-container {\n",
              "      display:flex;\n",
              "      flex-wrap:wrap;\n",
              "      gap: 12px;\n",
              "    }\n",
              "\n",
              "    .colab-df-convert {\n",
              "      background-color: #E8F0FE;\n",
              "      border: none;\n",
              "      border-radius: 50%;\n",
              "      cursor: pointer;\n",
              "      display: none;\n",
              "      fill: #1967D2;\n",
              "      height: 32px;\n",
              "      padding: 0 0 0 0;\n",
              "      width: 32px;\n",
              "    }\n",
              "\n",
              "    .colab-df-convert:hover {\n",
              "      background-color: #E2EBFA;\n",
              "      box-shadow: 0px 1px 2px rgba(60, 64, 67, 0.3), 0px 1px 3px 1px rgba(60, 64, 67, 0.15);\n",
              "      fill: #174EA6;\n",
              "    }\n",
              "\n",
              "    [theme=dark] .colab-df-convert {\n",
              "      background-color: #3B4455;\n",
              "      fill: #D2E3FC;\n",
              "    }\n",
              "\n",
              "    [theme=dark] .colab-df-convert:hover {\n",
              "      background-color: #434B5C;\n",
              "      box-shadow: 0px 1px 3px 1px rgba(0, 0, 0, 0.15);\n",
              "      filter: drop-shadow(0px 1px 2px rgba(0, 0, 0, 0.3));\n",
              "      fill: #FFFFFF;\n",
              "    }\n",
              "  </style>\n",
              "\n",
              "      <script>\n",
              "        const buttonEl =\n",
              "          document.querySelector('#df-39a6e94c-b173-46c0-955e-351752fc7f6f button.colab-df-convert');\n",
              "        buttonEl.style.display =\n",
              "          google.colab.kernel.accessAllowed ? 'block' : 'none';\n",
              "\n",
              "        async function convertToInteractive(key) {\n",
              "          const element = document.querySelector('#df-39a6e94c-b173-46c0-955e-351752fc7f6f');\n",
              "          const dataTable =\n",
              "            await google.colab.kernel.invokeFunction('convertToInteractive',\n",
              "                                                     [key], {});\n",
              "          if (!dataTable) return;\n",
              "\n",
              "          const docLinkHtml = 'Like what you see? Visit the ' +\n",
              "            '<a target=\"_blank\" href=https://colab.research.google.com/notebooks/data_table.ipynb>data table notebook</a>'\n",
              "            + ' to learn more about interactive tables.';\n",
              "          element.innerHTML = '';\n",
              "          dataTable['output_type'] = 'display_data';\n",
              "          await google.colab.output.renderOutput(dataTable, element);\n",
              "          const docLink = document.createElement('div');\n",
              "          docLink.innerHTML = docLinkHtml;\n",
              "          element.appendChild(docLink);\n",
              "        }\n",
              "      </script>\n",
              "    </div>\n",
              "  </div>\n",
              "  "
            ]
          },
          "metadata": {},
          "execution_count": 4
        }
      ]
    },
    {
      "cell_type": "code",
      "source": [
        "len(df.name.unique())"
      ],
      "metadata": {
        "colab": {
          "base_uri": "https://localhost:8080/"
        },
        "id": "5ppcWSMuO5Re",
        "outputId": "7d36803f-19cd-4a35-ef67-002bde5417fc"
      },
      "execution_count": 5,
      "outputs": [
        {
          "output_type": "execute_result",
          "data": {
            "text/plain": [
              "195"
            ]
          },
          "metadata": {},
          "execution_count": 5
        }
      ]
    },
    {
      "cell_type": "markdown",
      "source": [
        "name variable is not required since all are unique so we shall remove it\n"
      ],
      "metadata": {
        "id": "EqN3XZSfPWsr"
      }
    },
    {
      "cell_type": "code",
      "source": [
        "len(df.status.unique())\n",
        "#either 1 or 0"
      ],
      "metadata": {
        "colab": {
          "base_uri": "https://localhost:8080/"
        },
        "id": "Bp7BGyDJO-Jw",
        "outputId": "9c0dd750-ae42-4db4-f058-83c351d217be"
      },
      "execution_count": 6,
      "outputs": [
        {
          "output_type": "execute_result",
          "data": {
            "text/plain": [
              "2"
            ]
          },
          "metadata": {},
          "execution_count": 6
        }
      ]
    },
    {
      "cell_type": "code",
      "source": [
        "df=df.drop(['name'],axis=1)"
      ],
      "metadata": {
        "id": "5BAiwGhTPphQ"
      },
      "execution_count": 7,
      "outputs": []
    },
    {
      "cell_type": "code",
      "source": [
        "df"
      ],
      "metadata": {
        "colab": {
          "base_uri": "https://localhost:8080/",
          "height": 488
        },
        "id": "cSd-iK9JP4uA",
        "outputId": "a974971d-4bd6-4336-a552-295b8f04833c"
      },
      "execution_count": 8,
      "outputs": [
        {
          "output_type": "execute_result",
          "data": {
            "text/plain": [
              "     MDVP:Fo(Hz)  MDVP:Fhi(Hz)  MDVP:Flo(Hz)  MDVP:Jitter(%)  \\\n",
              "0        119.992       157.302        74.997         0.00784   \n",
              "1        122.400       148.650       113.819         0.00968   \n",
              "2        116.682       131.111       111.555         0.01050   \n",
              "3        116.676       137.871       111.366         0.00997   \n",
              "4        116.014       141.781       110.655         0.01284   \n",
              "..           ...           ...           ...             ...   \n",
              "190      174.188       230.978        94.261         0.00459   \n",
              "191      209.516       253.017        89.488         0.00564   \n",
              "192      174.688       240.005        74.287         0.01360   \n",
              "193      198.764       396.961        74.904         0.00740   \n",
              "194      214.289       260.277        77.973         0.00567   \n",
              "\n",
              "     MDVP:Jitter(Abs)  MDVP:RAP  MDVP:PPQ  Jitter:DDP  MDVP:Shimmer  \\\n",
              "0             0.00007   0.00370   0.00554     0.01109       0.04374   \n",
              "1             0.00008   0.00465   0.00696     0.01394       0.06134   \n",
              "2             0.00009   0.00544   0.00781     0.01633       0.05233   \n",
              "3             0.00009   0.00502   0.00698     0.01505       0.05492   \n",
              "4             0.00011   0.00655   0.00908     0.01966       0.06425   \n",
              "..                ...       ...       ...         ...           ...   \n",
              "190           0.00003   0.00263   0.00259     0.00790       0.04087   \n",
              "191           0.00003   0.00331   0.00292     0.00994       0.02751   \n",
              "192           0.00008   0.00624   0.00564     0.01873       0.02308   \n",
              "193           0.00004   0.00370   0.00390     0.01109       0.02296   \n",
              "194           0.00003   0.00295   0.00317     0.00885       0.01884   \n",
              "\n",
              "     MDVP:Shimmer(dB)  ...  Shimmer:DDA      NHR     HNR  status      RPDE  \\\n",
              "0               0.426  ...      0.06545  0.02211  21.033       1  0.414783   \n",
              "1               0.626  ...      0.09403  0.01929  19.085       1  0.458359   \n",
              "2               0.482  ...      0.08270  0.01309  20.651       1  0.429895   \n",
              "3               0.517  ...      0.08771  0.01353  20.644       1  0.434969   \n",
              "4               0.584  ...      0.10470  0.01767  19.649       1  0.417356   \n",
              "..                ...  ...          ...      ...     ...     ...       ...   \n",
              "190             0.405  ...      0.07008  0.02764  19.517       0  0.448439   \n",
              "191             0.263  ...      0.04812  0.01810  19.147       0  0.431674   \n",
              "192             0.256  ...      0.03804  0.10715  17.883       0  0.407567   \n",
              "193             0.241  ...      0.03794  0.07223  19.020       0  0.451221   \n",
              "194             0.190  ...      0.03078  0.04398  21.209       0  0.462803   \n",
              "\n",
              "          DFA   spread1   spread2        D2       PPE  \n",
              "0    0.815285 -4.813031  0.266482  2.301442  0.284654  \n",
              "1    0.819521 -4.075192  0.335590  2.486855  0.368674  \n",
              "2    0.825288 -4.443179  0.311173  2.342259  0.332634  \n",
              "3    0.819235 -4.117501  0.334147  2.405554  0.368975  \n",
              "4    0.823484 -3.747787  0.234513  2.332180  0.410335  \n",
              "..        ...       ...       ...       ...       ...  \n",
              "190  0.657899 -6.538586  0.121952  2.657476  0.133050  \n",
              "191  0.683244 -6.195325  0.129303  2.784312  0.168895  \n",
              "192  0.655683 -6.787197  0.158453  2.679772  0.131728  \n",
              "193  0.643956 -6.744577  0.207454  2.138608  0.123306  \n",
              "194  0.664357 -5.724056  0.190667  2.555477  0.148569  \n",
              "\n",
              "[195 rows x 23 columns]"
            ],
            "text/html": [
              "\n",
              "  <div id=\"df-c0ce4d6b-41b7-4be3-bd1b-24b246db3523\">\n",
              "    <div class=\"colab-df-container\">\n",
              "      <div>\n",
              "<style scoped>\n",
              "    .dataframe tbody tr th:only-of-type {\n",
              "        vertical-align: middle;\n",
              "    }\n",
              "\n",
              "    .dataframe tbody tr th {\n",
              "        vertical-align: top;\n",
              "    }\n",
              "\n",
              "    .dataframe thead th {\n",
              "        text-align: right;\n",
              "    }\n",
              "</style>\n",
              "<table border=\"1\" class=\"dataframe\">\n",
              "  <thead>\n",
              "    <tr style=\"text-align: right;\">\n",
              "      <th></th>\n",
              "      <th>MDVP:Fo(Hz)</th>\n",
              "      <th>MDVP:Fhi(Hz)</th>\n",
              "      <th>MDVP:Flo(Hz)</th>\n",
              "      <th>MDVP:Jitter(%)</th>\n",
              "      <th>MDVP:Jitter(Abs)</th>\n",
              "      <th>MDVP:RAP</th>\n",
              "      <th>MDVP:PPQ</th>\n",
              "      <th>Jitter:DDP</th>\n",
              "      <th>MDVP:Shimmer</th>\n",
              "      <th>MDVP:Shimmer(dB)</th>\n",
              "      <th>...</th>\n",
              "      <th>Shimmer:DDA</th>\n",
              "      <th>NHR</th>\n",
              "      <th>HNR</th>\n",
              "      <th>status</th>\n",
              "      <th>RPDE</th>\n",
              "      <th>DFA</th>\n",
              "      <th>spread1</th>\n",
              "      <th>spread2</th>\n",
              "      <th>D2</th>\n",
              "      <th>PPE</th>\n",
              "    </tr>\n",
              "  </thead>\n",
              "  <tbody>\n",
              "    <tr>\n",
              "      <th>0</th>\n",
              "      <td>119.992</td>\n",
              "      <td>157.302</td>\n",
              "      <td>74.997</td>\n",
              "      <td>0.00784</td>\n",
              "      <td>0.00007</td>\n",
              "      <td>0.00370</td>\n",
              "      <td>0.00554</td>\n",
              "      <td>0.01109</td>\n",
              "      <td>0.04374</td>\n",
              "      <td>0.426</td>\n",
              "      <td>...</td>\n",
              "      <td>0.06545</td>\n",
              "      <td>0.02211</td>\n",
              "      <td>21.033</td>\n",
              "      <td>1</td>\n",
              "      <td>0.414783</td>\n",
              "      <td>0.815285</td>\n",
              "      <td>-4.813031</td>\n",
              "      <td>0.266482</td>\n",
              "      <td>2.301442</td>\n",
              "      <td>0.284654</td>\n",
              "    </tr>\n",
              "    <tr>\n",
              "      <th>1</th>\n",
              "      <td>122.400</td>\n",
              "      <td>148.650</td>\n",
              "      <td>113.819</td>\n",
              "      <td>0.00968</td>\n",
              "      <td>0.00008</td>\n",
              "      <td>0.00465</td>\n",
              "      <td>0.00696</td>\n",
              "      <td>0.01394</td>\n",
              "      <td>0.06134</td>\n",
              "      <td>0.626</td>\n",
              "      <td>...</td>\n",
              "      <td>0.09403</td>\n",
              "      <td>0.01929</td>\n",
              "      <td>19.085</td>\n",
              "      <td>1</td>\n",
              "      <td>0.458359</td>\n",
              "      <td>0.819521</td>\n",
              "      <td>-4.075192</td>\n",
              "      <td>0.335590</td>\n",
              "      <td>2.486855</td>\n",
              "      <td>0.368674</td>\n",
              "    </tr>\n",
              "    <tr>\n",
              "      <th>2</th>\n",
              "      <td>116.682</td>\n",
              "      <td>131.111</td>\n",
              "      <td>111.555</td>\n",
              "      <td>0.01050</td>\n",
              "      <td>0.00009</td>\n",
              "      <td>0.00544</td>\n",
              "      <td>0.00781</td>\n",
              "      <td>0.01633</td>\n",
              "      <td>0.05233</td>\n",
              "      <td>0.482</td>\n",
              "      <td>...</td>\n",
              "      <td>0.08270</td>\n",
              "      <td>0.01309</td>\n",
              "      <td>20.651</td>\n",
              "      <td>1</td>\n",
              "      <td>0.429895</td>\n",
              "      <td>0.825288</td>\n",
              "      <td>-4.443179</td>\n",
              "      <td>0.311173</td>\n",
              "      <td>2.342259</td>\n",
              "      <td>0.332634</td>\n",
              "    </tr>\n",
              "    <tr>\n",
              "      <th>3</th>\n",
              "      <td>116.676</td>\n",
              "      <td>137.871</td>\n",
              "      <td>111.366</td>\n",
              "      <td>0.00997</td>\n",
              "      <td>0.00009</td>\n",
              "      <td>0.00502</td>\n",
              "      <td>0.00698</td>\n",
              "      <td>0.01505</td>\n",
              "      <td>0.05492</td>\n",
              "      <td>0.517</td>\n",
              "      <td>...</td>\n",
              "      <td>0.08771</td>\n",
              "      <td>0.01353</td>\n",
              "      <td>20.644</td>\n",
              "      <td>1</td>\n",
              "      <td>0.434969</td>\n",
              "      <td>0.819235</td>\n",
              "      <td>-4.117501</td>\n",
              "      <td>0.334147</td>\n",
              "      <td>2.405554</td>\n",
              "      <td>0.368975</td>\n",
              "    </tr>\n",
              "    <tr>\n",
              "      <th>4</th>\n",
              "      <td>116.014</td>\n",
              "      <td>141.781</td>\n",
              "      <td>110.655</td>\n",
              "      <td>0.01284</td>\n",
              "      <td>0.00011</td>\n",
              "      <td>0.00655</td>\n",
              "      <td>0.00908</td>\n",
              "      <td>0.01966</td>\n",
              "      <td>0.06425</td>\n",
              "      <td>0.584</td>\n",
              "      <td>...</td>\n",
              "      <td>0.10470</td>\n",
              "      <td>0.01767</td>\n",
              "      <td>19.649</td>\n",
              "      <td>1</td>\n",
              "      <td>0.417356</td>\n",
              "      <td>0.823484</td>\n",
              "      <td>-3.747787</td>\n",
              "      <td>0.234513</td>\n",
              "      <td>2.332180</td>\n",
              "      <td>0.410335</td>\n",
              "    </tr>\n",
              "    <tr>\n",
              "      <th>...</th>\n",
              "      <td>...</td>\n",
              "      <td>...</td>\n",
              "      <td>...</td>\n",
              "      <td>...</td>\n",
              "      <td>...</td>\n",
              "      <td>...</td>\n",
              "      <td>...</td>\n",
              "      <td>...</td>\n",
              "      <td>...</td>\n",
              "      <td>...</td>\n",
              "      <td>...</td>\n",
              "      <td>...</td>\n",
              "      <td>...</td>\n",
              "      <td>...</td>\n",
              "      <td>...</td>\n",
              "      <td>...</td>\n",
              "      <td>...</td>\n",
              "      <td>...</td>\n",
              "      <td>...</td>\n",
              "      <td>...</td>\n",
              "      <td>...</td>\n",
              "    </tr>\n",
              "    <tr>\n",
              "      <th>190</th>\n",
              "      <td>174.188</td>\n",
              "      <td>230.978</td>\n",
              "      <td>94.261</td>\n",
              "      <td>0.00459</td>\n",
              "      <td>0.00003</td>\n",
              "      <td>0.00263</td>\n",
              "      <td>0.00259</td>\n",
              "      <td>0.00790</td>\n",
              "      <td>0.04087</td>\n",
              "      <td>0.405</td>\n",
              "      <td>...</td>\n",
              "      <td>0.07008</td>\n",
              "      <td>0.02764</td>\n",
              "      <td>19.517</td>\n",
              "      <td>0</td>\n",
              "      <td>0.448439</td>\n",
              "      <td>0.657899</td>\n",
              "      <td>-6.538586</td>\n",
              "      <td>0.121952</td>\n",
              "      <td>2.657476</td>\n",
              "      <td>0.133050</td>\n",
              "    </tr>\n",
              "    <tr>\n",
              "      <th>191</th>\n",
              "      <td>209.516</td>\n",
              "      <td>253.017</td>\n",
              "      <td>89.488</td>\n",
              "      <td>0.00564</td>\n",
              "      <td>0.00003</td>\n",
              "      <td>0.00331</td>\n",
              "      <td>0.00292</td>\n",
              "      <td>0.00994</td>\n",
              "      <td>0.02751</td>\n",
              "      <td>0.263</td>\n",
              "      <td>...</td>\n",
              "      <td>0.04812</td>\n",
              "      <td>0.01810</td>\n",
              "      <td>19.147</td>\n",
              "      <td>0</td>\n",
              "      <td>0.431674</td>\n",
              "      <td>0.683244</td>\n",
              "      <td>-6.195325</td>\n",
              "      <td>0.129303</td>\n",
              "      <td>2.784312</td>\n",
              "      <td>0.168895</td>\n",
              "    </tr>\n",
              "    <tr>\n",
              "      <th>192</th>\n",
              "      <td>174.688</td>\n",
              "      <td>240.005</td>\n",
              "      <td>74.287</td>\n",
              "      <td>0.01360</td>\n",
              "      <td>0.00008</td>\n",
              "      <td>0.00624</td>\n",
              "      <td>0.00564</td>\n",
              "      <td>0.01873</td>\n",
              "      <td>0.02308</td>\n",
              "      <td>0.256</td>\n",
              "      <td>...</td>\n",
              "      <td>0.03804</td>\n",
              "      <td>0.10715</td>\n",
              "      <td>17.883</td>\n",
              "      <td>0</td>\n",
              "      <td>0.407567</td>\n",
              "      <td>0.655683</td>\n",
              "      <td>-6.787197</td>\n",
              "      <td>0.158453</td>\n",
              "      <td>2.679772</td>\n",
              "      <td>0.131728</td>\n",
              "    </tr>\n",
              "    <tr>\n",
              "      <th>193</th>\n",
              "      <td>198.764</td>\n",
              "      <td>396.961</td>\n",
              "      <td>74.904</td>\n",
              "      <td>0.00740</td>\n",
              "      <td>0.00004</td>\n",
              "      <td>0.00370</td>\n",
              "      <td>0.00390</td>\n",
              "      <td>0.01109</td>\n",
              "      <td>0.02296</td>\n",
              "      <td>0.241</td>\n",
              "      <td>...</td>\n",
              "      <td>0.03794</td>\n",
              "      <td>0.07223</td>\n",
              "      <td>19.020</td>\n",
              "      <td>0</td>\n",
              "      <td>0.451221</td>\n",
              "      <td>0.643956</td>\n",
              "      <td>-6.744577</td>\n",
              "      <td>0.207454</td>\n",
              "      <td>2.138608</td>\n",
              "      <td>0.123306</td>\n",
              "    </tr>\n",
              "    <tr>\n",
              "      <th>194</th>\n",
              "      <td>214.289</td>\n",
              "      <td>260.277</td>\n",
              "      <td>77.973</td>\n",
              "      <td>0.00567</td>\n",
              "      <td>0.00003</td>\n",
              "      <td>0.00295</td>\n",
              "      <td>0.00317</td>\n",
              "      <td>0.00885</td>\n",
              "      <td>0.01884</td>\n",
              "      <td>0.190</td>\n",
              "      <td>...</td>\n",
              "      <td>0.03078</td>\n",
              "      <td>0.04398</td>\n",
              "      <td>21.209</td>\n",
              "      <td>0</td>\n",
              "      <td>0.462803</td>\n",
              "      <td>0.664357</td>\n",
              "      <td>-5.724056</td>\n",
              "      <td>0.190667</td>\n",
              "      <td>2.555477</td>\n",
              "      <td>0.148569</td>\n",
              "    </tr>\n",
              "  </tbody>\n",
              "</table>\n",
              "<p>195 rows × 23 columns</p>\n",
              "</div>\n",
              "      <button class=\"colab-df-convert\" onclick=\"convertToInteractive('df-c0ce4d6b-41b7-4be3-bd1b-24b246db3523')\"\n",
              "              title=\"Convert this dataframe to an interactive table.\"\n",
              "              style=\"display:none;\">\n",
              "        \n",
              "  <svg xmlns=\"http://www.w3.org/2000/svg\" height=\"24px\"viewBox=\"0 0 24 24\"\n",
              "       width=\"24px\">\n",
              "    <path d=\"M0 0h24v24H0V0z\" fill=\"none\"/>\n",
              "    <path d=\"M18.56 5.44l.94 2.06.94-2.06 2.06-.94-2.06-.94-.94-2.06-.94 2.06-2.06.94zm-11 1L8.5 8.5l.94-2.06 2.06-.94-2.06-.94L8.5 2.5l-.94 2.06-2.06.94zm10 10l.94 2.06.94-2.06 2.06-.94-2.06-.94-.94-2.06-.94 2.06-2.06.94z\"/><path d=\"M17.41 7.96l-1.37-1.37c-.4-.4-.92-.59-1.43-.59-.52 0-1.04.2-1.43.59L10.3 9.45l-7.72 7.72c-.78.78-.78 2.05 0 2.83L4 21.41c.39.39.9.59 1.41.59.51 0 1.02-.2 1.41-.59l7.78-7.78 2.81-2.81c.8-.78.8-2.07 0-2.86zM5.41 20L4 18.59l7.72-7.72 1.47 1.35L5.41 20z\"/>\n",
              "  </svg>\n",
              "      </button>\n",
              "      \n",
              "  <style>\n",
              "    .colab-df-container {\n",
              "      display:flex;\n",
              "      flex-wrap:wrap;\n",
              "      gap: 12px;\n",
              "    }\n",
              "\n",
              "    .colab-df-convert {\n",
              "      background-color: #E8F0FE;\n",
              "      border: none;\n",
              "      border-radius: 50%;\n",
              "      cursor: pointer;\n",
              "      display: none;\n",
              "      fill: #1967D2;\n",
              "      height: 32px;\n",
              "      padding: 0 0 0 0;\n",
              "      width: 32px;\n",
              "    }\n",
              "\n",
              "    .colab-df-convert:hover {\n",
              "      background-color: #E2EBFA;\n",
              "      box-shadow: 0px 1px 2px rgba(60, 64, 67, 0.3), 0px 1px 3px 1px rgba(60, 64, 67, 0.15);\n",
              "      fill: #174EA6;\n",
              "    }\n",
              "\n",
              "    [theme=dark] .colab-df-convert {\n",
              "      background-color: #3B4455;\n",
              "      fill: #D2E3FC;\n",
              "    }\n",
              "\n",
              "    [theme=dark] .colab-df-convert:hover {\n",
              "      background-color: #434B5C;\n",
              "      box-shadow: 0px 1px 3px 1px rgba(0, 0, 0, 0.15);\n",
              "      filter: drop-shadow(0px 1px 2px rgba(0, 0, 0, 0.3));\n",
              "      fill: #FFFFFF;\n",
              "    }\n",
              "  </style>\n",
              "\n",
              "      <script>\n",
              "        const buttonEl =\n",
              "          document.querySelector('#df-c0ce4d6b-41b7-4be3-bd1b-24b246db3523 button.colab-df-convert');\n",
              "        buttonEl.style.display =\n",
              "          google.colab.kernel.accessAllowed ? 'block' : 'none';\n",
              "\n",
              "        async function convertToInteractive(key) {\n",
              "          const element = document.querySelector('#df-c0ce4d6b-41b7-4be3-bd1b-24b246db3523');\n",
              "          const dataTable =\n",
              "            await google.colab.kernel.invokeFunction('convertToInteractive',\n",
              "                                                     [key], {});\n",
              "          if (!dataTable) return;\n",
              "\n",
              "          const docLinkHtml = 'Like what you see? Visit the ' +\n",
              "            '<a target=\"_blank\" href=https://colab.research.google.com/notebooks/data_table.ipynb>data table notebook</a>'\n",
              "            + ' to learn more about interactive tables.';\n",
              "          element.innerHTML = '';\n",
              "          dataTable['output_type'] = 'display_data';\n",
              "          await google.colab.output.renderOutput(dataTable, element);\n",
              "          const docLink = document.createElement('div');\n",
              "          docLink.innerHTML = docLinkHtml;\n",
              "          element.appendChild(docLink);\n",
              "        }\n",
              "      </script>\n",
              "    </div>\n",
              "  </div>\n",
              "  "
            ]
          },
          "metadata": {},
          "execution_count": 8
        }
      ]
    },
    {
      "cell_type": "code",
      "source": [
        "df.columns"
      ],
      "metadata": {
        "colab": {
          "base_uri": "https://localhost:8080/"
        },
        "id": "iKJ6X_ZhQlTn",
        "outputId": "680edabe-8482-4d84-d78b-bb5bd40a619c"
      },
      "execution_count": 9,
      "outputs": [
        {
          "output_type": "execute_result",
          "data": {
            "text/plain": [
              "Index(['MDVP:Fo(Hz)', 'MDVP:Fhi(Hz)', 'MDVP:Flo(Hz)', 'MDVP:Jitter(%)',\n",
              "       'MDVP:Jitter(Abs)', 'MDVP:RAP', 'MDVP:PPQ', 'Jitter:DDP',\n",
              "       'MDVP:Shimmer', 'MDVP:Shimmer(dB)', 'Shimmer:APQ3', 'Shimmer:APQ5',\n",
              "       'MDVP:APQ', 'Shimmer:DDA', 'NHR', 'HNR', 'status', 'RPDE', 'DFA',\n",
              "       'spread1', 'spread2', 'D2', 'PPE'],\n",
              "      dtype='object')"
            ]
          },
          "metadata": {},
          "execution_count": 9
        }
      ]
    },
    {
      "cell_type": "code",
      "source": [
        "df.shape"
      ],
      "metadata": {
        "colab": {
          "base_uri": "https://localhost:8080/"
        },
        "id": "-eAKdfXFQry3",
        "outputId": "6385d205-efa7-448c-bc12-4dd344f6dd6f"
      },
      "execution_count": 10,
      "outputs": [
        {
          "output_type": "execute_result",
          "data": {
            "text/plain": [
              "(195, 23)"
            ]
          },
          "metadata": {},
          "execution_count": 10
        }
      ]
    },
    {
      "cell_type": "code",
      "source": [
        "df[df['status']==1].shape"
      ],
      "metadata": {
        "colab": {
          "base_uri": "https://localhost:8080/"
        },
        "id": "lU7T28RNQxEo",
        "outputId": "a03f225e-5ae1-4d8c-d66b-b0b883dd6161"
      },
      "execution_count": 11,
      "outputs": [
        {
          "output_type": "execute_result",
          "data": {
            "text/plain": [
              "(147, 23)"
            ]
          },
          "metadata": {},
          "execution_count": 11
        }
      ]
    },
    {
      "cell_type": "code",
      "source": [
        "df[df['status']==0].shape"
      ],
      "metadata": {
        "colab": {
          "base_uri": "https://localhost:8080/"
        },
        "id": "MjraamfXRC9P",
        "outputId": "a646478b-8029-47f1-a619-f98fd798aa73"
      },
      "execution_count": 12,
      "outputs": [
        {
          "output_type": "execute_result",
          "data": {
            "text/plain": [
              "(48, 23)"
            ]
          },
          "metadata": {},
          "execution_count": 12
        }
      ]
    },
    {
      "cell_type": "code",
      "source": [
        "df.isna().sum()"
      ],
      "metadata": {
        "colab": {
          "base_uri": "https://localhost:8080/"
        },
        "id": "o9wPeU7zRIB0",
        "outputId": "9fb336e4-43ef-42be-e3e5-c624e6b8e42f"
      },
      "execution_count": 13,
      "outputs": [
        {
          "output_type": "execute_result",
          "data": {
            "text/plain": [
              "MDVP:Fo(Hz)         0\n",
              "MDVP:Fhi(Hz)        0\n",
              "MDVP:Flo(Hz)        0\n",
              "MDVP:Jitter(%)      0\n",
              "MDVP:Jitter(Abs)    0\n",
              "MDVP:RAP            0\n",
              "MDVP:PPQ            0\n",
              "Jitter:DDP          0\n",
              "MDVP:Shimmer        0\n",
              "MDVP:Shimmer(dB)    0\n",
              "Shimmer:APQ3        0\n",
              "Shimmer:APQ5        0\n",
              "MDVP:APQ            0\n",
              "Shimmer:DDA         0\n",
              "NHR                 0\n",
              "HNR                 0\n",
              "status              0\n",
              "RPDE                0\n",
              "DFA                 0\n",
              "spread1             0\n",
              "spread2             0\n",
              "D2                  0\n",
              "PPE                 0\n",
              "dtype: int64"
            ]
          },
          "metadata": {},
          "execution_count": 13
        }
      ]
    },
    {
      "cell_type": "markdown",
      "source": [
        "#**SCALING THE INPUTS**"
      ],
      "metadata": {
        "id": "JqiyOC9aSSlT"
      }
    },
    {
      "cell_type": "code",
      "source": [
        "from sklearn.preprocessing import StandardScaler"
      ],
      "metadata": {
        "id": "THzG4HrMRPJf"
      },
      "execution_count": 14,
      "outputs": []
    },
    {
      "cell_type": "code",
      "source": [
        "x=df.drop(['status'],axis=1)\n",
        "y=df['status']"
      ],
      "metadata": {
        "id": "glbm8oqPSjo9"
      },
      "execution_count": 15,
      "outputs": []
    },
    {
      "cell_type": "code",
      "source": [
        "stdscaler=StandardScaler()\n",
        "x=np.array(stdscaler.fit_transform(x))"
      ],
      "metadata": {
        "id": "Fn6ijC13Susd"
      },
      "execution_count": 16,
      "outputs": []
    },
    {
      "cell_type": "code",
      "source": [
        "x\n",
        "#scale between -1 to 1"
      ],
      "metadata": {
        "colab": {
          "base_uri": "https://localhost:8080/"
        },
        "id": "bhmJkPVeS-vw",
        "outputId": "c1601519-f8cf-484b-e653-729435115869"
      },
      "execution_count": 17,
      "outputs": [
        {
          "output_type": "execute_result",
          "data": {
            "text/plain": [
              "array([[-0.82929965, -0.43616456, -0.95203729, ...,  0.48047686,\n",
              "        -0.21053082,  0.86888575],\n",
              "       [-0.77097169, -0.53097409, -0.05772056, ...,  1.31118546,\n",
              "         0.27507712,  1.80360503],\n",
              "       [-0.90947638, -0.7231683 , -0.10987483, ...,  1.01768236,\n",
              "        -0.10362861,  1.40266141],\n",
              "       ...,\n",
              "       [ 0.49557839,  0.47010361, -0.96839309, ..., -0.81807931,\n",
              "         0.78033848, -0.83241014],\n",
              "       [ 1.07876114,  2.19004398, -0.95417967, ..., -0.22906571,\n",
              "        -0.63700298, -0.92610456],\n",
              "       [ 1.45481664,  0.69224632, -0.88348115, ..., -0.43085284,\n",
              "         0.45480231, -0.64505466]])"
            ]
          },
          "metadata": {},
          "execution_count": 17
        }
      ]
    },
    {
      "cell_type": "markdown",
      "source": [
        "#**TRAIN TEST SPLIT**\n",
        "test set=20%\n",
        "train set=80%"
      ],
      "metadata": {
        "id": "1lxnRd-wV_ZO"
      }
    },
    {
      "cell_type": "code",
      "source": [
        "from sklearn.model_selection import train_test_split\n",
        "X_train,X_test,Y_train,Y_test=train_test_split(x,y,test_size=0.2,random_state=10)"
      ],
      "metadata": {
        "id": "xGIr6Yy2TE1Z"
      },
      "execution_count": 18,
      "outputs": []
    },
    {
      "cell_type": "code",
      "source": [
        "print(X_train.shape)\n",
        "print(X_test.shape)\n",
        "print(Y_train.shape)\n",
        "print(Y_test.shape)"
      ],
      "metadata": {
        "colab": {
          "base_uri": "https://localhost:8080/"
        },
        "id": "6wchcax_XBH6",
        "outputId": "76329d37-4973-4989-a678-0183cb557089"
      },
      "execution_count": 19,
      "outputs": [
        {
          "output_type": "stream",
          "name": "stdout",
          "text": [
            "(156, 22)\n",
            "(39, 22)\n",
            "(156,)\n",
            "(39,)\n"
          ]
        }
      ]
    },
    {
      "cell_type": "code",
      "source": [
        "#to put as arrays of numpy\n",
        "X_train=np.array(X_train)\n",
        "\n",
        "X_test=np.array(X_test)\n",
        "\n",
        "Y_train=np.array(Y_train)\n",
        "\n",
        "Y_test=np.array(Y_test)\n"
      ],
      "metadata": {
        "id": "OzIPCw2nXO8j"
      },
      "execution_count": 20,
      "outputs": []
    },
    {
      "cell_type": "code",
      "source": [
        "len(X_train)"
      ],
      "metadata": {
        "colab": {
          "base_uri": "https://localhost:8080/"
        },
        "id": "p4LJvbixXttp",
        "outputId": "12fb5511-abee-41de-cc4d-71411a9768e1"
      },
      "execution_count": 21,
      "outputs": [
        {
          "output_type": "execute_result",
          "data": {
            "text/plain": [
              "156"
            ]
          },
          "metadata": {},
          "execution_count": 21
        }
      ]
    },
    {
      "cell_type": "code",
      "source": [
        "len(X_test)"
      ],
      "metadata": {
        "colab": {
          "base_uri": "https://localhost:8080/"
        },
        "id": "AYYy2Ns6X9wp",
        "outputId": "eed2a2f4-a52e-429e-d960-610fbc804e67"
      },
      "execution_count": 22,
      "outputs": [
        {
          "output_type": "execute_result",
          "data": {
            "text/plain": [
              "39"
            ]
          },
          "metadata": {},
          "execution_count": 22
        }
      ]
    },
    {
      "cell_type": "code",
      "source": [
        "len(Y_train)"
      ],
      "metadata": {
        "colab": {
          "base_uri": "https://localhost:8080/"
        },
        "id": "b0VfAnX5YCyd",
        "outputId": "7e9ff4e5-3a7a-4243-e3e2-08f8d4483ea9"
      },
      "execution_count": 23,
      "outputs": [
        {
          "output_type": "execute_result",
          "data": {
            "text/plain": [
              "156"
            ]
          },
          "metadata": {},
          "execution_count": 23
        }
      ]
    },
    {
      "cell_type": "code",
      "source": [
        "len(Y_test)"
      ],
      "metadata": {
        "colab": {
          "base_uri": "https://localhost:8080/"
        },
        "id": "Bf1zAWQ7YDoh",
        "outputId": "18f656c6-2af9-4cea-e67a-f91581574e50"
      },
      "execution_count": 24,
      "outputs": [
        {
          "output_type": "execute_result",
          "data": {
            "text/plain": [
              "39"
            ]
          },
          "metadata": {},
          "execution_count": 24
        }
      ]
    },
    {
      "cell_type": "markdown",
      "source": [
        "#**ML ALGORITHMS**\n",
        "#**LINEAR REGRESSION**"
      ],
      "metadata": {
        "id": "woOnv2-hYTnF"
      }
    },
    {
      "cell_type": "code",
      "source": [
        "from sklearn.linear_model import LinearRegression"
      ],
      "metadata": {
        "id": "kzPAsLeoYHVN"
      },
      "execution_count": 25,
      "outputs": []
    },
    {
      "cell_type": "code",
      "source": [
        "model1=LinearRegression()"
      ],
      "metadata": {
        "id": "RTs-B4jtZAyu"
      },
      "execution_count": 26,
      "outputs": []
    },
    {
      "cell_type": "code",
      "source": [
        "model1.fit(X_train,Y_train)"
      ],
      "metadata": {
        "colab": {
          "base_uri": "https://localhost:8080/"
        },
        "id": "6z-nYr49ZFNM",
        "outputId": "8eee32a5-f946-42cd-f9d8-03ccdc3b9f87"
      },
      "execution_count": 27,
      "outputs": [
        {
          "output_type": "execute_result",
          "data": {
            "text/plain": [
              "LinearRegression()"
            ]
          },
          "metadata": {},
          "execution_count": 27
        }
      ]
    },
    {
      "cell_type": "code",
      "source": [
        "Y_predmod1=model1.predict(X_test)\n",
        "Y_predmod1"
      ],
      "metadata": {
        "id": "9Bc5-RjmZJPr",
        "colab": {
          "base_uri": "https://localhost:8080/"
        },
        "outputId": "f10468a7-d0b9-484a-ad9b-a3c663724f03"
      },
      "execution_count": 28,
      "outputs": [
        {
          "output_type": "execute_result",
          "data": {
            "text/plain": [
              "array([0.51464502, 0.92291805, 1.08895196, 0.93072429, 0.39722818,\n",
              "       0.96450257, 0.51665718, 0.73428536, 0.96425774, 0.89648295,\n",
              "       0.54933081, 1.04009737, 1.02683814, 1.02090193, 0.52986194,\n",
              "       0.21476581, 1.07171961, 0.93419406, 0.55144217, 0.87538823,\n",
              "       1.17667136, 0.53241189, 0.40486539, 0.77032915, 0.94973256,\n",
              "       0.79196182, 0.95604616, 1.05056541, 0.02141046, 0.08635714,\n",
              "       0.86404109, 0.73424635, 1.07673007, 0.16402396, 0.26651789,\n",
              "       0.70248981, 0.5602687 , 0.96492844, 0.09659312])"
            ]
          },
          "metadata": {},
          "execution_count": 28
        }
      ]
    },
    {
      "cell_type": "markdown",
      "source": [
        "need to change in binary"
      ],
      "metadata": {
        "id": "gs_YIwW1dolD"
      }
    },
    {
      "cell_type": "code",
      "source": [
        "for i,j in enumerate(Y_predmod1):\n",
        "  if(j<0.5):\n",
        "    Y_predmod1[i]=0\n",
        "  else:\n",
        "    Y_predmod1[i]=1\n",
        "print(Y_predmod1)\n",
        "Y_predmod1.shape"
      ],
      "metadata": {
        "id": "f0dJBOwvdjif",
        "colab": {
          "base_uri": "https://localhost:8080/"
        },
        "outputId": "050381eb-3118-44f9-b3ad-43e1da8e1405"
      },
      "execution_count": 29,
      "outputs": [
        {
          "output_type": "stream",
          "name": "stdout",
          "text": [
            "[1. 1. 1. 1. 0. 1. 1. 1. 1. 1. 1. 1. 1. 1. 1. 0. 1. 1. 1. 1. 1. 1. 0. 1.\n",
            " 1. 1. 1. 1. 0. 0. 1. 1. 1. 0. 0. 1. 1. 1. 0.]\n"
          ]
        },
        {
          "output_type": "execute_result",
          "data": {
            "text/plain": [
              "(39,)"
            ]
          },
          "metadata": {},
          "execution_count": 29
        }
      ]
    },
    {
      "cell_type": "code",
      "source": [
        "print(Y_test)"
      ],
      "metadata": {
        "id": "GJEaAhxyfVNT",
        "colab": {
          "base_uri": "https://localhost:8080/"
        },
        "outputId": "ac9571b4-6712-48da-e932-c421e88e42b8"
      },
      "execution_count": 30,
      "outputs": [
        {
          "output_type": "stream",
          "name": "stdout",
          "text": [
            "[1 1 1 1 0 1 0 1 1 1 1 1 1 1 1 0 1 1 1 1 1 0 0 1 1 1 1 1 0 0 1 1 1 0 0 1 0\n",
            " 1 0]\n"
          ]
        }
      ]
    },
    {
      "cell_type": "code",
      "source": [
        "print(\"X test\",\" \",\"Y test\")\n",
        "for i,j in zip(Y_predmod1,Y_test):\n",
        "  print(i,\"        \",j)\n"
      ],
      "metadata": {
        "id": "ThX2hOg2gyYy",
        "colab": {
          "base_uri": "https://localhost:8080/"
        },
        "outputId": "63d88328-954e-4331-8572-f4752ccaba6d"
      },
      "execution_count": 31,
      "outputs": [
        {
          "output_type": "stream",
          "name": "stdout",
          "text": [
            "X test   Y test\n",
            "1.0          1\n",
            "1.0          1\n",
            "1.0          1\n",
            "1.0          1\n",
            "0.0          0\n",
            "1.0          1\n",
            "1.0          0\n",
            "1.0          1\n",
            "1.0          1\n",
            "1.0          1\n",
            "1.0          1\n",
            "1.0          1\n",
            "1.0          1\n",
            "1.0          1\n",
            "1.0          1\n",
            "0.0          0\n",
            "1.0          1\n",
            "1.0          1\n",
            "1.0          1\n",
            "1.0          1\n",
            "1.0          1\n",
            "1.0          0\n",
            "0.0          0\n",
            "1.0          1\n",
            "1.0          1\n",
            "1.0          1\n",
            "1.0          1\n",
            "1.0          1\n",
            "0.0          0\n",
            "0.0          0\n",
            "1.0          1\n",
            "1.0          1\n",
            "1.0          1\n",
            "0.0          0\n",
            "0.0          0\n",
            "1.0          1\n",
            "1.0          0\n",
            "1.0          1\n",
            "0.0          0\n"
          ]
        }
      ]
    },
    {
      "cell_type": "code",
      "source": [
        "print(\"Linear Regression Accuracy \\n\")\n",
        "print(model1.score(X_test,Y_test)*100,\"%\") "
      ],
      "metadata": {
        "id": "moRsubFihQgf",
        "colab": {
          "base_uri": "https://localhost:8080/"
        },
        "outputId": "0cb7989a-ee20-48f6-f45f-98b46e23981a"
      },
      "execution_count": 32,
      "outputs": [
        {
          "output_type": "stream",
          "name": "stdout",
          "text": [
            "Linear Regression Accuracy \n",
            "\n",
            "66.34994862742182 %\n"
          ]
        }
      ]
    },
    {
      "cell_type": "code",
      "source": [
        "from sklearn.metrics import confusion_matrix\n",
        "import matplotlib.pyplot as plt"
      ],
      "metadata": {
        "id": "UKpjIN2OiBNe"
      },
      "execution_count": 33,
      "outputs": []
    },
    {
      "cell_type": "code",
      "source": [
        "cm=confusion_matrix(Y_test,Y_predmod1)\n",
        "import seaborn as sn\n",
        "plt.figure()\n",
        "labels = ['True Neg','False Pos','False Neg','True Pos']\n",
        "labels = np.asarray(labels).reshape(2,2)\n",
        "fig=sn.heatmap(cm,annot=labels,fmt='',cmap='Oranges')\n",
        "#annot='True'\n",
        "figure=fig.get_figure()\n",
        "plt.xlabel(\"Predicted\")\n",
        "plt.ylabel(\"Truth\")\n",
        "#A confusion matrix is a table that is used to define the performance of a classification algorithm"
      ],
      "metadata": {
        "id": "xInrsJZHiiuV",
        "colab": {
          "base_uri": "https://localhost:8080/",
          "height": 0
        },
        "outputId": "5c42cec3-18fe-4e23-c3f0-d4b1306eb236"
      },
      "execution_count": 34,
      "outputs": [
        {
          "output_type": "execute_result",
          "data": {
            "text/plain": [
              "Text(33.0, 0.5, 'Truth')"
            ]
          },
          "metadata": {},
          "execution_count": 34
        },
        {
          "output_type": "display_data",
          "data": {
            "text/plain": [
              "<Figure size 432x288 with 2 Axes>"
            ],
            "image/png": "[encoded data removed]"
          },
          "metadata": {
            "needs_background": "light"
          }
        }
      ]
    },
    {
      "cell_type": "markdown",
      "source": [
        "#**LOGISTIC REGRESSION**"
      ],
      "metadata": {
        "id": "p36ESVtfnlUU"
      }
    },
    {
      "cell_type": "code",
      "source": [
        "from sklearn.linear_model import LogisticRegression"
      ],
      "metadata": {
        "id": "aXVbfqRujInn"
      },
      "execution_count": 35,
      "outputs": []
    },
    {
      "cell_type": "code",
      "source": [
        "model2=LogisticRegression()"
      ],
      "metadata": {
        "id": "izkMQCkXoBHJ"
      },
      "execution_count": 36,
      "outputs": []
    },
    {
      "cell_type": "code",
      "source": [
        "model2.fit(X_train,Y_train)"
      ],
      "metadata": {
        "colab": {
          "base_uri": "https://localhost:8080/"
        },
        "id": "0pqqIIIooGSb",
        "outputId": "d0dc524c-c8cf-40a8-aae6-a519c83f7654"
      },
      "execution_count": 37,
      "outputs": [
        {
          "output_type": "execute_result",
          "data": {
            "text/plain": [
              "LogisticRegression()"
            ]
          },
          "metadata": {},
          "execution_count": 37
        }
      ]
    },
    {
      "cell_type": "code",
      "source": [
        "Y_predmod2=model2.predict(X_test)\n",
        "Y_predmod2"
      ],
      "metadata": {
        "colab": {
          "base_uri": "https://localhost:8080/"
        },
        "id": "tufLJYeooLJS",
        "outputId": "9e0829b1-887d-4b53-c401-086822c1d2c1"
      },
      "execution_count": 38,
      "outputs": [
        {
          "output_type": "execute_result",
          "data": {
            "text/plain": [
              "array([1, 1, 1, 1, 0, 1, 0, 1, 1, 1, 1, 1, 1, 1, 1, 0, 1, 1, 0, 1, 1, 0,\n",
              "       0, 1, 1, 1, 1, 1, 0, 0, 1, 1, 1, 0, 0, 1, 0, 1, 0])"
            ]
          },
          "metadata": {},
          "execution_count": 38
        }
      ]
    },
    {
      "cell_type": "code",
      "source": [
        "Y_test"
      ],
      "metadata": {
        "colab": {
          "base_uri": "https://localhost:8080/"
        },
        "id": "akov2Vl2oZrn",
        "outputId": "28cc93e0-e3a5-468d-f0b8-d64ca53eef15"
      },
      "execution_count": 39,
      "outputs": [
        {
          "output_type": "execute_result",
          "data": {
            "text/plain": [
              "array([1, 1, 1, 1, 0, 1, 0, 1, 1, 1, 1, 1, 1, 1, 1, 0, 1, 1, 1, 1, 1, 0,\n",
              "       0, 1, 1, 1, 1, 1, 0, 0, 1, 1, 1, 0, 0, 1, 0, 1, 0])"
            ]
          },
          "metadata": {},
          "execution_count": 39
        }
      ]
    },
    {
      "cell_type": "code",
      "source": [
        "print(\"Logistic Regression Accuracy : \\n\")\n",
        "print(model2.score(X_test,Y_test)*100,\"%\")"
      ],
      "metadata": {
        "colab": {
          "base_uri": "https://localhost:8080/"
        },
        "id": "9nD0LJd3odYv",
        "outputId": "831b2cd5-2634-4bb4-97e1-41ef10217c8a"
      },
      "execution_count": 40,
      "outputs": [
        {
          "output_type": "stream",
          "name": "stdout",
          "text": [
            "Logistic Regression Accuracy : \n",
            "\n",
            "97.43589743589743 %\n"
          ]
        }
      ]
    },
    {
      "cell_type": "code",
      "source": [
        "cm=confusion_matrix(Y_test,Y_predmod2)\n",
        "import seaborn as sn\n",
        "plt.figure()\n",
        "sn.heatmap(cm,annot=True)\n",
        "plt.xlabel(\"Predicted\")\n",
        "plt.ylabel(\"Truth\")"
      ],
      "metadata": {
        "colab": {
          "base_uri": "https://localhost:8080/",
          "height": 0
        },
        "id": "R6i3DWYborqH",
        "outputId": "d36cd693-60c9-4c79-ab28-7172b17cebbc"
      },
      "execution_count": 41,
      "outputs": [
        {
          "output_type": "execute_result",
          "data": {
            "text/plain": [
              "Text(33.0, 0.5, 'Truth')"
            ]
          },
          "metadata": {},
          "execution_count": 41
        },
        {
          "output_type": "display_data",
          "data": {
            "text/plain": [
              "<Figure size 432x288 with 2 Axes>"
            ],
            "image/png": "[encoded data removed]"
          },
          "metadata": {
            "needs_background": "light"
          }
        }
      ]
    },
    {
      "cell_type": "markdown",
      "source": [
        "#**DECISION TREE CLASSIFIER**"
      ],
      "metadata": {
        "id": "mmTLh6Sh5Jgc"
      }
    },
    {
      "cell_type": "code",
      "source": [
        "from sklearn import tree"
      ],
      "metadata": {
        "id": "zJaHRa7Kprws"
      },
      "execution_count": 42,
      "outputs": []
    },
    {
      "cell_type": "code",
      "source": [
        "model3=tree.DecisionTreeClassifier()"
      ],
      "metadata": {
        "id": "Jex-RfjAq0x_"
      },
      "execution_count": 43,
      "outputs": []
    },
    {
      "cell_type": "code",
      "source": [
        "model3.fit(X_train,Y_train)"
      ],
      "metadata": {
        "colab": {
          "base_uri": "https://localhost:8080/"
        },
        "id": "oiAo7p-gq7Ew",
        "outputId": "3cb5d213-253a-44f3-8f3d-200e5223e3c7"
      },
      "execution_count": 44,
      "outputs": [
        {
          "output_type": "execute_result",
          "data": {
            "text/plain": [
              "DecisionTreeClassifier()"
            ]
          },
          "metadata": {},
          "execution_count": 44
        }
      ]
    },
    {
      "cell_type": "code",
      "source": [
        "Y_predmod3=model3.predict(X_test)\n",
        "Y_predmod3"
      ],
      "metadata": {
        "colab": {
          "base_uri": "https://localhost:8080/"
        },
        "id": "T7cfR4Ljq_XK",
        "outputId": "3cf3e5e2-cc8f-43d6-fcf0-5090c901fd3d"
      },
      "execution_count": 45,
      "outputs": [
        {
          "output_type": "execute_result",
          "data": {
            "text/plain": [
              "array([1, 1, 1, 1, 1, 1, 0, 1, 1, 1, 1, 1, 1, 1, 1, 0, 1, 1, 1, 1, 1, 0,\n",
              "       0, 0, 1, 1, 1, 1, 1, 0, 1, 1, 1, 0, 0, 1, 0, 1, 0])"
            ]
          },
          "metadata": {},
          "execution_count": 45
        }
      ]
    },
    {
      "cell_type": "code",
      "source": [
        "Y_test"
      ],
      "metadata": {
        "colab": {
          "base_uri": "https://localhost:8080/"
        },
        "id": "NbaeU4eorJts",
        "outputId": "d8eb5cd9-5758-4ab2-d2dc-352410dfe3d8"
      },
      "execution_count": 46,
      "outputs": [
        {
          "output_type": "execute_result",
          "data": {
            "text/plain": [
              "array([1, 1, 1, 1, 0, 1, 0, 1, 1, 1, 1, 1, 1, 1, 1, 0, 1, 1, 1, 1, 1, 0,\n",
              "       0, 1, 1, 1, 1, 1, 0, 0, 1, 1, 1, 0, 0, 1, 0, 1, 0])"
            ]
          },
          "metadata": {},
          "execution_count": 46
        }
      ]
    },
    {
      "cell_type": "code",
      "source": [
        "print(\"Decision Tree Accuracy \\n\")\n",
        "print(model3.score(X_test,Y_test)*100,\"%\")"
      ],
      "metadata": {
        "colab": {
          "base_uri": "https://localhost:8080/"
        },
        "id": "z45AXkhyrMF1",
        "outputId": "cba5888b-0a4d-41d7-f011-a5a67f244c6c"
      },
      "execution_count": 47,
      "outputs": [
        {
          "output_type": "stream",
          "name": "stdout",
          "text": [
            "Decision Tree Accuracy \n",
            "\n",
            "92.3076923076923 %\n"
          ]
        }
      ]
    },
    {
      "cell_type": "code",
      "source": [
        "cm=confusion_matrix(Y_test,Y_predmod3)\n",
        "plt.figure()\n",
        "sn.heatmap(cm,annot=True,cmap=\"Blues\")\n",
        "plt.xlabel(\"Predicted\")\n",
        "plt.ylabel(\"Truth\")"
      ],
      "metadata": {
        "colab": {
          "base_uri": "https://localhost:8080/",
          "height": 0
        },
        "id": "TodL3Rq6rjSD",
        "outputId": "34b51362-8ab4-4b6d-d7a5-b265c272367b"
      },
      "execution_count": 48,
      "outputs": [
        {
          "output_type": "execute_result",
          "data": {
            "text/plain": [
              "Text(33.0, 0.5, 'Truth')"
            ]
          },
          "metadata": {},
          "execution_count": 48
        },
        {
          "output_type": "display_data",
          "data": {
            "text/plain": [
              "<Figure size 432x288 with 2 Axes>"
            ],
            "image/png": "[encoded data removed]"
          },
          "metadata": {
            "needs_background": "light"
          }
        }
      ]
    },
    {
      "cell_type": "markdown",
      "source": [
        "#**SUPPORT VECTOR MACHINE**"
      ],
      "metadata": {
        "id": "JsotuQP7sioO"
      }
    },
    {
      "cell_type": "code",
      "source": [
        "from sklearn.svm import SVC"
      ],
      "metadata": {
        "id": "SQvJhADXrr1L"
      },
      "execution_count": 49,
      "outputs": []
    },
    {
      "cell_type": "code",
      "source": [
        "model4=SVC(C=5)"
      ],
      "metadata": {
        "id": "haIwuDzFsv_h"
      },
      "execution_count": 50,
      "outputs": []
    },
    {
      "cell_type": "code",
      "source": [
        "model4.fit(X_train,Y_train)"
      ],
      "metadata": {
        "colab": {
          "base_uri": "https://localhost:8080/"
        },
        "id": "Dm3d1a5Ws2Ca",
        "outputId": "c3327cc7-7f4f-4c30-e028-efb4d9dabf14"
      },
      "execution_count": 51,
      "outputs": [
        {
          "output_type": "execute_result",
          "data": {
            "text/plain": [
              "SVC(C=5)"
            ]
          },
          "metadata": {},
          "execution_count": 51
        }
      ]
    },
    {
      "cell_type": "code",
      "source": [
        "Y_predmod4=model4.predict(X_test)\n",
        "Y_predmod4"
      ],
      "metadata": {
        "colab": {
          "base_uri": "https://localhost:8080/"
        },
        "id": "y0tG09IMs7or",
        "outputId": "ab0b465e-6d14-4902-d29a-bf39565b202b"
      },
      "execution_count": 52,
      "outputs": [
        {
          "output_type": "execute_result",
          "data": {
            "text/plain": [
              "array([1, 1, 1, 1, 0, 1, 0, 1, 1, 1, 1, 1, 1, 1, 1, 0, 1, 1, 1, 1, 1, 0,\n",
              "       0, 1, 1, 1, 1, 1, 0, 0, 1, 1, 1, 0, 0, 1, 0, 1, 0])"
            ]
          },
          "metadata": {},
          "execution_count": 52
        }
      ]
    },
    {
      "cell_type": "code",
      "source": [
        "Y_test"
      ],
      "metadata": {
        "colab": {
          "base_uri": "https://localhost:8080/"
        },
        "id": "V5lvF0jPtP6T",
        "outputId": "f54d03ec-30cc-40b8-fdea-a003afdf450f"
      },
      "execution_count": 53,
      "outputs": [
        {
          "output_type": "execute_result",
          "data": {
            "text/plain": [
              "array([1, 1, 1, 1, 0, 1, 0, 1, 1, 1, 1, 1, 1, 1, 1, 0, 1, 1, 1, 1, 1, 0,\n",
              "       0, 1, 1, 1, 1, 1, 0, 0, 1, 1, 1, 0, 0, 1, 0, 1, 0])"
            ]
          },
          "metadata": {},
          "execution_count": 53
        }
      ]
    },
    {
      "cell_type": "code",
      "source": [
        "print(\"Support Vector Machine Accuracy : \\n\")\n",
        "print(model4.score(X_test,Y_test)*100,\"%\")"
      ],
      "metadata": {
        "colab": {
          "base_uri": "https://localhost:8080/"
        },
        "id": "_8jhZDZVtXIc",
        "outputId": "200405fa-cbae-4a02-e706-1b0def76930f"
      },
      "execution_count": 54,
      "outputs": [
        {
          "output_type": "stream",
          "name": "stdout",
          "text": [
            "Support Vector Machine Accuracy : \n",
            "\n",
            "100.0 %\n"
          ]
        }
      ]
    },
    {
      "cell_type": "code",
      "source": [
        "cm=confusion_matrix(Y_test,Y_predmod4)\n",
        "plt.figure()\n",
        "sn.heatmap(cm,annot=True)\n",
        "plt.xlabel(\"Predicted\")\n",
        "plt.ylabel(\"Truth\")"
      ],
      "metadata": {
        "colab": {
          "base_uri": "https://localhost:8080/",
          "height": 0
        },
        "id": "UHj7gwXxtmR4",
        "outputId": "6644d208-ab81-4277-ec9a-df52ed4a644b"
      },
      "execution_count": 55,
      "outputs": [
        {
          "output_type": "execute_result",
          "data": {
            "text/plain": [
              "Text(33.0, 0.5, 'Truth')"
            ]
          },
          "metadata": {},
          "execution_count": 55
        },
        {
          "output_type": "display_data",
          "data": {
            "text/plain": [
              "<Figure size 432x288 with 2 Axes>"
            ],
            "image/png": "[encoded data removed]"
          },
          "metadata": {
            "needs_background": "light"
          }
        }
      ]
    },
    {
      "cell_type": "markdown",
      "source": [
        "#**RANDOM FOREST CLASSIFIER**"
      ],
      "metadata": {
        "id": "5jpYbzC1vKoh"
      }
    },
    {
      "cell_type": "code",
      "source": [
        "from sklearn.ensemble import RandomForestClassifier"
      ],
      "metadata": {
        "id": "4j83sHvmuHCM"
      },
      "execution_count": 56,
      "outputs": []
    },
    {
      "cell_type": "code",
      "source": [
        "model5=RandomForestClassifier()"
      ],
      "metadata": {
        "id": "ti29wSjhwpBt"
      },
      "execution_count": 57,
      "outputs": []
    },
    {
      "cell_type": "code",
      "source": [
        "model5.fit(X_train,Y_train)"
      ],
      "metadata": {
        "colab": {
          "base_uri": "https://localhost:8080/"
        },
        "id": "HiiBUL7swuxW",
        "outputId": "71692741-09ca-4a9a-b0b3-f30db72a1ccf"
      },
      "execution_count": 58,
      "outputs": [
        {
          "output_type": "execute_result",
          "data": {
            "text/plain": [
              "RandomForestClassifier()"
            ]
          },
          "metadata": {},
          "execution_count": 58
        }
      ]
    },
    {
      "cell_type": "code",
      "source": [
        "Y_predmod5=model5.predict(X_test)\n",
        "Y_predmod5"
      ],
      "metadata": {
        "colab": {
          "base_uri": "https://localhost:8080/"
        },
        "id": "KbE7lTOjwyrH",
        "outputId": "a6b74ad1-b2bd-4326-a09d-a14909c87698"
      },
      "execution_count": 59,
      "outputs": [
        {
          "output_type": "execute_result",
          "data": {
            "text/plain": [
              "array([1, 1, 1, 1, 0, 1, 0, 1, 1, 1, 0, 1, 1, 1, 1, 0, 1, 1, 1, 1, 1, 0,\n",
              "       0, 1, 1, 1, 1, 1, 0, 0, 1, 1, 1, 0, 0, 1, 0, 1, 0])"
            ]
          },
          "metadata": {},
          "execution_count": 59
        }
      ]
    },
    {
      "cell_type": "code",
      "source": [
        "Y_test"
      ],
      "metadata": {
        "colab": {
          "base_uri": "https://localhost:8080/"
        },
        "id": "ymw5P8aew_E6",
        "outputId": "ad39184c-39b0-4632-b12b-7931f858b1db"
      },
      "execution_count": 60,
      "outputs": [
        {
          "output_type": "execute_result",
          "data": {
            "text/plain": [
              "array([1, 1, 1, 1, 0, 1, 0, 1, 1, 1, 1, 1, 1, 1, 1, 0, 1, 1, 1, 1, 1, 0,\n",
              "       0, 1, 1, 1, 1, 1, 0, 0, 1, 1, 1, 0, 0, 1, 0, 1, 0])"
            ]
          },
          "metadata": {},
          "execution_count": 60
        }
      ]
    },
    {
      "cell_type": "code",
      "source": [
        "print(\"Random Forest Classifier Accuracy :\\n\")\n",
        "print(model5.score(X_test,Y_test)*100,\"%\")"
      ],
      "metadata": {
        "colab": {
          "base_uri": "https://localhost:8080/"
        },
        "id": "gAv-CNDfxBES",
        "outputId": "416cd8d8-8795-4f85-f96e-f35bf7d2c4ee"
      },
      "execution_count": 61,
      "outputs": [
        {
          "output_type": "stream",
          "name": "stdout",
          "text": [
            "Random Forest Classifier Accuracy :\n",
            "\n",
            "97.43589743589743 %\n"
          ]
        }
      ]
    },
    {
      "cell_type": "code",
      "source": [
        "cm=confusion_matrix(Y_test,Y_predmod5)\n",
        "plt.figure()\n",
        "sn.heatmap(cm,annot=True)\n",
        "plt.xlabel(\"Predicted\")\n",
        "plt.ylabel(\"Truth\")"
      ],
      "metadata": {
        "colab": {
          "base_uri": "https://localhost:8080/",
          "height": 0
        },
        "id": "5wxh6mg8xeqP",
        "outputId": "65380cd4-3d3d-46c5-86d1-f1b60318691c"
      },
      "execution_count": 62,
      "outputs": [
        {
          "output_type": "execute_result",
          "data": {
            "text/plain": [
              "Text(33.0, 0.5, 'Truth')"
            ]
          },
          "metadata": {},
          "execution_count": 62
        },
        {
          "output_type": "display_data",
          "data": {
            "text/plain": [
              "<Figure size 432x288 with 2 Axes>"
            ],
            "image/png": "[encoded data removed]"
          },
          "metadata": {
            "needs_background": "light"
          }
        }
      ]
    },
    {
      "cell_type": "markdown",
      "source": [
        "#**Xgbooster**"
      ],
      "metadata": {
        "id": "PHZKb9JVyaNa"
      }
    },
    {
      "cell_type": "code",
      "source": [
        "from xgboost import XGBClassifier"
      ],
      "metadata": {
        "id": "TLgc4mYVx3f-"
      },
      "execution_count": 63,
      "outputs": []
    },
    {
      "cell_type": "code",
      "source": [
        "model6=XGBClassifier()"
      ],
      "metadata": {
        "id": "7uSSM5x4ypSX"
      },
      "execution_count": 64,
      "outputs": []
    },
    {
      "cell_type": "code",
      "source": [
        "model6.fit(X_train,Y_train)"
      ],
      "metadata": {
        "colab": {
          "base_uri": "https://localhost:8080/"
        },
        "id": "XKSTab_ey2rV",
        "outputId": "80ae67c0-25a1-49f3-9d89-eab57f5ac169"
      },
      "execution_count": 65,
      "outputs": [
        {
          "output_type": "execute_result",
          "data": {
            "text/plain": [
              "XGBClassifier()"
            ]
          },
          "metadata": {},
          "execution_count": 65
        }
      ]
    },
    {
      "cell_type": "code",
      "source": [
        "Y_predmod6=model6.predict(X_test)\n",
        "Y_predmod6"
      ],
      "metadata": {
        "colab": {
          "base_uri": "https://localhost:8080/"
        },
        "id": "lS6VmOJEy5cw",
        "outputId": "73cf7c1b-cc81-40ca-9bff-a521b2a0677b"
      },
      "execution_count": 66,
      "outputs": [
        {
          "output_type": "execute_result",
          "data": {
            "text/plain": [
              "array([1, 1, 1, 1, 0, 1, 0, 1, 1, 1, 1, 1, 1, 1, 1, 0, 1, 1, 1, 1, 1, 0,\n",
              "       0, 1, 1, 1, 1, 1, 0, 0, 1, 1, 1, 0, 0, 1, 0, 1, 0])"
            ]
          },
          "metadata": {},
          "execution_count": 66
        }
      ]
    },
    {
      "cell_type": "code",
      "source": [
        "Y_test"
      ],
      "metadata": {
        "colab": {
          "base_uri": "https://localhost:8080/"
        },
        "id": "WQQ88CCIzBrU",
        "outputId": "d9b74d00-b7f5-4ea5-8c1b-2fd3107aae09"
      },
      "execution_count": 67,
      "outputs": [
        {
          "output_type": "execute_result",
          "data": {
            "text/plain": [
              "array([1, 1, 1, 1, 0, 1, 0, 1, 1, 1, 1, 1, 1, 1, 1, 0, 1, 1, 1, 1, 1, 0,\n",
              "       0, 1, 1, 1, 1, 1, 0, 0, 1, 1, 1, 0, 0, 1, 0, 1, 0])"
            ]
          },
          "metadata": {},
          "execution_count": 67
        }
      ]
    },
    {
      "cell_type": "code",
      "source": [
        "print(\"Xgbooster Accuracy : \\n\")\n",
        "print(model6.score(X_test,Y_test)*100,\"%\")"
      ],
      "metadata": {
        "colab": {
          "base_uri": "https://localhost:8080/"
        },
        "id": "2dF51YYJzFML",
        "outputId": "97222344-d814-43d0-b87e-376f62921e56"
      },
      "execution_count": 68,
      "outputs": [
        {
          "output_type": "stream",
          "name": "stdout",
          "text": [
            "Xgbooster Accuracy : \n",
            "\n",
            "100.0 %\n"
          ]
        }
      ]
    },
    {
      "cell_type": "code",
      "source": [
        "cm=confusion_matrix(Y_test,Y_predmod6)\n",
        "plt.figure()\n",
        "sn.heatmap(cm,annot=True)\n",
        "plt.xlabel(\"Predicted\")\n",
        "plt.ylabel(\"Truth\")"
      ],
      "metadata": {
        "colab": {
          "base_uri": "https://localhost:8080/",
          "height": 0
        },
        "id": "jxphxwxIzTVq",
        "outputId": "6845a0cc-0f9b-4432-caf3-d732ca460d04"
      },
      "execution_count": 69,
      "outputs": [
        {
          "output_type": "execute_result",
          "data": {
            "text/plain": [
              "Text(33.0, 0.5, 'Truth')"
            ]
          },
          "metadata": {},
          "execution_count": 69
        },
        {
          "output_type": "display_data",
          "data": {
            "text/plain": [
              "<Figure size 432x288 with 2 Axes>"
            ],
            "image/png": "[encoded data removed]"
          },
          "metadata": {
            "needs_background": "light"
          }
        }
      ]
    },
    {
      "cell_type": "markdown",
      "source": [
        "#**NEURAL NETWORK**"
      ],
      "metadata": {
        "id": "fAGL0Ik8zj3P"
      }
    },
    {
      "cell_type": "code",
      "source": [
        "import tensorflow\n",
        "import keras"
      ],
      "metadata": {
        "id": "pl2wigVRzZk6"
      },
      "execution_count": 70,
      "outputs": []
    },
    {
      "cell_type": "code",
      "source": [
        "from keras.layers import Dense "
      ],
      "metadata": {
        "id": "nloq8NHFzsT6"
      },
      "execution_count": 71,
      "outputs": []
    },
    {
      "cell_type": "code",
      "source": [
        "from keras.backend import binary_crossentropy\n",
        "model7=keras.Sequential()\n",
        "model7.add(Dense(100,input_dim=22,activation='sigmoid'))\n",
        "model7.add(Dense(50,activation='sigmoid'))\n",
        "model7.add(Dense(50,activation='sigmoid'))\n",
        "model7.add(Dense(1,activation='sigmoid'))\n",
        "\n",
        "\n",
        "\n",
        "model7.compile(optimizer='adam',metrics=['accuracy'],loss='binary_crossentropy')\n",
        "model7.fit(X_train,Y_train,epochs=400)"
      ],
      "metadata": {
        "colab": {
          "base_uri": "https://localhost:8080/"
        },
        "id": "0LIdvaPZz0Oz",
        "outputId": "17389530-4c18-48eb-fe1d-099ba8a20438"
      },
      "execution_count": 72,
      "outputs": [
        {
          "output_type": "stream",
          "name": "stdout",
          "text": [
            "Epoch 1/400\n",
            "5/5 [==============================] - 2s 9ms/step - loss: 0.7670 - accuracy: 0.2372\n",
            "Epoch 2/400\n",
            "5/5 [==============================] - 0s 5ms/step - loss: 0.6425 - accuracy: 0.7628\n",
            "Epoch 3/400\n",
            "5/5 [==============================] - 0s 9ms/step - loss: 0.5791 - accuracy: 0.7628\n",
            "Epoch 4/400\n",
            "5/5 [==============================] - 0s 7ms/step - loss: 0.5546 - accuracy: 0.7628\n",
            "Epoch 5/400\n",
            "5/5 [==============================] - 0s 11ms/step - loss: 0.5402 - accuracy: 0.7628\n",
            "Epoch 6/400\n",
            "5/5 [==============================] - 0s 7ms/step - loss: 0.5372 - accuracy: 0.7628\n",
            "Epoch 7/400\n",
            "5/5 [==============================] - 0s 10ms/step - loss: 0.5348 - accuracy: 0.7628\n",
            "Epoch 8/400\n",
            "5/5 [==============================] - 0s 5ms/step - loss: 0.5315 - accuracy: 0.7628\n",
            "Epoch 9/400\n",
            "5/5 [==============================] - 0s 5ms/step - loss: 0.5272 - accuracy: 0.7628\n",
            "Epoch 10/400\n",
            "5/5 [==============================] - 0s 5ms/step - loss: 0.5225 - accuracy: 0.7628\n",
            "Epoch 11/400\n",
            "5/5 [==============================] - 0s 5ms/step - loss: 0.5193 - accuracy: 0.7628\n",
            "Epoch 12/400\n",
            "5/5 [==============================] - 0s 9ms/step - loss: 0.5141 - accuracy: 0.7628\n",
            "Epoch 13/400\n",
            "5/5 [==============================] - 0s 6ms/step - loss: 0.5098 - accuracy: 0.7628\n",
            "Epoch 14/400\n",
            "5/5 [==============================] - 0s 5ms/step - loss: 0.5053 - accuracy: 0.7628\n",
            "Epoch 15/400\n",
            "5/5 [==============================] - 0s 7ms/step - loss: 0.4992 - accuracy: 0.7628\n",
            "Epoch 16/400\n",
            "5/5 [==============================] - 0s 12ms/step - loss: 0.4931 - accuracy: 0.7628\n",
            "Epoch 17/400\n",
            "5/5 [==============================] - 0s 6ms/step - loss: 0.4868 - accuracy: 0.7628\n",
            "Epoch 18/400\n",
            "5/5 [==============================] - 0s 6ms/step - loss: 0.4801 - accuracy: 0.7628\n",
            "Epoch 19/400\n",
            "5/5 [==============================] - 0s 7ms/step - loss: 0.4729 - accuracy: 0.7628\n",
            "Epoch 20/400\n",
            "5/5 [==============================] - 0s 5ms/step - loss: 0.4656 - accuracy: 0.7628\n",
            "Epoch 21/400\n",
            "5/5 [==============================] - 0s 5ms/step - loss: 0.4584 - accuracy: 0.7628\n",
            "Epoch 22/400\n",
            "5/5 [==============================] - 0s 5ms/step - loss: 0.4511 - accuracy: 0.7628\n",
            "Epoch 23/400\n",
            "5/5 [==============================] - 0s 5ms/step - loss: 0.4447 - accuracy: 0.7628\n",
            "Epoch 24/400\n",
            "5/5 [==============================] - 0s 5ms/step - loss: 0.4383 - accuracy: 0.7692\n",
            "Epoch 25/400\n",
            "5/5 [==============================] - 0s 8ms/step - loss: 0.4322 - accuracy: 0.7821\n",
            "Epoch 26/400\n",
            "5/5 [==============================] - 0s 9ms/step - loss: 0.4260 - accuracy: 0.7949\n",
            "Epoch 27/400\n",
            "5/5 [==============================] - 0s 6ms/step - loss: 0.4215 - accuracy: 0.8205\n",
            "Epoch 28/400\n",
            "5/5 [==============================] - 0s 5ms/step - loss: 0.4178 - accuracy: 0.8205\n",
            "Epoch 29/400\n",
            "5/5 [==============================] - 0s 5ms/step - loss: 0.4130 - accuracy: 0.8333\n",
            "Epoch 30/400\n",
            "5/5 [==============================] - 0s 5ms/step - loss: 0.4083 - accuracy: 0.8269\n",
            "Epoch 31/400\n",
            "5/5 [==============================] - 0s 8ms/step - loss: 0.4052 - accuracy: 0.8269\n",
            "Epoch 32/400\n",
            "5/5 [==============================] - 0s 5ms/step - loss: 0.4015 - accuracy: 0.8269\n",
            "Epoch 33/400\n",
            "5/5 [==============================] - 0s 5ms/step - loss: 0.3982 - accuracy: 0.8205\n",
            "Epoch 34/400\n",
            "5/5 [==============================] - 0s 7ms/step - loss: 0.3971 - accuracy: 0.8141\n",
            "Epoch 35/400\n",
            "5/5 [==============================] - 0s 7ms/step - loss: 0.3930 - accuracy: 0.8077\n",
            "Epoch 36/400\n",
            "5/5 [==============================] - 0s 4ms/step - loss: 0.3904 - accuracy: 0.8077\n",
            "Epoch 37/400\n",
            "5/5 [==============================] - 0s 4ms/step - loss: 0.3874 - accuracy: 0.8077\n",
            "Epoch 38/400\n",
            "5/5 [==============================] - 0s 6ms/step - loss: 0.3864 - accuracy: 0.8141\n",
            "Epoch 39/400\n",
            "5/5 [==============================] - 0s 5ms/step - loss: 0.3826 - accuracy: 0.8141\n",
            "Epoch 40/400\n",
            "5/5 [==============================] - 0s 5ms/step - loss: 0.3806 - accuracy: 0.8141\n",
            "Epoch 41/400\n",
            "5/5 [==============================] - 0s 5ms/step - loss: 0.3779 - accuracy: 0.8077\n",
            "Epoch 42/400\n",
            "5/5 [==============================] - 0s 5ms/step - loss: 0.3757 - accuracy: 0.8077\n",
            "Epoch 43/400\n",
            "5/5 [==============================] - 0s 5ms/step - loss: 0.3735 - accuracy: 0.8077\n",
            "Epoch 44/400\n",
            "5/5 [==============================] - 0s 7ms/step - loss: 0.3726 - accuracy: 0.8205\n",
            "Epoch 45/400\n",
            "5/5 [==============================] - 0s 6ms/step - loss: 0.3695 - accuracy: 0.8205\n",
            "Epoch 46/400\n",
            "5/5 [==============================] - 0s 7ms/step - loss: 0.3678 - accuracy: 0.8141\n",
            "Epoch 47/400\n",
            "5/5 [==============================] - 0s 6ms/step - loss: 0.3662 - accuracy: 0.8141\n",
            "Epoch 48/400\n",
            "5/5 [==============================] - 0s 8ms/step - loss: 0.3632 - accuracy: 0.8205\n",
            "Epoch 49/400\n",
            "5/5 [==============================] - 0s 7ms/step - loss: 0.3615 - accuracy: 0.8205\n",
            "Epoch 50/400\n",
            "5/5 [==============================] - 0s 8ms/step - loss: 0.3596 - accuracy: 0.8269\n",
            "Epoch 51/400\n",
            "5/5 [==============================] - 0s 5ms/step - loss: 0.3576 - accuracy: 0.8269\n",
            "Epoch 52/400\n",
            "5/5 [==============================] - 0s 6ms/step - loss: 0.3558 - accuracy: 0.8269\n",
            "Epoch 53/400\n",
            "5/5 [==============================] - 0s 5ms/step - loss: 0.3546 - accuracy: 0.8269\n",
            "Epoch 54/400\n",
            "5/5 [==============================] - 0s 7ms/step - loss: 0.3525 - accuracy: 0.8269\n",
            "Epoch 55/400\n",
            "5/5 [==============================] - 0s 6ms/step - loss: 0.3512 - accuracy: 0.8269\n",
            "Epoch 56/400\n",
            "5/5 [==============================] - 0s 9ms/step - loss: 0.3534 - accuracy: 0.8077\n",
            "Epoch 57/400\n",
            "5/5 [==============================] - 0s 4ms/step - loss: 0.3484 - accuracy: 0.8205\n",
            "Epoch 58/400\n",
            "5/5 [==============================] - 0s 6ms/step - loss: 0.3466 - accuracy: 0.8205\n",
            "Epoch 59/400\n",
            "5/5 [==============================] - 0s 6ms/step - loss: 0.3456 - accuracy: 0.8269\n",
            "Epoch 60/400\n",
            "5/5 [==============================] - 0s 9ms/step - loss: 0.3445 - accuracy: 0.8205\n",
            "Epoch 61/400\n",
            "5/5 [==============================] - 0s 6ms/step - loss: 0.3429 - accuracy: 0.8269\n",
            "Epoch 62/400\n",
            "5/5 [==============================] - 0s 4ms/step - loss: 0.3432 - accuracy: 0.8269\n",
            "Epoch 63/400\n",
            "5/5 [==============================] - 0s 5ms/step - loss: 0.3407 - accuracy: 0.8269\n",
            "Epoch 64/400\n",
            "5/5 [==============================] - 0s 5ms/step - loss: 0.3400 - accuracy: 0.8269\n",
            "Epoch 65/400\n",
            "5/5 [==============================] - 0s 5ms/step - loss: 0.3388 - accuracy: 0.8269\n",
            "Epoch 66/400\n",
            "5/5 [==============================] - 0s 5ms/step - loss: 0.3382 - accuracy: 0.8205\n",
            "Epoch 67/400\n",
            "5/5 [==============================] - 0s 5ms/step - loss: 0.3373 - accuracy: 0.8205\n",
            "Epoch 68/400\n",
            "5/5 [==============================] - 0s 5ms/step - loss: 0.3354 - accuracy: 0.8269\n",
            "Epoch 69/400\n",
            "5/5 [==============================] - 0s 5ms/step - loss: 0.3344 - accuracy: 0.8269\n",
            "Epoch 70/400\n",
            "5/5 [==============================] - 0s 8ms/step - loss: 0.3333 - accuracy: 0.8269\n",
            "Epoch 71/400\n",
            "5/5 [==============================] - 0s 6ms/step - loss: 0.3324 - accuracy: 0.8269\n",
            "Epoch 72/400\n",
            "5/5 [==============================] - 0s 5ms/step - loss: 0.3322 - accuracy: 0.8205\n",
            "Epoch 73/400\n",
            "5/5 [==============================] - 0s 10ms/step - loss: 0.3308 - accuracy: 0.8269\n",
            "Epoch 74/400\n",
            "5/5 [==============================] - 0s 6ms/step - loss: 0.3299 - accuracy: 0.8205\n",
            "Epoch 75/400\n",
            "5/5 [==============================] - 0s 5ms/step - loss: 0.3294 - accuracy: 0.8269\n",
            "Epoch 76/400\n",
            "5/5 [==============================] - 0s 5ms/step - loss: 0.3282 - accuracy: 0.8269\n",
            "Epoch 77/400\n",
            "5/5 [==============================] - 0s 7ms/step - loss: 0.3290 - accuracy: 0.8269\n",
            "Epoch 78/400\n",
            "5/5 [==============================] - 0s 7ms/step - loss: 0.3267 - accuracy: 0.8269\n",
            "Epoch 79/400\n",
            "5/5 [==============================] - 0s 7ms/step - loss: 0.3256 - accuracy: 0.8269\n",
            "Epoch 80/400\n",
            "5/5 [==============================] - 0s 5ms/step - loss: 0.3248 - accuracy: 0.8269\n",
            "Epoch 81/400\n",
            "5/5 [==============================] - 0s 4ms/step - loss: 0.3237 - accuracy: 0.8269\n",
            "Epoch 82/400\n",
            "5/5 [==============================] - 0s 8ms/step - loss: 0.3230 - accuracy: 0.8333\n",
            "Epoch 83/400\n",
            "5/5 [==============================] - 0s 7ms/step - loss: 0.3224 - accuracy: 0.8333\n",
            "Epoch 84/400\n",
            "5/5 [==============================] - 0s 5ms/step - loss: 0.3228 - accuracy: 0.8269\n",
            "Epoch 85/400\n",
            "5/5 [==============================] - 0s 5ms/step - loss: 0.3211 - accuracy: 0.8269\n",
            "Epoch 86/400\n",
            "5/5 [==============================] - 0s 6ms/step - loss: 0.3197 - accuracy: 0.8333\n",
            "Epoch 87/400\n",
            "5/5 [==============================] - 0s 5ms/step - loss: 0.3207 - accuracy: 0.8333\n",
            "Epoch 88/400\n",
            "5/5 [==============================] - 0s 7ms/step - loss: 0.3188 - accuracy: 0.8333\n",
            "Epoch 89/400\n",
            "5/5 [==============================] - 0s 7ms/step - loss: 0.3176 - accuracy: 0.8333\n",
            "Epoch 90/400\n",
            "5/5 [==============================] - 0s 10ms/step - loss: 0.3163 - accuracy: 0.8269\n",
            "Epoch 91/400\n",
            "5/5 [==============================] - 0s 11ms/step - loss: 0.3204 - accuracy: 0.8333\n",
            "Epoch 92/400\n",
            "5/5 [==============================] - 0s 9ms/step - loss: 0.3165 - accuracy: 0.8205\n",
            "Epoch 93/400\n",
            "5/5 [==============================] - 0s 10ms/step - loss: 0.3154 - accuracy: 0.8333\n",
            "Epoch 94/400\n",
            "5/5 [==============================] - 0s 9ms/step - loss: 0.3166 - accuracy: 0.8333\n",
            "Epoch 95/400\n",
            "5/5 [==============================] - 0s 6ms/step - loss: 0.3156 - accuracy: 0.8397\n",
            "Epoch 96/400\n",
            "5/5 [==============================] - 0s 10ms/step - loss: 0.3155 - accuracy: 0.8333\n",
            "Epoch 97/400\n",
            "5/5 [==============================] - 0s 8ms/step - loss: 0.3119 - accuracy: 0.8397\n",
            "Epoch 98/400\n",
            "5/5 [==============================] - 0s 12ms/step - loss: 0.3115 - accuracy: 0.8397\n",
            "Epoch 99/400\n",
            "5/5 [==============================] - 0s 10ms/step - loss: 0.3106 - accuracy: 0.8333\n",
            "Epoch 100/400\n",
            "5/5 [==============================] - 0s 10ms/step - loss: 0.3113 - accuracy: 0.8205\n",
            "Epoch 101/400\n",
            "5/5 [==============================] - 0s 9ms/step - loss: 0.3094 - accuracy: 0.8397\n",
            "Epoch 102/400\n",
            "5/5 [==============================] - 0s 7ms/step - loss: 0.3081 - accuracy: 0.8462\n",
            "Epoch 103/400\n",
            "5/5 [==============================] - 0s 6ms/step - loss: 0.3084 - accuracy: 0.8462\n",
            "Epoch 104/400\n",
            "5/5 [==============================] - 0s 9ms/step - loss: 0.3062 - accuracy: 0.8462\n",
            "Epoch 105/400\n",
            "5/5 [==============================] - 0s 7ms/step - loss: 0.3068 - accuracy: 0.8462\n",
            "Epoch 106/400\n",
            "5/5 [==============================] - 0s 12ms/step - loss: 0.3052 - accuracy: 0.8462\n",
            "Epoch 107/400\n",
            "5/5 [==============================] - 0s 7ms/step - loss: 0.3040 - accuracy: 0.8333\n",
            "Epoch 108/400\n",
            "5/5 [==============================] - 0s 6ms/step - loss: 0.3035 - accuracy: 0.8333\n",
            "Epoch 109/400\n",
            "5/5 [==============================] - 0s 6ms/step - loss: 0.3025 - accuracy: 0.8269\n",
            "Epoch 110/400\n",
            "5/5 [==============================] - 0s 6ms/step - loss: 0.3011 - accuracy: 0.8269\n",
            "Epoch 111/400\n",
            "5/5 [==============================] - 0s 5ms/step - loss: 0.3011 - accuracy: 0.8462\n",
            "Epoch 112/400\n",
            "5/5 [==============================] - 0s 4ms/step - loss: 0.2998 - accuracy: 0.8397\n",
            "Epoch 113/400\n",
            "5/5 [==============================] - 0s 5ms/step - loss: 0.3002 - accuracy: 0.8462\n",
            "Epoch 114/400\n",
            "5/5 [==============================] - 0s 5ms/step - loss: 0.2974 - accuracy: 0.8333\n",
            "Epoch 115/400\n",
            "5/5 [==============================] - 0s 6ms/step - loss: 0.2966 - accuracy: 0.8269\n",
            "Epoch 116/400\n",
            "5/5 [==============================] - 0s 5ms/step - loss: 0.2969 - accuracy: 0.8333\n",
            "Epoch 117/400\n",
            "5/5 [==============================] - 0s 8ms/step - loss: 0.2965 - accuracy: 0.8333\n",
            "Epoch 118/400\n",
            "5/5 [==============================] - 0s 5ms/step - loss: 0.2951 - accuracy: 0.8397\n",
            "Epoch 119/400\n",
            "5/5 [==============================] - 0s 6ms/step - loss: 0.2931 - accuracy: 0.8462\n",
            "Epoch 120/400\n",
            "5/5 [==============================] - 0s 7ms/step - loss: 0.2923 - accuracy: 0.8333\n",
            "Epoch 121/400\n",
            "5/5 [==============================] - 0s 12ms/step - loss: 0.2915 - accuracy: 0.8333\n",
            "Epoch 122/400\n",
            "5/5 [==============================] - 0s 7ms/step - loss: 0.2906 - accuracy: 0.8333\n",
            "Epoch 123/400\n",
            "5/5 [==============================] - 0s 5ms/step - loss: 0.2908 - accuracy: 0.8333\n",
            "Epoch 124/400\n",
            "5/5 [==============================] - 0s 5ms/step - loss: 0.2884 - accuracy: 0.8333\n",
            "Epoch 125/400\n",
            "5/5 [==============================] - 0s 6ms/step - loss: 0.2906 - accuracy: 0.8462\n",
            "Epoch 126/400\n",
            "5/5 [==============================] - 0s 7ms/step - loss: 0.2862 - accuracy: 0.8397\n",
            "Epoch 127/400\n",
            "5/5 [==============================] - 0s 9ms/step - loss: 0.2872 - accuracy: 0.8462\n",
            "Epoch 128/400\n",
            "5/5 [==============================] - 0s 9ms/step - loss: 0.2875 - accuracy: 0.8397\n",
            "Epoch 129/400\n",
            "5/5 [==============================] - 0s 9ms/step - loss: 0.2845 - accuracy: 0.8333\n",
            "Epoch 130/400\n",
            "5/5 [==============================] - 0s 5ms/step - loss: 0.2828 - accuracy: 0.8462\n",
            "Epoch 131/400\n",
            "5/5 [==============================] - 0s 8ms/step - loss: 0.2816 - accuracy: 0.8526\n",
            "Epoch 132/400\n",
            "5/5 [==============================] - 0s 8ms/step - loss: 0.2808 - accuracy: 0.8462\n",
            "Epoch 133/400\n",
            "5/5 [==============================] - 0s 5ms/step - loss: 0.2778 - accuracy: 0.8526\n",
            "Epoch 134/400\n",
            "5/5 [==============================] - 0s 5ms/step - loss: 0.2824 - accuracy: 0.8397\n",
            "Epoch 135/400\n",
            "5/5 [==============================] - 0s 5ms/step - loss: 0.2783 - accuracy: 0.8397\n",
            "Epoch 136/400\n",
            "5/5 [==============================] - 0s 8ms/step - loss: 0.2749 - accuracy: 0.8462\n",
            "Epoch 137/400\n",
            "5/5 [==============================] - 0s 5ms/step - loss: 0.2745 - accuracy: 0.8526\n",
            "Epoch 138/400\n",
            "5/5 [==============================] - 0s 9ms/step - loss: 0.2730 - accuracy: 0.8590\n",
            "Epoch 139/400\n",
            "5/5 [==============================] - 0s 7ms/step - loss: 0.2738 - accuracy: 0.8462\n",
            "Epoch 140/400\n",
            "5/5 [==============================] - 0s 7ms/step - loss: 0.2706 - accuracy: 0.8462\n",
            "Epoch 141/400\n",
            "5/5 [==============================] - 0s 5ms/step - loss: 0.2693 - accuracy: 0.8590\n",
            "Epoch 142/400\n",
            "5/5 [==============================] - 0s 7ms/step - loss: 0.2679 - accuracy: 0.8590\n",
            "Epoch 143/400\n",
            "5/5 [==============================] - 0s 11ms/step - loss: 0.2672 - accuracy: 0.8526\n",
            "Epoch 144/400\n",
            "5/5 [==============================] - 0s 7ms/step - loss: 0.2662 - accuracy: 0.8590\n",
            "Epoch 145/400\n",
            "5/5 [==============================] - 0s 7ms/step - loss: 0.2643 - accuracy: 0.8590\n",
            "Epoch 146/400\n",
            "5/5 [==============================] - 0s 9ms/step - loss: 0.2649 - accuracy: 0.8590\n",
            "Epoch 147/400\n",
            "5/5 [==============================] - 0s 6ms/step - loss: 0.2650 - accuracy: 0.8526\n",
            "Epoch 148/400\n",
            "5/5 [==============================] - 0s 6ms/step - loss: 0.2612 - accuracy: 0.8526\n",
            "Epoch 149/400\n",
            "5/5 [==============================] - 0s 5ms/step - loss: 0.2604 - accuracy: 0.8590\n",
            "Epoch 150/400\n",
            "5/5 [==============================] - 0s 5ms/step - loss: 0.2589 - accuracy: 0.8590\n",
            "Epoch 151/400\n",
            "5/5 [==============================] - 0s 4ms/step - loss: 0.2590 - accuracy: 0.8590\n",
            "Epoch 152/400\n",
            "5/5 [==============================] - 0s 5ms/step - loss: 0.2552 - accuracy: 0.8590\n",
            "Epoch 153/400\n",
            "5/5 [==============================] - 0s 5ms/step - loss: 0.2589 - accuracy: 0.8654\n",
            "Epoch 154/400\n",
            "5/5 [==============================] - 0s 7ms/step - loss: 0.2539 - accuracy: 0.8590\n",
            "Epoch 155/400\n",
            "5/5 [==============================] - 0s 7ms/step - loss: 0.2528 - accuracy: 0.8718\n",
            "Epoch 156/400\n",
            "5/5 [==============================] - 0s 7ms/step - loss: 0.2528 - accuracy: 0.8654\n",
            "Epoch 157/400\n",
            "5/5 [==============================] - 0s 6ms/step - loss: 0.2496 - accuracy: 0.8654\n",
            "Epoch 158/400\n",
            "5/5 [==============================] - 0s 7ms/step - loss: 0.2486 - accuracy: 0.8718\n",
            "Epoch 159/400\n",
            "5/5 [==============================] - 0s 6ms/step - loss: 0.2486 - accuracy: 0.8718\n",
            "Epoch 160/400\n",
            "5/5 [==============================] - 0s 5ms/step - loss: 0.2483 - accuracy: 0.8654\n",
            "Epoch 161/400\n",
            "5/5 [==============================] - 0s 6ms/step - loss: 0.2444 - accuracy: 0.8718\n",
            "Epoch 162/400\n",
            "5/5 [==============================] - 0s 6ms/step - loss: 0.2471 - accuracy: 0.8782\n",
            "Epoch 163/400\n",
            "5/5 [==============================] - 0s 7ms/step - loss: 0.2483 - accuracy: 0.8718\n",
            "Epoch 164/400\n",
            "5/5 [==============================] - 0s 5ms/step - loss: 0.2462 - accuracy: 0.8718\n",
            "Epoch 165/400\n",
            "5/5 [==============================] - 0s 5ms/step - loss: 0.2389 - accuracy: 0.8846\n",
            "Epoch 166/400\n",
            "5/5 [==============================] - 0s 6ms/step - loss: 0.2416 - accuracy: 0.8782\n",
            "Epoch 167/400\n",
            "5/5 [==============================] - 0s 9ms/step - loss: 0.2373 - accuracy: 0.8718\n",
            "Epoch 168/400\n",
            "5/5 [==============================] - 0s 6ms/step - loss: 0.2399 - accuracy: 0.8718\n",
            "Epoch 169/400\n",
            "5/5 [==============================] - 0s 6ms/step - loss: 0.2345 - accuracy: 0.8846\n",
            "Epoch 170/400\n",
            "5/5 [==============================] - 0s 6ms/step - loss: 0.2315 - accuracy: 0.8782\n",
            "Epoch 171/400\n",
            "5/5 [==============================] - 0s 7ms/step - loss: 0.2320 - accuracy: 0.8846\n",
            "Epoch 172/400\n",
            "5/5 [==============================] - 0s 6ms/step - loss: 0.2315 - accuracy: 0.8846\n",
            "Epoch 173/400\n",
            "5/5 [==============================] - 0s 6ms/step - loss: 0.2285 - accuracy: 0.8782\n",
            "Epoch 174/400\n",
            "5/5 [==============================] - 0s 6ms/step - loss: 0.2281 - accuracy: 0.8910\n",
            "Epoch 175/400\n",
            "5/5 [==============================] - 0s 6ms/step - loss: 0.2269 - accuracy: 0.8910\n",
            "Epoch 176/400\n",
            "5/5 [==============================] - 0s 6ms/step - loss: 0.2268 - accuracy: 0.8910\n",
            "Epoch 177/400\n",
            "5/5 [==============================] - 0s 5ms/step - loss: 0.2255 - accuracy: 0.8910\n",
            "Epoch 178/400\n",
            "5/5 [==============================] - 0s 5ms/step - loss: 0.2210 - accuracy: 0.8782\n",
            "Epoch 179/400\n",
            "5/5 [==============================] - 0s 6ms/step - loss: 0.2252 - accuracy: 0.8846\n",
            "Epoch 180/400\n",
            "5/5 [==============================] - 0s 7ms/step - loss: 0.2193 - accuracy: 0.8846\n",
            "Epoch 181/400\n",
            "5/5 [==============================] - 0s 6ms/step - loss: 0.2175 - accuracy: 0.8846\n",
            "Epoch 182/400\n",
            "5/5 [==============================] - 0s 6ms/step - loss: 0.2171 - accuracy: 0.8974\n",
            "Epoch 183/400\n",
            "5/5 [==============================] - 0s 6ms/step - loss: 0.2153 - accuracy: 0.8974\n",
            "Epoch 184/400\n",
            "5/5 [==============================] - 0s 5ms/step - loss: 0.2130 - accuracy: 0.9038\n",
            "Epoch 185/400\n",
            "5/5 [==============================] - 0s 6ms/step - loss: 0.2134 - accuracy: 0.8974\n",
            "Epoch 186/400\n",
            "5/5 [==============================] - 0s 6ms/step - loss: 0.2111 - accuracy: 0.8974\n",
            "Epoch 187/400\n",
            "5/5 [==============================] - 0s 5ms/step - loss: 0.2089 - accuracy: 0.9038\n",
            "Epoch 188/400\n",
            "5/5 [==============================] - 0s 6ms/step - loss: 0.2076 - accuracy: 0.8974\n",
            "Epoch 189/400\n",
            "5/5 [==============================] - 0s 6ms/step - loss: 0.2055 - accuracy: 0.9038\n",
            "Epoch 190/400\n",
            "5/5 [==============================] - 0s 7ms/step - loss: 0.2071 - accuracy: 0.8974\n",
            "Epoch 191/400\n",
            "5/5 [==============================] - 0s 6ms/step - loss: 0.2024 - accuracy: 0.9038\n",
            "Epoch 192/400\n",
            "5/5 [==============================] - 0s 9ms/step - loss: 0.2036 - accuracy: 0.8910\n",
            "Epoch 193/400\n",
            "5/5 [==============================] - 0s 5ms/step - loss: 0.2038 - accuracy: 0.8910\n",
            "Epoch 194/400\n",
            "5/5 [==============================] - 0s 8ms/step - loss: 0.1987 - accuracy: 0.8974\n",
            "Epoch 195/400\n",
            "5/5 [==============================] - 0s 6ms/step - loss: 0.2002 - accuracy: 0.9038\n",
            "Epoch 196/400\n",
            "5/5 [==============================] - 0s 6ms/step - loss: 0.1997 - accuracy: 0.8974\n",
            "Epoch 197/400\n",
            "5/5 [==============================] - 0s 6ms/step - loss: 0.1953 - accuracy: 0.8974\n",
            "Epoch 198/400\n",
            "5/5 [==============================] - 0s 6ms/step - loss: 0.1954 - accuracy: 0.9038\n",
            "Epoch 199/400\n",
            "5/5 [==============================] - 0s 6ms/step - loss: 0.1922 - accuracy: 0.9167\n",
            "Epoch 200/400\n",
            "5/5 [==============================] - 0s 6ms/step - loss: 0.1906 - accuracy: 0.8974\n",
            "Epoch 201/400\n",
            "5/5 [==============================] - 0s 5ms/step - loss: 0.1892 - accuracy: 0.9038\n",
            "Epoch 202/400\n",
            "5/5 [==============================] - 0s 8ms/step - loss: 0.1878 - accuracy: 0.9038\n",
            "Epoch 203/400\n",
            "5/5 [==============================] - 0s 6ms/step - loss: 0.1877 - accuracy: 0.8974\n",
            "Epoch 204/400\n",
            "5/5 [==============================] - 0s 6ms/step - loss: 0.1851 - accuracy: 0.8974\n",
            "Epoch 205/400\n",
            "5/5 [==============================] - 0s 6ms/step - loss: 0.1832 - accuracy: 0.9167\n",
            "Epoch 206/400\n",
            "5/5 [==============================] - 0s 5ms/step - loss: 0.1827 - accuracy: 0.9038\n",
            "Epoch 207/400\n",
            "5/5 [==============================] - 0s 6ms/step - loss: 0.1807 - accuracy: 0.9103\n",
            "Epoch 208/400\n",
            "5/5 [==============================] - 0s 5ms/step - loss: 0.1784 - accuracy: 0.9167\n",
            "Epoch 209/400\n",
            "5/5 [==============================] - 0s 5ms/step - loss: 0.1776 - accuracy: 0.9167\n",
            "Epoch 210/400\n",
            "5/5 [==============================] - 0s 5ms/step - loss: 0.1779 - accuracy: 0.9103\n",
            "Epoch 211/400\n",
            "5/5 [==============================] - 0s 14ms/step - loss: 0.1747 - accuracy: 0.9103\n",
            "Epoch 212/400\n",
            "5/5 [==============================] - 0s 7ms/step - loss: 0.1732 - accuracy: 0.9231\n",
            "Epoch 213/400\n",
            "5/5 [==============================] - 0s 5ms/step - loss: 0.1740 - accuracy: 0.9295\n",
            "Epoch 214/400\n",
            "5/5 [==============================] - 0s 5ms/step - loss: 0.1686 - accuracy: 0.9231\n",
            "Epoch 215/400\n",
            "5/5 [==============================] - 0s 6ms/step - loss: 0.1719 - accuracy: 0.9103\n",
            "Epoch 216/400\n",
            "5/5 [==============================] - 0s 8ms/step - loss: 0.1688 - accuracy: 0.9231\n",
            "Epoch 217/400\n",
            "5/5 [==============================] - 0s 6ms/step - loss: 0.1662 - accuracy: 0.9231\n",
            "Epoch 218/400\n",
            "5/5 [==============================] - 0s 6ms/step - loss: 0.1670 - accuracy: 0.9359\n",
            "Epoch 219/400\n",
            "5/5 [==============================] - 0s 6ms/step - loss: 0.1654 - accuracy: 0.9167\n",
            "Epoch 220/400\n",
            "5/5 [==============================] - 0s 6ms/step - loss: 0.1642 - accuracy: 0.9231\n",
            "Epoch 221/400\n",
            "5/5 [==============================] - 0s 6ms/step - loss: 0.1630 - accuracy: 0.9359\n",
            "Epoch 222/400\n",
            "5/5 [==============================] - 0s 11ms/step - loss: 0.1606 - accuracy: 0.9231\n",
            "Epoch 223/400\n",
            "5/5 [==============================] - 0s 11ms/step - loss: 0.1589 - accuracy: 0.9231\n",
            "Epoch 224/400\n",
            "5/5 [==============================] - 0s 8ms/step - loss: 0.1576 - accuracy: 0.9231\n",
            "Epoch 225/400\n",
            "5/5 [==============================] - 0s 8ms/step - loss: 0.1591 - accuracy: 0.9359\n",
            "Epoch 226/400\n",
            "5/5 [==============================] - 0s 8ms/step - loss: 0.1547 - accuracy: 0.9295\n",
            "Epoch 227/400\n",
            "5/5 [==============================] - 0s 11ms/step - loss: 0.1599 - accuracy: 0.9231\n",
            "Epoch 228/400\n",
            "5/5 [==============================] - 0s 8ms/step - loss: 0.1536 - accuracy: 0.9295\n",
            "Epoch 229/400\n",
            "5/5 [==============================] - 0s 6ms/step - loss: 0.1533 - accuracy: 0.9423\n",
            "Epoch 230/400\n",
            "5/5 [==============================] - 0s 7ms/step - loss: 0.1500 - accuracy: 0.9423\n",
            "Epoch 231/400\n",
            "5/5 [==============================] - 0s 7ms/step - loss: 0.1513 - accuracy: 0.9231\n",
            "Epoch 232/400\n",
            "5/5 [==============================] - 0s 7ms/step - loss: 0.1485 - accuracy: 0.9231\n",
            "Epoch 233/400\n",
            "5/5 [==============================] - 0s 6ms/step - loss: 0.1495 - accuracy: 0.9359\n",
            "Epoch 234/400\n",
            "5/5 [==============================] - 0s 5ms/step - loss: 0.1458 - accuracy: 0.9423\n",
            "Epoch 235/400\n",
            "5/5 [==============================] - 0s 6ms/step - loss: 0.1433 - accuracy: 0.9295\n",
            "Epoch 236/400\n",
            "5/5 [==============================] - 0s 9ms/step - loss: 0.1425 - accuracy: 0.9295\n",
            "Epoch 237/400\n",
            "5/5 [==============================] - 0s 6ms/step - loss: 0.1424 - accuracy: 0.9487\n",
            "Epoch 238/400\n",
            "5/5 [==============================] - 0s 9ms/step - loss: 0.1403 - accuracy: 0.9487\n",
            "Epoch 239/400\n",
            "5/5 [==============================] - 0s 7ms/step - loss: 0.1399 - accuracy: 0.9423\n",
            "Epoch 240/400\n",
            "5/5 [==============================] - 0s 6ms/step - loss: 0.1382 - accuracy: 0.9487\n",
            "Epoch 241/400\n",
            "5/5 [==============================] - 0s 6ms/step - loss: 0.1383 - accuracy: 0.9487\n",
            "Epoch 242/400\n",
            "5/5 [==============================] - 0s 6ms/step - loss: 0.1377 - accuracy: 0.9423\n",
            "Epoch 243/400\n",
            "5/5 [==============================] - 0s 6ms/step - loss: 0.1348 - accuracy: 0.9423\n",
            "Epoch 244/400\n",
            "5/5 [==============================] - 0s 6ms/step - loss: 0.1330 - accuracy: 0.9487\n",
            "Epoch 245/400\n",
            "5/5 [==============================] - 0s 6ms/step - loss: 0.1376 - accuracy: 0.9423\n",
            "Epoch 246/400\n",
            "5/5 [==============================] - 0s 6ms/step - loss: 0.1346 - accuracy: 0.9359\n",
            "Epoch 247/400\n",
            "5/5 [==============================] - 0s 6ms/step - loss: 0.1339 - accuracy: 0.9551\n",
            "Epoch 248/400\n",
            "5/5 [==============================] - 0s 8ms/step - loss: 0.1295 - accuracy: 0.9487\n",
            "Epoch 249/400\n",
            "5/5 [==============================] - 0s 7ms/step - loss: 0.1286 - accuracy: 0.9551\n",
            "Epoch 250/400\n",
            "5/5 [==============================] - 0s 7ms/step - loss: 0.1274 - accuracy: 0.9487\n",
            "Epoch 251/400\n",
            "5/5 [==============================] - 0s 5ms/step - loss: 0.1262 - accuracy: 0.9551\n",
            "Epoch 252/400\n",
            "5/5 [==============================] - 0s 6ms/step - loss: 0.1263 - accuracy: 0.9487\n",
            "Epoch 253/400\n",
            "5/5 [==============================] - 0s 6ms/step - loss: 0.1247 - accuracy: 0.9487\n",
            "Epoch 254/400\n",
            "5/5 [==============================] - 0s 6ms/step - loss: 0.1221 - accuracy: 0.9551\n",
            "Epoch 255/400\n",
            "5/5 [==============================] - 0s 6ms/step - loss: 0.1207 - accuracy: 0.9551\n",
            "Epoch 256/400\n",
            "5/5 [==============================] - 0s 6ms/step - loss: 0.1203 - accuracy: 0.9551\n",
            "Epoch 257/400\n",
            "5/5 [==============================] - 0s 8ms/step - loss: 0.1204 - accuracy: 0.9551\n",
            "Epoch 258/400\n",
            "5/5 [==============================] - 0s 10ms/step - loss: 0.1183 - accuracy: 0.9551\n",
            "Epoch 259/400\n",
            "5/5 [==============================] - 0s 9ms/step - loss: 0.1174 - accuracy: 0.9615\n",
            "Epoch 260/400\n",
            "5/5 [==============================] - 0s 8ms/step - loss: 0.1218 - accuracy: 0.9487\n",
            "Epoch 261/400\n",
            "5/5 [==============================] - 0s 9ms/step - loss: 0.1162 - accuracy: 0.9551\n",
            "Epoch 262/400\n",
            "5/5 [==============================] - 0s 8ms/step - loss: 0.1166 - accuracy: 0.9615\n",
            "Epoch 263/400\n",
            "5/5 [==============================] - 0s 9ms/step - loss: 0.1148 - accuracy: 0.9615\n",
            "Epoch 264/400\n",
            "5/5 [==============================] - 0s 9ms/step - loss: 0.1122 - accuracy: 0.9615\n",
            "Epoch 265/400\n",
            "5/5 [==============================] - 0s 8ms/step - loss: 0.1118 - accuracy: 0.9551\n",
            "Epoch 266/400\n",
            "5/5 [==============================] - 0s 9ms/step - loss: 0.1096 - accuracy: 0.9615\n",
            "Epoch 267/400\n",
            "5/5 [==============================] - 0s 8ms/step - loss: 0.1117 - accuracy: 0.9615\n",
            "Epoch 268/400\n",
            "5/5 [==============================] - 0s 5ms/step - loss: 0.1146 - accuracy: 0.9615\n",
            "Epoch 269/400\n",
            "5/5 [==============================] - 0s 6ms/step - loss: 0.1084 - accuracy: 0.9615\n",
            "Epoch 270/400\n",
            "5/5 [==============================] - 0s 7ms/step - loss: 0.1095 - accuracy: 0.9615\n",
            "Epoch 271/400\n",
            "5/5 [==============================] - 0s 6ms/step - loss: 0.1098 - accuracy: 0.9487\n",
            "Epoch 272/400\n",
            "5/5 [==============================] - 0s 6ms/step - loss: 0.1055 - accuracy: 0.9615\n",
            "Epoch 273/400\n",
            "5/5 [==============================] - 0s 7ms/step - loss: 0.1044 - accuracy: 0.9615\n",
            "Epoch 274/400\n",
            "5/5 [==============================] - 0s 6ms/step - loss: 0.1032 - accuracy: 0.9615\n",
            "Epoch 275/400\n",
            "5/5 [==============================] - 0s 5ms/step - loss: 0.1010 - accuracy: 0.9615\n",
            "Epoch 276/400\n",
            "5/5 [==============================] - 0s 5ms/step - loss: 0.1023 - accuracy: 0.9679\n",
            "Epoch 277/400\n",
            "5/5 [==============================] - 0s 5ms/step - loss: 0.0992 - accuracy: 0.9679\n",
            "Epoch 278/400\n",
            "5/5 [==============================] - 0s 5ms/step - loss: 0.1047 - accuracy: 0.9615\n",
            "Epoch 279/400\n",
            "5/5 [==============================] - 0s 5ms/step - loss: 0.0985 - accuracy: 0.9615\n",
            "Epoch 280/400\n",
            "5/5 [==============================] - 0s 5ms/step - loss: 0.1004 - accuracy: 0.9615\n",
            "Epoch 281/400\n",
            "5/5 [==============================] - 0s 7ms/step - loss: 0.1026 - accuracy: 0.9615\n",
            "Epoch 282/400\n",
            "5/5 [==============================] - 0s 10ms/step - loss: 0.0964 - accuracy: 0.9679\n",
            "Epoch 283/400\n",
            "5/5 [==============================] - 0s 8ms/step - loss: 0.0956 - accuracy: 0.9679\n",
            "Epoch 284/400\n",
            "5/5 [==============================] - 0s 5ms/step - loss: 0.0958 - accuracy: 0.9679\n",
            "Epoch 285/400\n",
            "5/5 [==============================] - 0s 5ms/step - loss: 0.0940 - accuracy: 0.9679\n",
            "Epoch 286/400\n",
            "5/5 [==============================] - 0s 5ms/step - loss: 0.0925 - accuracy: 0.9615\n",
            "Epoch 287/400\n",
            "5/5 [==============================] - 0s 5ms/step - loss: 0.0939 - accuracy: 0.9615\n",
            "Epoch 288/400\n",
            "5/5 [==============================] - 0s 7ms/step - loss: 0.0905 - accuracy: 0.9615\n",
            "Epoch 289/400\n",
            "5/5 [==============================] - 0s 5ms/step - loss: 0.0943 - accuracy: 0.9615\n",
            "Epoch 290/400\n",
            "5/5 [==============================] - 0s 5ms/step - loss: 0.0881 - accuracy: 0.9679\n",
            "Epoch 291/400\n",
            "5/5 [==============================] - 0s 6ms/step - loss: 0.0902 - accuracy: 0.9615\n",
            "Epoch 292/400\n",
            "5/5 [==============================] - 0s 5ms/step - loss: 0.0884 - accuracy: 0.9679\n",
            "Epoch 293/400\n",
            "5/5 [==============================] - 0s 5ms/step - loss: 0.0885 - accuracy: 0.9679\n",
            "Epoch 294/400\n",
            "5/5 [==============================] - 0s 6ms/step - loss: 0.0848 - accuracy: 0.9615\n",
            "Epoch 295/400\n",
            "5/5 [==============================] - 0s 5ms/step - loss: 0.0870 - accuracy: 0.9679\n",
            "Epoch 296/400\n",
            "5/5 [==============================] - 0s 5ms/step - loss: 0.0838 - accuracy: 0.9679\n",
            "Epoch 297/400\n",
            "5/5 [==============================] - 0s 6ms/step - loss: 0.0853 - accuracy: 0.9744\n",
            "Epoch 298/400\n",
            "5/5 [==============================] - 0s 5ms/step - loss: 0.0874 - accuracy: 0.9551\n",
            "Epoch 299/400\n",
            "5/5 [==============================] - 0s 5ms/step - loss: 0.0824 - accuracy: 0.9615\n",
            "Epoch 300/400\n",
            "5/5 [==============================] - 0s 7ms/step - loss: 0.0818 - accuracy: 0.9744\n",
            "Epoch 301/400\n",
            "5/5 [==============================] - 0s 9ms/step - loss: 0.0796 - accuracy: 0.9679\n",
            "Epoch 302/400\n",
            "5/5 [==============================] - 0s 10ms/step - loss: 0.0787 - accuracy: 0.9679\n",
            "Epoch 303/400\n",
            "5/5 [==============================] - 0s 6ms/step - loss: 0.0792 - accuracy: 0.9679\n",
            "Epoch 304/400\n",
            "5/5 [==============================] - 0s 10ms/step - loss: 0.0776 - accuracy: 0.9679\n",
            "Epoch 305/400\n",
            "5/5 [==============================] - 0s 6ms/step - loss: 0.0783 - accuracy: 0.9679\n",
            "Epoch 306/400\n",
            "5/5 [==============================] - 0s 6ms/step - loss: 0.0778 - accuracy: 0.9615\n",
            "Epoch 307/400\n",
            "5/5 [==============================] - 0s 7ms/step - loss: 0.0765 - accuracy: 0.9615\n",
            "Epoch 308/400\n",
            "5/5 [==============================] - 0s 10ms/step - loss: 0.0749 - accuracy: 0.9808\n",
            "Epoch 309/400\n",
            "5/5 [==============================] - 0s 10ms/step - loss: 0.0745 - accuracy: 0.9744\n",
            "Epoch 310/400\n",
            "5/5 [==============================] - 0s 9ms/step - loss: 0.0738 - accuracy: 0.9744\n",
            "Epoch 311/400\n",
            "5/5 [==============================] - 0s 6ms/step - loss: 0.0731 - accuracy: 0.9808\n",
            "Epoch 312/400\n",
            "5/5 [==============================] - 0s 6ms/step - loss: 0.0707 - accuracy: 0.9679\n",
            "Epoch 313/400\n",
            "5/5 [==============================] - 0s 6ms/step - loss: 0.0714 - accuracy: 0.9679\n",
            "Epoch 314/400\n",
            "5/5 [==============================] - 0s 6ms/step - loss: 0.0684 - accuracy: 0.9615\n",
            "Epoch 315/400\n",
            "5/5 [==============================] - 0s 5ms/step - loss: 0.0705 - accuracy: 0.9808\n",
            "Epoch 316/400\n",
            "5/5 [==============================] - 0s 5ms/step - loss: 0.0701 - accuracy: 0.9679\n",
            "Epoch 317/400\n",
            "5/5 [==============================] - 0s 6ms/step - loss: 0.0678 - accuracy: 0.9744\n",
            "Epoch 318/400\n",
            "5/5 [==============================] - 0s 6ms/step - loss: 0.0669 - accuracy: 0.9808\n",
            "Epoch 319/400\n",
            "5/5 [==============================] - 0s 6ms/step - loss: 0.0658 - accuracy: 0.9808\n",
            "Epoch 320/400\n",
            "5/5 [==============================] - 0s 6ms/step - loss: 0.0648 - accuracy: 0.9744\n",
            "Epoch 321/400\n",
            "5/5 [==============================] - 0s 6ms/step - loss: 0.0645 - accuracy: 0.9744\n",
            "Epoch 322/400\n",
            "5/5 [==============================] - 0s 10ms/step - loss: 0.0670 - accuracy: 0.9808\n",
            "Epoch 323/400\n",
            "5/5 [==============================] - 0s 7ms/step - loss: 0.0638 - accuracy: 0.9872\n",
            "Epoch 324/400\n",
            "5/5 [==============================] - 0s 6ms/step - loss: 0.0642 - accuracy: 0.9679\n",
            "Epoch 325/400\n",
            "5/5 [==============================] - 0s 8ms/step - loss: 0.0628 - accuracy: 0.9872\n",
            "Epoch 326/400\n",
            "5/5 [==============================] - 0s 10ms/step - loss: 0.0612 - accuracy: 0.9808\n",
            "Epoch 327/400\n",
            "5/5 [==============================] - 0s 6ms/step - loss: 0.0600 - accuracy: 0.9744\n",
            "Epoch 328/400\n",
            "5/5 [==============================] - 0s 7ms/step - loss: 0.0595 - accuracy: 0.9679\n",
            "Epoch 329/400\n",
            "5/5 [==============================] - 0s 6ms/step - loss: 0.0608 - accuracy: 0.9808\n",
            "Epoch 330/400\n",
            "5/5 [==============================] - 0s 7ms/step - loss: 0.0581 - accuracy: 0.9808\n",
            "Epoch 331/400\n",
            "5/5 [==============================] - 0s 6ms/step - loss: 0.0595 - accuracy: 0.9744\n",
            "Epoch 332/400\n",
            "5/5 [==============================] - 0s 6ms/step - loss: 0.0600 - accuracy: 0.9872\n",
            "Epoch 333/400\n",
            "5/5 [==============================] - 0s 10ms/step - loss: 0.0585 - accuracy: 0.9808\n",
            "Epoch 334/400\n",
            "5/5 [==============================] - 0s 9ms/step - loss: 0.0555 - accuracy: 0.9808\n",
            "Epoch 335/400\n",
            "5/5 [==============================] - 0s 8ms/step - loss: 0.0566 - accuracy: 0.9808\n",
            "Epoch 336/400\n",
            "5/5 [==============================] - 0s 11ms/step - loss: 0.0554 - accuracy: 0.9744\n",
            "Epoch 337/400\n",
            "5/5 [==============================] - 0s 10ms/step - loss: 0.0544 - accuracy: 0.9872\n",
            "Epoch 338/400\n",
            "5/5 [==============================] - 0s 9ms/step - loss: 0.0544 - accuracy: 0.9808\n",
            "Epoch 339/400\n",
            "5/5 [==============================] - 0s 8ms/step - loss: 0.0521 - accuracy: 0.9808\n",
            "Epoch 340/400\n",
            "5/5 [==============================] - 0s 7ms/step - loss: 0.0538 - accuracy: 0.9808\n",
            "Epoch 341/400\n",
            "5/5 [==============================] - 0s 8ms/step - loss: 0.0509 - accuracy: 0.9872\n",
            "Epoch 342/400\n",
            "5/5 [==============================] - 0s 6ms/step - loss: 0.0530 - accuracy: 0.9808\n",
            "Epoch 343/400\n",
            "5/5 [==============================] - 0s 10ms/step - loss: 0.0537 - accuracy: 0.9808\n",
            "Epoch 344/400\n",
            "5/5 [==============================] - 0s 10ms/step - loss: 0.0520 - accuracy: 0.9808\n",
            "Epoch 345/400\n",
            "5/5 [==============================] - 0s 6ms/step - loss: 0.0492 - accuracy: 0.9808\n",
            "Epoch 346/400\n",
            "5/5 [==============================] - 0s 6ms/step - loss: 0.0472 - accuracy: 0.9872\n",
            "Epoch 347/400\n",
            "5/5 [==============================] - 0s 5ms/step - loss: 0.0488 - accuracy: 0.9936\n",
            "Epoch 348/400\n",
            "5/5 [==============================] - 0s 6ms/step - loss: 0.0485 - accuracy: 0.9872\n",
            "Epoch 349/400\n",
            "5/5 [==============================] - 0s 6ms/step - loss: 0.0482 - accuracy: 0.9808\n",
            "Epoch 350/400\n",
            "5/5 [==============================] - 0s 7ms/step - loss: 0.0456 - accuracy: 1.0000\n",
            "Epoch 351/400\n",
            "5/5 [==============================] - 0s 7ms/step - loss: 0.0466 - accuracy: 0.9936\n",
            "Epoch 352/400\n",
            "5/5 [==============================] - 0s 6ms/step - loss: 0.0434 - accuracy: 1.0000\n",
            "Epoch 353/400\n",
            "5/5 [==============================] - 0s 5ms/step - loss: 0.0456 - accuracy: 0.9872\n",
            "Epoch 354/400\n",
            "5/5 [==============================] - 0s 7ms/step - loss: 0.0433 - accuracy: 0.9936\n",
            "Epoch 355/400\n",
            "5/5 [==============================] - 0s 8ms/step - loss: 0.0427 - accuracy: 0.9936\n",
            "Epoch 356/400\n",
            "5/5 [==============================] - 0s 7ms/step - loss: 0.0436 - accuracy: 0.9936\n",
            "Epoch 357/400\n",
            "5/5 [==============================] - 0s 6ms/step - loss: 0.0433 - accuracy: 0.9936\n",
            "Epoch 358/400\n",
            "5/5 [==============================] - 0s 6ms/step - loss: 0.0410 - accuracy: 1.0000\n",
            "Epoch 359/400\n",
            "5/5 [==============================] - 0s 8ms/step - loss: 0.0407 - accuracy: 1.0000\n",
            "Epoch 360/400\n",
            "5/5 [==============================] - 0s 7ms/step - loss: 0.0437 - accuracy: 0.9936\n",
            "Epoch 361/400\n",
            "5/5 [==============================] - 0s 6ms/step - loss: 0.0387 - accuracy: 1.0000\n",
            "Epoch 362/400\n",
            "5/5 [==============================] - 0s 6ms/step - loss: 0.0399 - accuracy: 0.9936\n",
            "Epoch 363/400\n",
            "5/5 [==============================] - 0s 7ms/step - loss: 0.0405 - accuracy: 1.0000\n",
            "Epoch 364/400\n",
            "5/5 [==============================] - 0s 11ms/step - loss: 0.0385 - accuracy: 1.0000\n",
            "Epoch 365/400\n",
            "5/5 [==============================] - 0s 7ms/step - loss: 0.0372 - accuracy: 1.0000\n",
            "Epoch 366/400\n",
            "5/5 [==============================] - 0s 8ms/step - loss: 0.0377 - accuracy: 1.0000\n",
            "Epoch 367/400\n",
            "5/5 [==============================] - 0s 9ms/step - loss: 0.0375 - accuracy: 1.0000\n",
            "Epoch 368/400\n",
            "5/5 [==============================] - 0s 8ms/step - loss: 0.0370 - accuracy: 1.0000\n",
            "Epoch 369/400\n",
            "5/5 [==============================] - 0s 10ms/step - loss: 0.0361 - accuracy: 1.0000\n",
            "Epoch 370/400\n",
            "5/5 [==============================] - 0s 12ms/step - loss: 0.0353 - accuracy: 1.0000\n",
            "Epoch 371/400\n",
            "5/5 [==============================] - 0s 5ms/step - loss: 0.0352 - accuracy: 1.0000\n",
            "Epoch 372/400\n",
            "5/5 [==============================] - 0s 8ms/step - loss: 0.0345 - accuracy: 1.0000\n",
            "Epoch 373/400\n",
            "5/5 [==============================] - 0s 6ms/step - loss: 0.0360 - accuracy: 1.0000\n",
            "Epoch 374/400\n",
            "5/5 [==============================] - 0s 6ms/step - loss: 0.0337 - accuracy: 1.0000\n",
            "Epoch 375/400\n",
            "5/5 [==============================] - 0s 5ms/step - loss: 0.0335 - accuracy: 1.0000\n",
            "Epoch 376/400\n",
            "5/5 [==============================] - 0s 7ms/step - loss: 0.0327 - accuracy: 1.0000\n",
            "Epoch 377/400\n",
            "5/5 [==============================] - 0s 9ms/step - loss: 0.0349 - accuracy: 1.0000\n",
            "Epoch 378/400\n",
            "5/5 [==============================] - 0s 6ms/step - loss: 0.0342 - accuracy: 0.9936\n",
            "Epoch 379/400\n",
            "5/5 [==============================] - 0s 7ms/step - loss: 0.0345 - accuracy: 0.9936\n",
            "Epoch 380/400\n",
            "5/5 [==============================] - 0s 6ms/step - loss: 0.0338 - accuracy: 1.0000\n",
            "Epoch 381/400\n",
            "5/5 [==============================] - 0s 8ms/step - loss: 0.0352 - accuracy: 1.0000\n",
            "Epoch 382/400\n",
            "5/5 [==============================] - 0s 5ms/step - loss: 0.0304 - accuracy: 1.0000\n",
            "Epoch 383/400\n",
            "5/5 [==============================] - 0s 5ms/step - loss: 0.0320 - accuracy: 1.0000\n",
            "Epoch 384/400\n",
            "5/5 [==============================] - 0s 6ms/step - loss: 0.0301 - accuracy: 1.0000\n",
            "Epoch 385/400\n",
            "5/5 [==============================] - 0s 6ms/step - loss: 0.0314 - accuracy: 1.0000\n",
            "Epoch 386/400\n",
            "5/5 [==============================] - 0s 5ms/step - loss: 0.0287 - accuracy: 1.0000\n",
            "Epoch 387/400\n",
            "5/5 [==============================] - 0s 5ms/step - loss: 0.0283 - accuracy: 1.0000\n",
            "Epoch 388/400\n",
            "5/5 [==============================] - 0s 5ms/step - loss: 0.0285 - accuracy: 1.0000\n",
            "Epoch 389/400\n",
            "5/5 [==============================] - 0s 5ms/step - loss: 0.0293 - accuracy: 1.0000\n",
            "Epoch 390/400\n",
            "5/5 [==============================] - 0s 5ms/step - loss: 0.0282 - accuracy: 1.0000\n",
            "Epoch 391/400\n",
            "5/5 [==============================] - 0s 5ms/step - loss: 0.0271 - accuracy: 1.0000\n",
            "Epoch 392/400\n",
            "5/5 [==============================] - 0s 7ms/step - loss: 0.0271 - accuracy: 1.0000\n",
            "Epoch 393/400\n",
            "5/5 [==============================] - 0s 9ms/step - loss: 0.0264 - accuracy: 1.0000\n",
            "Epoch 394/400\n",
            "5/5 [==============================] - 0s 6ms/step - loss: 0.0266 - accuracy: 1.0000\n",
            "Epoch 395/400\n",
            "5/5 [==============================] - 0s 11ms/step - loss: 0.0254 - accuracy: 1.0000\n",
            "Epoch 396/400\n",
            "5/5 [==============================] - 0s 6ms/step - loss: 0.0253 - accuracy: 1.0000\n",
            "Epoch 397/400\n",
            "5/5 [==============================] - 0s 7ms/step - loss: 0.0256 - accuracy: 1.0000\n",
            "Epoch 398/400\n",
            "5/5 [==============================] - 0s 8ms/step - loss: 0.0251 - accuracy: 1.0000\n",
            "Epoch 399/400\n",
            "5/5 [==============================] - 0s 5ms/step - loss: 0.0256 - accuracy: 1.0000\n",
            "Epoch 400/400\n",
            "5/5 [==============================] - 0s 6ms/step - loss: 0.0244 - accuracy: 1.0000\n"
          ]
        },
        {
          "output_type": "execute_result",
          "data": {
            "text/plain": [
              "<keras.callbacks.History at 0x7f6110846d10>"
            ]
          },
          "metadata": {},
          "execution_count": 72
        }
      ]
    },
    {
      "cell_type": "code",
      "source": [
        "model7.evaluate(X_test,Y_test)"
      ],
      "metadata": {
        "colab": {
          "base_uri": "https://localhost:8080/"
        },
        "id": "nudfZTW81qyv",
        "outputId": "6309c529-7c5a-4ad2-a16d-87afce1b71c3"
      },
      "execution_count": 73,
      "outputs": [
        {
          "output_type": "stream",
          "name": "stdout",
          "text": [
            "2/2 [==============================] - 0s 8ms/step - loss: 0.2285 - accuracy: 0.9231\n"
          ]
        },
        {
          "output_type": "execute_result",
          "data": {
            "text/plain": [
              "[0.22850094735622406, 0.9230769276618958]"
            ]
          },
          "metadata": {},
          "execution_count": 73
        }
      ]
    },
    {
      "cell_type": "code",
      "source": [
        "prednn=model7.predict(X_test)\n",
        "prednn\n",
        "for i,j in enumerate(prednn):\n",
        "  if(j<0.5):\n",
        "    prednn[i]=0\n",
        "  else:\n",
        "    prednn[i]=1\n",
        "prednn.reshape(1,39)\n",
        "predd=prednn.flatten()\n",
        "print(predd)\n",
        "Y_test\n",
        "  "
      ],
      "metadata": {
        "colab": {
          "base_uri": "https://localhost:8080/"
        },
        "id": "fpw24hYH1wfI",
        "outputId": "0ec97107-f166-49c8-af58-8492732cfdb8"
      },
      "execution_count": 74,
      "outputs": [
        {
          "output_type": "stream",
          "name": "stdout",
          "text": [
            "[1. 1. 1. 1. 0. 1. 1. 1. 1. 1. 0. 1. 1. 1. 1. 0. 1. 1. 1. 1. 1. 0. 0. 1.\n",
            " 1. 1. 1. 1. 0. 0. 1. 1. 1. 0. 1. 1. 0. 1. 0.]\n"
          ]
        },
        {
          "output_type": "execute_result",
          "data": {
            "text/plain": [
              "array([1, 1, 1, 1, 0, 1, 0, 1, 1, 1, 1, 1, 1, 1, 1, 0, 1, 1, 1, 1, 1, 0,\n",
              "       0, 1, 1, 1, 1, 1, 0, 0, 1, 1, 1, 0, 0, 1, 0, 1, 0])"
            ]
          },
          "metadata": {},
          "execution_count": 74
        }
      ]
    },
    {
      "cell_type": "code",
      "source": [
        "cm=confusion_matrix(Y_test,predd)\n",
        "plt.figure()\n",
        "sn.heatmap(cm,annot=True)\n",
        "plt.xlabel(\"Predicted\")\n",
        "plt.ylabel(\"Truth\")"
      ],
      "metadata": {
        "colab": {
          "base_uri": "https://localhost:8080/",
          "height": 296
        },
        "id": "JTP2v32f156T",
        "outputId": "b290b286-4ea6-41f4-da84-8f0192146c36"
      },
      "execution_count": 75,
      "outputs": [
        {
          "output_type": "execute_result",
          "data": {
            "text/plain": [
              "Text(33.0, 0.5, 'Truth')"
            ]
          },
          "metadata": {},
          "execution_count": 75
        },
        {
          "output_type": "display_data",
          "data": {
            "text/plain": [
              "<Figure size 432x288 with 2 Axes>"
            ],
            "image/png": "[encoded data removed]"
          },
          "metadata": {
            "needs_background": "light"
          }
        }
      ]
    },
    {
      "cell_type": "markdown",
      "source": [
        "#ALL MODELS ACCURACY"
      ],
      "metadata": {
        "id": "0_vY7BvI4xbk"
      }
    },
    {
      "cell_type": "code",
      "source": [
        "print(\"Linear Regression Accuracy \")\n",
        "print(model1.score(X_test,Y_test)*100,\"% \\n\") \n",
        "\n",
        "print(\"Logistic Regression Accuracy : \")\n",
        "print(model2.score(X_test,Y_test)*100,\"%\\n\")\n",
        "\n",
        "print(\"Decision Tree Accuracy \")\n",
        "print(model3.score(X_test,Y_test)*100,\"%\\n\")\n",
        "\n",
        "print(\"Support Vector Machine Accuracy : \")\n",
        "print(model4.score(X_test,Y_test)*100,\"%\\n\")\n",
        "\n",
        "print(\"Random Forest Classifier Accuracy :\")\n",
        "print(model5.score(X_test,Y_test)*100,\"%\\n\")\n",
        "\n",
        "print(\"Xgbooster Accuracy : \")\n",
        "print(model6.score(X_test,Y_test)*100,\"%\\n\")\n",
        "\n",
        "print(\"NEURAL NETWORK ACCURACY \")\n",
        "_,x7=model7.evaluate(X_test,Y_test)\n",
        "print(x7*100,\"%\")"
      ],
      "metadata": {
        "colab": {
          "base_uri": "https://localhost:8080/"
        },
        "id": "qwy8fe2m4pTf",
        "outputId": "f9d1bbc0-ab95-417c-9cfc-03b7f424c7f3"
      },
      "execution_count": 76,
      "outputs": [
        {
          "output_type": "stream",
          "name": "stdout",
          "text": [
            "Linear Regression Accuracy \n",
            "66.34994862742182 % \n",
            "\n",
            "Logistic Regression Accuracy : \n",
            "97.43589743589743 %\n",
            "\n",
            "Decision Tree Accuracy \n",
            "92.3076923076923 %\n",
            "\n",
            "Support Vector Machine Accuracy : \n",
            "100.0 %\n",
            "\n",
            "Random Forest Classifier Accuracy :\n",
            "97.43589743589743 %\n",
            "\n",
            "Xgbooster Accuracy : \n",
            "100.0 %\n",
            "\n",
            "NEURAL NETWORK ACCURACY \n",
            "2/2 [==============================] - 0s 14ms/step - loss: 0.2285 - accuracy: 0.9231\n",
            "92.30769276618958 %\n"
          ]
        }
      ]
    },
    {
      "cell_type": "code",
      "source": [
        ""
      ],
      "metadata": {
        "id": "57XmwVYF5r3S"
      },
      "execution_count": 76,
      "outputs": []
    }
  ]
}