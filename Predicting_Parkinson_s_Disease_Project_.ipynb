{
  "nbformat": 4,
  "nbformat_minor": 0,
  "metadata": {
    "colab": {
      "name": "Predicting Parkinson s Disease Project_.ipynb",
      "provenance": [],
      "include_colab_link": true
    },
    "kernelspec": {
      "name": "python3",
      "display_name": "Python 3"
    },
    "language_info": {
      "name": "python"
    }
  },
  "cells": [
    {
      "cell_type": "markdown",
      "metadata": {
        "id": "view-in-github",
        "colab_type": "text"
      },
      "source": [
        "<a href=\"https://colab.research.google.com/github/ENG19CS0334-TEJAAL-M/Parkinson-Disease-Detection/blob/main/Predicting_Parkinson_s_Disease_Project_.ipynb\" target=\"_parent\"><img src=\"https://colab.research.google.com/assets/colab-badge.svg\" alt=\"Open In Colab\"/></a>"
      ]
    },
    {
      "cell_type": "markdown",
      "source": [
        "#**PARKINSON S DISEASE PREDICTION**\n",
        "###MINI PROJECT\n"
      ],
      "metadata": {
        "id": "9wMmwONEMS1b"
      }
    },
    {
      "cell_type": "markdown",
      "source": [
        "#**IMPORTING DATASET**"
      ],
      "metadata": {
        "id": "0sko5YGxMvqc"
      }
    },
    {
      "cell_type": "code",
      "execution_count": null,
      "metadata": {
        "id": "FUNPzKkIMLSH"
      },
      "outputs": [],
      "source": [
        "import numpy as np\n",
        "import pandas as pd"
      ]
    },
    {
      "cell_type": "code",
      "source": [
        "df=pd.read_csv(\"/content/parkinsons.csv\");"
      ],
      "metadata": {
        "id": "aJFJZoV7M7dW"
      },
      "execution_count": null,
      "outputs": []
    },
    {
      "cell_type": "code",
      "source": [
        "df.head()"
      ],
      "metadata": {
        "colab": {
          "base_uri": "https://localhost:8080/",
          "height": 300
        },
        "id": "hu3N7EiPNNeH",
        "outputId": "d706cb06-1e7b-4d70-f38f-223bc4f62833"
      },
      "execution_count": null,
      "outputs": [
        {
          "output_type": "execute_result",
          "data": {
            "text/plain": [
              "             name  MDVP:Fo(Hz)  MDVP:Fhi(Hz)  MDVP:Flo(Hz)  MDVP:Jitter(%)  \\\n",
              "0  phon_R01_S01_1      119.992       157.302        74.997         0.00784   \n",
              "1  phon_R01_S01_2      122.400       148.650       113.819         0.00968   \n",
              "2  phon_R01_S01_3      116.682       131.111       111.555         0.01050   \n",
              "3  phon_R01_S01_4      116.676       137.871       111.366         0.00997   \n",
              "4  phon_R01_S01_5      116.014       141.781       110.655         0.01284   \n",
              "\n",
              "   MDVP:Jitter(Abs)  MDVP:RAP  MDVP:PPQ  Jitter:DDP  MDVP:Shimmer  ...  \\\n",
              "0           0.00007   0.00370   0.00554     0.01109       0.04374  ...   \n",
              "1           0.00008   0.00465   0.00696     0.01394       0.06134  ...   \n",
              "2           0.00009   0.00544   0.00781     0.01633       0.05233  ...   \n",
              "3           0.00009   0.00502   0.00698     0.01505       0.05492  ...   \n",
              "4           0.00011   0.00655   0.00908     0.01966       0.06425  ...   \n",
              "\n",
              "   Shimmer:DDA      NHR     HNR  status      RPDE       DFA   spread1  \\\n",
              "0      0.06545  0.02211  21.033       1  0.414783  0.815285 -4.813031   \n",
              "1      0.09403  0.01929  19.085       1  0.458359  0.819521 -4.075192   \n",
              "2      0.08270  0.01309  20.651       1  0.429895  0.825288 -4.443179   \n",
              "3      0.08771  0.01353  20.644       1  0.434969  0.819235 -4.117501   \n",
              "4      0.10470  0.01767  19.649       1  0.417356  0.823484 -3.747787   \n",
              "\n",
              "    spread2        D2       PPE  \n",
              "0  0.266482  2.301442  0.284654  \n",
              "1  0.335590  2.486855  0.368674  \n",
              "2  0.311173  2.342259  0.332634  \n",
              "3  0.334147  2.405554  0.368975  \n",
              "4  0.234513  2.332180  0.410335  \n",
              "\n",
              "[5 rows x 24 columns]"
            ],
            "text/html": [
              "\n",
              "  <div id=\"df-e643b17b-92b5-43d3-b320-ca10ad82537a\">\n",
              "    <div class=\"colab-df-container\">\n",
              "      <div>\n",
              "<style scoped>\n",
              "    .dataframe tbody tr th:only-of-type {\n",
              "        vertical-align: middle;\n",
              "    }\n",
              "\n",
              "    .dataframe tbody tr th {\n",
              "        vertical-align: top;\n",
              "    }\n",
              "\n",
              "    .dataframe thead th {\n",
              "        text-align: right;\n",
              "    }\n",
              "</style>\n",
              "<table border=\"1\" class=\"dataframe\">\n",
              "  <thead>\n",
              "    <tr style=\"text-align: right;\">\n",
              "      <th></th>\n",
              "      <th>name</th>\n",
              "      <th>MDVP:Fo(Hz)</th>\n",
              "      <th>MDVP:Fhi(Hz)</th>\n",
              "      <th>MDVP:Flo(Hz)</th>\n",
              "      <th>MDVP:Jitter(%)</th>\n",
              "      <th>MDVP:Jitter(Abs)</th>\n",
              "      <th>MDVP:RAP</th>\n",
              "      <th>MDVP:PPQ</th>\n",
              "      <th>Jitter:DDP</th>\n",
              "      <th>MDVP:Shimmer</th>\n",
              "      <th>...</th>\n",
              "      <th>Shimmer:DDA</th>\n",
              "      <th>NHR</th>\n",
              "      <th>HNR</th>\n",
              "      <th>status</th>\n",
              "      <th>RPDE</th>\n",
              "      <th>DFA</th>\n",
              "      <th>spread1</th>\n",
              "      <th>spread2</th>\n",
              "      <th>D2</th>\n",
              "      <th>PPE</th>\n",
              "    </tr>\n",
              "  </thead>\n",
              "  <tbody>\n",
              "    <tr>\n",
              "      <th>0</th>\n",
              "      <td>phon_R01_S01_1</td>\n",
              "      <td>119.992</td>\n",
              "      <td>157.302</td>\n",
              "      <td>74.997</td>\n",
              "      <td>0.00784</td>\n",
              "      <td>0.00007</td>\n",
              "      <td>0.00370</td>\n",
              "      <td>0.00554</td>\n",
              "      <td>0.01109</td>\n",
              "      <td>0.04374</td>\n",
              "      <td>...</td>\n",
              "      <td>0.06545</td>\n",
              "      <td>0.02211</td>\n",
              "      <td>21.033</td>\n",
              "      <td>1</td>\n",
              "      <td>0.414783</td>\n",
              "      <td>0.815285</td>\n",
              "      <td>-4.813031</td>\n",
              "      <td>0.266482</td>\n",
              "      <td>2.301442</td>\n",
              "      <td>0.284654</td>\n",
              "    </tr>\n",
              "    <tr>\n",
              "      <th>1</th>\n",
              "      <td>phon_R01_S01_2</td>\n",
              "      <td>122.400</td>\n",
              "      <td>148.650</td>\n",
              "      <td>113.819</td>\n",
              "      <td>0.00968</td>\n",
              "      <td>0.00008</td>\n",
              "      <td>0.00465</td>\n",
              "      <td>0.00696</td>\n",
              "      <td>0.01394</td>\n",
              "      <td>0.06134</td>\n",
              "      <td>...</td>\n",
              "      <td>0.09403</td>\n",
              "      <td>0.01929</td>\n",
              "      <td>19.085</td>\n",
              "      <td>1</td>\n",
              "      <td>0.458359</td>\n",
              "      <td>0.819521</td>\n",
              "      <td>-4.075192</td>\n",
              "      <td>0.335590</td>\n",
              "      <td>2.486855</td>\n",
              "      <td>0.368674</td>\n",
              "    </tr>\n",
              "    <tr>\n",
              "      <th>2</th>\n",
              "      <td>phon_R01_S01_3</td>\n",
              "      <td>116.682</td>\n",
              "      <td>131.111</td>\n",
              "      <td>111.555</td>\n",
              "      <td>0.01050</td>\n",
              "      <td>0.00009</td>\n",
              "      <td>0.00544</td>\n",
              "      <td>0.00781</td>\n",
              "      <td>0.01633</td>\n",
              "      <td>0.05233</td>\n",
              "      <td>...</td>\n",
              "      <td>0.08270</td>\n",
              "      <td>0.01309</td>\n",
              "      <td>20.651</td>\n",
              "      <td>1</td>\n",
              "      <td>0.429895</td>\n",
              "      <td>0.825288</td>\n",
              "      <td>-4.443179</td>\n",
              "      <td>0.311173</td>\n",
              "      <td>2.342259</td>\n",
              "      <td>0.332634</td>\n",
              "    </tr>\n",
              "    <tr>\n",
              "      <th>3</th>\n",
              "      <td>phon_R01_S01_4</td>\n",
              "      <td>116.676</td>\n",
              "      <td>137.871</td>\n",
              "      <td>111.366</td>\n",
              "      <td>0.00997</td>\n",
              "      <td>0.00009</td>\n",
              "      <td>0.00502</td>\n",
              "      <td>0.00698</td>\n",
              "      <td>0.01505</td>\n",
              "      <td>0.05492</td>\n",
              "      <td>...</td>\n",
              "      <td>0.08771</td>\n",
              "      <td>0.01353</td>\n",
              "      <td>20.644</td>\n",
              "      <td>1</td>\n",
              "      <td>0.434969</td>\n",
              "      <td>0.819235</td>\n",
              "      <td>-4.117501</td>\n",
              "      <td>0.334147</td>\n",
              "      <td>2.405554</td>\n",
              "      <td>0.368975</td>\n",
              "    </tr>\n",
              "    <tr>\n",
              "      <th>4</th>\n",
              "      <td>phon_R01_S01_5</td>\n",
              "      <td>116.014</td>\n",
              "      <td>141.781</td>\n",
              "      <td>110.655</td>\n",
              "      <td>0.01284</td>\n",
              "      <td>0.00011</td>\n",
              "      <td>0.00655</td>\n",
              "      <td>0.00908</td>\n",
              "      <td>0.01966</td>\n",
              "      <td>0.06425</td>\n",
              "      <td>...</td>\n",
              "      <td>0.10470</td>\n",
              "      <td>0.01767</td>\n",
              "      <td>19.649</td>\n",
              "      <td>1</td>\n",
              "      <td>0.417356</td>\n",
              "      <td>0.823484</td>\n",
              "      <td>-3.747787</td>\n",
              "      <td>0.234513</td>\n",
              "      <td>2.332180</td>\n",
              "      <td>0.410335</td>\n",
              "    </tr>\n",
              "  </tbody>\n",
              "</table>\n",
              "<p>5 rows × 24 columns</p>\n",
              "</div>\n",
              "      <button class=\"colab-df-convert\" onclick=\"convertToInteractive('df-e643b17b-92b5-43d3-b320-ca10ad82537a')\"\n",
              "              title=\"Convert this dataframe to an interactive table.\"\n",
              "              style=\"display:none;\">\n",
              "        \n",
              "  <svg xmlns=\"http://www.w3.org/2000/svg\" height=\"24px\"viewBox=\"0 0 24 24\"\n",
              "       width=\"24px\">\n",
              "    <path d=\"M0 0h24v24H0V0z\" fill=\"none\"/>\n",
              "    <path d=\"M18.56 5.44l.94 2.06.94-2.06 2.06-.94-2.06-.94-.94-2.06-.94 2.06-2.06.94zm-11 1L8.5 8.5l.94-2.06 2.06-.94-2.06-.94L8.5 2.5l-.94 2.06-2.06.94zm10 10l.94 2.06.94-2.06 2.06-.94-2.06-.94-.94-2.06-.94 2.06-2.06.94z\"/><path d=\"M17.41 7.96l-1.37-1.37c-.4-.4-.92-.59-1.43-.59-.52 0-1.04.2-1.43.59L10.3 9.45l-7.72 7.72c-.78.78-.78 2.05 0 2.83L4 21.41c.39.39.9.59 1.41.59.51 0 1.02-.2 1.41-.59l7.78-7.78 2.81-2.81c.8-.78.8-2.07 0-2.86zM5.41 20L4 18.59l7.72-7.72 1.47 1.35L5.41 20z\"/>\n",
              "  </svg>\n",
              "      </button>\n",
              "      \n",
              "  <style>\n",
              "    .colab-df-container {\n",
              "      display:flex;\n",
              "      flex-wrap:wrap;\n",
              "      gap: 12px;\n",
              "    }\n",
              "\n",
              "    .colab-df-convert {\n",
              "      background-color: #E8F0FE;\n",
              "      border: none;\n",
              "      border-radius: 50%;\n",
              "      cursor: pointer;\n",
              "      display: none;\n",
              "      fill: #1967D2;\n",
              "      height: 32px;\n",
              "      padding: 0 0 0 0;\n",
              "      width: 32px;\n",
              "    }\n",
              "\n",
              "    .colab-df-convert:hover {\n",
              "      background-color: #E2EBFA;\n",
              "      box-shadow: 0px 1px 2px rgba(60, 64, 67, 0.3), 0px 1px 3px 1px rgba(60, 64, 67, 0.15);\n",
              "      fill: #174EA6;\n",
              "    }\n",
              "\n",
              "    [theme=dark] .colab-df-convert {\n",
              "      background-color: #3B4455;\n",
              "      fill: #D2E3FC;\n",
              "    }\n",
              "\n",
              "    [theme=dark] .colab-df-convert:hover {\n",
              "      background-color: #434B5C;\n",
              "      box-shadow: 0px 1px 3px 1px rgba(0, 0, 0, 0.15);\n",
              "      filter: drop-shadow(0px 1px 2px rgba(0, 0, 0, 0.3));\n",
              "      fill: #FFFFFF;\n",
              "    }\n",
              "  </style>\n",
              "\n",
              "      <script>\n",
              "        const buttonEl =\n",
              "          document.querySelector('#df-e643b17b-92b5-43d3-b320-ca10ad82537a button.colab-df-convert');\n",
              "        buttonEl.style.display =\n",
              "          google.colab.kernel.accessAllowed ? 'block' : 'none';\n",
              "\n",
              "        async function convertToInteractive(key) {\n",
              "          const element = document.querySelector('#df-e643b17b-92b5-43d3-b320-ca10ad82537a');\n",
              "          const dataTable =\n",
              "            await google.colab.kernel.invokeFunction('convertToInteractive',\n",
              "                                                     [key], {});\n",
              "          if (!dataTable) return;\n",
              "\n",
              "          const docLinkHtml = 'Like what you see? Visit the ' +\n",
              "            '<a target=\"_blank\" href=https://colab.research.google.com/notebooks/data_table.ipynb>data table notebook</a>'\n",
              "            + ' to learn more about interactive tables.';\n",
              "          element.innerHTML = '';\n",
              "          dataTable['output_type'] = 'display_data';\n",
              "          await google.colab.output.renderOutput(dataTable, element);\n",
              "          const docLink = document.createElement('div');\n",
              "          docLink.innerHTML = docLinkHtml;\n",
              "          element.appendChild(docLink);\n",
              "        }\n",
              "      </script>\n",
              "    </div>\n",
              "  </div>\n",
              "  "
            ]
          },
          "metadata": {},
          "execution_count": 4
        }
      ]
    },
    {
      "cell_type": "markdown",
      "source": [
        "###ATTRIBUTE INFORMATION\n",
        "\n",
        "Matrix column entries (attributes):\n",
        "\n",
        "name - ASCII subject name and recording number\n",
        "\n",
        "MDVP:Fo(Hz) - Average vocal fundamental frequency\n",
        "\n",
        "MDVP:Fhi(Hz) - Maximum vocal fundamental frequency\n",
        "\n",
        "MDVP:Flo(Hz) - Minimum vocal fundamental frequency\n",
        "\n",
        "MDVP:Jitter(%),MDVP:Jitter(Abs),MDVP:RAP,MDVP:PPQ,Jitter:DDP - Several\n",
        "measures of variation in fundamental frequency\n",
        "\n",
        "MDVP:Shimmer,\n",
        "\n",
        "MDVP:Shimmer(dB),\n",
        "\n",
        "Shimmer:APQ3,\n",
        "\n",
        "Shimmer:APQ5,\n",
        "\n",
        "MDVP:APQ,\n",
        "\n",
        "Shimmer:DDA - Several measures of variation in amplitude\n",
        "\n",
        "NHR,HNR - Two measures of ratio of noise to tonal components in the voice\n",
        "\n",
        "status - Health status of the subject (one) - Parkinson's, (zero) - healthy\n",
        "\n",
        "RPDE,D2 - Two nonlinear dynamical complexity measures\n",
        "\n",
        "DFA - Signal fractal scaling exponent\n",
        "\n",
        "spread1,spread2,PPE - Three nonlinear measures of fundamental frequency variation\n",
        "\n",
        "\n",
        "\n",
        "\n"
      ],
      "metadata": {
        "id": "bIjd3ORDNjxO"
      }
    },
    {
      "cell_type": "markdown",
      "source": [
        "#**DATA CLEANING**"
      ],
      "metadata": {
        "id": "bkMgifS6OyBZ"
      }
    },
    {
      "cell_type": "code",
      "source": [
        "df"
      ],
      "metadata": {
        "colab": {
          "base_uri": "https://localhost:8080/",
          "height": 488
        },
        "id": "IxQgWKAsNW1w",
        "outputId": "3bdc6692-ae14-49b2-a703-a0939bdc04ef"
      },
      "execution_count": null,
      "outputs": [
        {
          "output_type": "execute_result",
          "data": {
            "text/plain": [
              "               name  MDVP:Fo(Hz)  MDVP:Fhi(Hz)  MDVP:Flo(Hz)  MDVP:Jitter(%)  \\\n",
              "0    phon_R01_S01_1      119.992       157.302        74.997         0.00784   \n",
              "1    phon_R01_S01_2      122.400       148.650       113.819         0.00968   \n",
              "2    phon_R01_S01_3      116.682       131.111       111.555         0.01050   \n",
              "3    phon_R01_S01_4      116.676       137.871       111.366         0.00997   \n",
              "4    phon_R01_S01_5      116.014       141.781       110.655         0.01284   \n",
              "..              ...          ...           ...           ...             ...   \n",
              "190  phon_R01_S50_2      174.188       230.978        94.261         0.00459   \n",
              "191  phon_R01_S50_3      209.516       253.017        89.488         0.00564   \n",
              "192  phon_R01_S50_4      174.688       240.005        74.287         0.01360   \n",
              "193  phon_R01_S50_5      198.764       396.961        74.904         0.00740   \n",
              "194  phon_R01_S50_6      214.289       260.277        77.973         0.00567   \n",
              "\n",
              "     MDVP:Jitter(Abs)  MDVP:RAP  MDVP:PPQ  Jitter:DDP  MDVP:Shimmer  ...  \\\n",
              "0             0.00007   0.00370   0.00554     0.01109       0.04374  ...   \n",
              "1             0.00008   0.00465   0.00696     0.01394       0.06134  ...   \n",
              "2             0.00009   0.00544   0.00781     0.01633       0.05233  ...   \n",
              "3             0.00009   0.00502   0.00698     0.01505       0.05492  ...   \n",
              "4             0.00011   0.00655   0.00908     0.01966       0.06425  ...   \n",
              "..                ...       ...       ...         ...           ...  ...   \n",
              "190           0.00003   0.00263   0.00259     0.00790       0.04087  ...   \n",
              "191           0.00003   0.00331   0.00292     0.00994       0.02751  ...   \n",
              "192           0.00008   0.00624   0.00564     0.01873       0.02308  ...   \n",
              "193           0.00004   0.00370   0.00390     0.01109       0.02296  ...   \n",
              "194           0.00003   0.00295   0.00317     0.00885       0.01884  ...   \n",
              "\n",
              "     Shimmer:DDA      NHR     HNR  status      RPDE       DFA   spread1  \\\n",
              "0        0.06545  0.02211  21.033       1  0.414783  0.815285 -4.813031   \n",
              "1        0.09403  0.01929  19.085       1  0.458359  0.819521 -4.075192   \n",
              "2        0.08270  0.01309  20.651       1  0.429895  0.825288 -4.443179   \n",
              "3        0.08771  0.01353  20.644       1  0.434969  0.819235 -4.117501   \n",
              "4        0.10470  0.01767  19.649       1  0.417356  0.823484 -3.747787   \n",
              "..           ...      ...     ...     ...       ...       ...       ...   \n",
              "190      0.07008  0.02764  19.517       0  0.448439  0.657899 -6.538586   \n",
              "191      0.04812  0.01810  19.147       0  0.431674  0.683244 -6.195325   \n",
              "192      0.03804  0.10715  17.883       0  0.407567  0.655683 -6.787197   \n",
              "193      0.03794  0.07223  19.020       0  0.451221  0.643956 -6.744577   \n",
              "194      0.03078  0.04398  21.209       0  0.462803  0.664357 -5.724056   \n",
              "\n",
              "      spread2        D2       PPE  \n",
              "0    0.266482  2.301442  0.284654  \n",
              "1    0.335590  2.486855  0.368674  \n",
              "2    0.311173  2.342259  0.332634  \n",
              "3    0.334147  2.405554  0.368975  \n",
              "4    0.234513  2.332180  0.410335  \n",
              "..        ...       ...       ...  \n",
              "190  0.121952  2.657476  0.133050  \n",
              "191  0.129303  2.784312  0.168895  \n",
              "192  0.158453  2.679772  0.131728  \n",
              "193  0.207454  2.138608  0.123306  \n",
              "194  0.190667  2.555477  0.148569  \n",
              "\n",
              "[195 rows x 24 columns]"
            ],
            "text/html": [
              "\n",
              "  <div id=\"df-0512c239-7a2f-4cde-bf67-2e9da3ce600f\">\n",
              "    <div class=\"colab-df-container\">\n",
              "      <div>\n",
              "<style scoped>\n",
              "    .dataframe tbody tr th:only-of-type {\n",
              "        vertical-align: middle;\n",
              "    }\n",
              "\n",
              "    .dataframe tbody tr th {\n",
              "        vertical-align: top;\n",
              "    }\n",
              "\n",
              "    .dataframe thead th {\n",
              "        text-align: right;\n",
              "    }\n",
              "</style>\n",
              "<table border=\"1\" class=\"dataframe\">\n",
              "  <thead>\n",
              "    <tr style=\"text-align: right;\">\n",
              "      <th></th>\n",
              "      <th>name</th>\n",
              "      <th>MDVP:Fo(Hz)</th>\n",
              "      <th>MDVP:Fhi(Hz)</th>\n",
              "      <th>MDVP:Flo(Hz)</th>\n",
              "      <th>MDVP:Jitter(%)</th>\n",
              "      <th>MDVP:Jitter(Abs)</th>\n",
              "      <th>MDVP:RAP</th>\n",
              "      <th>MDVP:PPQ</th>\n",
              "      <th>Jitter:DDP</th>\n",
              "      <th>MDVP:Shimmer</th>\n",
              "      <th>...</th>\n",
              "      <th>Shimmer:DDA</th>\n",
              "      <th>NHR</th>\n",
              "      <th>HNR</th>\n",
              "      <th>status</th>\n",
              "      <th>RPDE</th>\n",
              "      <th>DFA</th>\n",
              "      <th>spread1</th>\n",
              "      <th>spread2</th>\n",
              "      <th>D2</th>\n",
              "      <th>PPE</th>\n",
              "    </tr>\n",
              "  </thead>\n",
              "  <tbody>\n",
              "    <tr>\n",
              "      <th>0</th>\n",
              "      <td>phon_R01_S01_1</td>\n",
              "      <td>119.992</td>\n",
              "      <td>157.302</td>\n",
              "      <td>74.997</td>\n",
              "      <td>0.00784</td>\n",
              "      <td>0.00007</td>\n",
              "      <td>0.00370</td>\n",
              "      <td>0.00554</td>\n",
              "      <td>0.01109</td>\n",
              "      <td>0.04374</td>\n",
              "      <td>...</td>\n",
              "      <td>0.06545</td>\n",
              "      <td>0.02211</td>\n",
              "      <td>21.033</td>\n",
              "      <td>1</td>\n",
              "      <td>0.414783</td>\n",
              "      <td>0.815285</td>\n",
              "      <td>-4.813031</td>\n",
              "      <td>0.266482</td>\n",
              "      <td>2.301442</td>\n",
              "      <td>0.284654</td>\n",
              "    </tr>\n",
              "    <tr>\n",
              "      <th>1</th>\n",
              "      <td>phon_R01_S01_2</td>\n",
              "      <td>122.400</td>\n",
              "      <td>148.650</td>\n",
              "      <td>113.819</td>\n",
              "      <td>0.00968</td>\n",
              "      <td>0.00008</td>\n",
              "      <td>0.00465</td>\n",
              "      <td>0.00696</td>\n",
              "      <td>0.01394</td>\n",
              "      <td>0.06134</td>\n",
              "      <td>...</td>\n",
              "      <td>0.09403</td>\n",
              "      <td>0.01929</td>\n",
              "      <td>19.085</td>\n",
              "      <td>1</td>\n",
              "      <td>0.458359</td>\n",
              "      <td>0.819521</td>\n",
              "      <td>-4.075192</td>\n",
              "      <td>0.335590</td>\n",
              "      <td>2.486855</td>\n",
              "      <td>0.368674</td>\n",
              "    </tr>\n",
              "    <tr>\n",
              "      <th>2</th>\n",
              "      <td>phon_R01_S01_3</td>\n",
              "      <td>116.682</td>\n",
              "      <td>131.111</td>\n",
              "      <td>111.555</td>\n",
              "      <td>0.01050</td>\n",
              "      <td>0.00009</td>\n",
              "      <td>0.00544</td>\n",
              "      <td>0.00781</td>\n",
              "      <td>0.01633</td>\n",
              "      <td>0.05233</td>\n",
              "      <td>...</td>\n",
              "      <td>0.08270</td>\n",
              "      <td>0.01309</td>\n",
              "      <td>20.651</td>\n",
              "      <td>1</td>\n",
              "      <td>0.429895</td>\n",
              "      <td>0.825288</td>\n",
              "      <td>-4.443179</td>\n",
              "      <td>0.311173</td>\n",
              "      <td>2.342259</td>\n",
              "      <td>0.332634</td>\n",
              "    </tr>\n",
              "    <tr>\n",
              "      <th>3</th>\n",
              "      <td>phon_R01_S01_4</td>\n",
              "      <td>116.676</td>\n",
              "      <td>137.871</td>\n",
              "      <td>111.366</td>\n",
              "      <td>0.00997</td>\n",
              "      <td>0.00009</td>\n",
              "      <td>0.00502</td>\n",
              "      <td>0.00698</td>\n",
              "      <td>0.01505</td>\n",
              "      <td>0.05492</td>\n",
              "      <td>...</td>\n",
              "      <td>0.08771</td>\n",
              "      <td>0.01353</td>\n",
              "      <td>20.644</td>\n",
              "      <td>1</td>\n",
              "      <td>0.434969</td>\n",
              "      <td>0.819235</td>\n",
              "      <td>-4.117501</td>\n",
              "      <td>0.334147</td>\n",
              "      <td>2.405554</td>\n",
              "      <td>0.368975</td>\n",
              "    </tr>\n",
              "    <tr>\n",
              "      <th>4</th>\n",
              "      <td>phon_R01_S01_5</td>\n",
              "      <td>116.014</td>\n",
              "      <td>141.781</td>\n",
              "      <td>110.655</td>\n",
              "      <td>0.01284</td>\n",
              "      <td>0.00011</td>\n",
              "      <td>0.00655</td>\n",
              "      <td>0.00908</td>\n",
              "      <td>0.01966</td>\n",
              "      <td>0.06425</td>\n",
              "      <td>...</td>\n",
              "      <td>0.10470</td>\n",
              "      <td>0.01767</td>\n",
              "      <td>19.649</td>\n",
              "      <td>1</td>\n",
              "      <td>0.417356</td>\n",
              "      <td>0.823484</td>\n",
              "      <td>-3.747787</td>\n",
              "      <td>0.234513</td>\n",
              "      <td>2.332180</td>\n",
              "      <td>0.410335</td>\n",
              "    </tr>\n",
              "    <tr>\n",
              "      <th>...</th>\n",
              "      <td>...</td>\n",
              "      <td>...</td>\n",
              "      <td>...</td>\n",
              "      <td>...</td>\n",
              "      <td>...</td>\n",
              "      <td>...</td>\n",
              "      <td>...</td>\n",
              "      <td>...</td>\n",
              "      <td>...</td>\n",
              "      <td>...</td>\n",
              "      <td>...</td>\n",
              "      <td>...</td>\n",
              "      <td>...</td>\n",
              "      <td>...</td>\n",
              "      <td>...</td>\n",
              "      <td>...</td>\n",
              "      <td>...</td>\n",
              "      <td>...</td>\n",
              "      <td>...</td>\n",
              "      <td>...</td>\n",
              "      <td>...</td>\n",
              "    </tr>\n",
              "    <tr>\n",
              "      <th>190</th>\n",
              "      <td>phon_R01_S50_2</td>\n",
              "      <td>174.188</td>\n",
              "      <td>230.978</td>\n",
              "      <td>94.261</td>\n",
              "      <td>0.00459</td>\n",
              "      <td>0.00003</td>\n",
              "      <td>0.00263</td>\n",
              "      <td>0.00259</td>\n",
              "      <td>0.00790</td>\n",
              "      <td>0.04087</td>\n",
              "      <td>...</td>\n",
              "      <td>0.07008</td>\n",
              "      <td>0.02764</td>\n",
              "      <td>19.517</td>\n",
              "      <td>0</td>\n",
              "      <td>0.448439</td>\n",
              "      <td>0.657899</td>\n",
              "      <td>-6.538586</td>\n",
              "      <td>0.121952</td>\n",
              "      <td>2.657476</td>\n",
              "      <td>0.133050</td>\n",
              "    </tr>\n",
              "    <tr>\n",
              "      <th>191</th>\n",
              "      <td>phon_R01_S50_3</td>\n",
              "      <td>209.516</td>\n",
              "      <td>253.017</td>\n",
              "      <td>89.488</td>\n",
              "      <td>0.00564</td>\n",
              "      <td>0.00003</td>\n",
              "      <td>0.00331</td>\n",
              "      <td>0.00292</td>\n",
              "      <td>0.00994</td>\n",
              "      <td>0.02751</td>\n",
              "      <td>...</td>\n",
              "      <td>0.04812</td>\n",
              "      <td>0.01810</td>\n",
              "      <td>19.147</td>\n",
              "      <td>0</td>\n",
              "      <td>0.431674</td>\n",
              "      <td>0.683244</td>\n",
              "      <td>-6.195325</td>\n",
              "      <td>0.129303</td>\n",
              "      <td>2.784312</td>\n",
              "      <td>0.168895</td>\n",
              "    </tr>\n",
              "    <tr>\n",
              "      <th>192</th>\n",
              "      <td>phon_R01_S50_4</td>\n",
              "      <td>174.688</td>\n",
              "      <td>240.005</td>\n",
              "      <td>74.287</td>\n",
              "      <td>0.01360</td>\n",
              "      <td>0.00008</td>\n",
              "      <td>0.00624</td>\n",
              "      <td>0.00564</td>\n",
              "      <td>0.01873</td>\n",
              "      <td>0.02308</td>\n",
              "      <td>...</td>\n",
              "      <td>0.03804</td>\n",
              "      <td>0.10715</td>\n",
              "      <td>17.883</td>\n",
              "      <td>0</td>\n",
              "      <td>0.407567</td>\n",
              "      <td>0.655683</td>\n",
              "      <td>-6.787197</td>\n",
              "      <td>0.158453</td>\n",
              "      <td>2.679772</td>\n",
              "      <td>0.131728</td>\n",
              "    </tr>\n",
              "    <tr>\n",
              "      <th>193</th>\n",
              "      <td>phon_R01_S50_5</td>\n",
              "      <td>198.764</td>\n",
              "      <td>396.961</td>\n",
              "      <td>74.904</td>\n",
              "      <td>0.00740</td>\n",
              "      <td>0.00004</td>\n",
              "      <td>0.00370</td>\n",
              "      <td>0.00390</td>\n",
              "      <td>0.01109</td>\n",
              "      <td>0.02296</td>\n",
              "      <td>...</td>\n",
              "      <td>0.03794</td>\n",
              "      <td>0.07223</td>\n",
              "      <td>19.020</td>\n",
              "      <td>0</td>\n",
              "      <td>0.451221</td>\n",
              "      <td>0.643956</td>\n",
              "      <td>-6.744577</td>\n",
              "      <td>0.207454</td>\n",
              "      <td>2.138608</td>\n",
              "      <td>0.123306</td>\n",
              "    </tr>\n",
              "    <tr>\n",
              "      <th>194</th>\n",
              "      <td>phon_R01_S50_6</td>\n",
              "      <td>214.289</td>\n",
              "      <td>260.277</td>\n",
              "      <td>77.973</td>\n",
              "      <td>0.00567</td>\n",
              "      <td>0.00003</td>\n",
              "      <td>0.00295</td>\n",
              "      <td>0.00317</td>\n",
              "      <td>0.00885</td>\n",
              "      <td>0.01884</td>\n",
              "      <td>...</td>\n",
              "      <td>0.03078</td>\n",
              "      <td>0.04398</td>\n",
              "      <td>21.209</td>\n",
              "      <td>0</td>\n",
              "      <td>0.462803</td>\n",
              "      <td>0.664357</td>\n",
              "      <td>-5.724056</td>\n",
              "      <td>0.190667</td>\n",
              "      <td>2.555477</td>\n",
              "      <td>0.148569</td>\n",
              "    </tr>\n",
              "  </tbody>\n",
              "</table>\n",
              "<p>195 rows × 24 columns</p>\n",
              "</div>\n",
              "      <button class=\"colab-df-convert\" onclick=\"convertToInteractive('df-0512c239-7a2f-4cde-bf67-2e9da3ce600f')\"\n",
              "              title=\"Convert this dataframe to an interactive table.\"\n",
              "              style=\"display:none;\">\n",
              "        \n",
              "  <svg xmlns=\"http://www.w3.org/2000/svg\" height=\"24px\"viewBox=\"0 0 24 24\"\n",
              "       width=\"24px\">\n",
              "    <path d=\"M0 0h24v24H0V0z\" fill=\"none\"/>\n",
              "    <path d=\"M18.56 5.44l.94 2.06.94-2.06 2.06-.94-2.06-.94-.94-2.06-.94 2.06-2.06.94zm-11 1L8.5 8.5l.94-2.06 2.06-.94-2.06-.94L8.5 2.5l-.94 2.06-2.06.94zm10 10l.94 2.06.94-2.06 2.06-.94-2.06-.94-.94-2.06-.94 2.06-2.06.94z\"/><path d=\"M17.41 7.96l-1.37-1.37c-.4-.4-.92-.59-1.43-.59-.52 0-1.04.2-1.43.59L10.3 9.45l-7.72 7.72c-.78.78-.78 2.05 0 2.83L4 21.41c.39.39.9.59 1.41.59.51 0 1.02-.2 1.41-.59l7.78-7.78 2.81-2.81c.8-.78.8-2.07 0-2.86zM5.41 20L4 18.59l7.72-7.72 1.47 1.35L5.41 20z\"/>\n",
              "  </svg>\n",
              "      </button>\n",
              "      \n",
              "  <style>\n",
              "    .colab-df-container {\n",
              "      display:flex;\n",
              "      flex-wrap:wrap;\n",
              "      gap: 12px;\n",
              "    }\n",
              "\n",
              "    .colab-df-convert {\n",
              "      background-color: #E8F0FE;\n",
              "      border: none;\n",
              "      border-radius: 50%;\n",
              "      cursor: pointer;\n",
              "      display: none;\n",
              "      fill: #1967D2;\n",
              "      height: 32px;\n",
              "      padding: 0 0 0 0;\n",
              "      width: 32px;\n",
              "    }\n",
              "\n",
              "    .colab-df-convert:hover {\n",
              "      background-color: #E2EBFA;\n",
              "      box-shadow: 0px 1px 2px rgba(60, 64, 67, 0.3), 0px 1px 3px 1px rgba(60, 64, 67, 0.15);\n",
              "      fill: #174EA6;\n",
              "    }\n",
              "\n",
              "    [theme=dark] .colab-df-convert {\n",
              "      background-color: #3B4455;\n",
              "      fill: #D2E3FC;\n",
              "    }\n",
              "\n",
              "    [theme=dark] .colab-df-convert:hover {\n",
              "      background-color: #434B5C;\n",
              "      box-shadow: 0px 1px 3px 1px rgba(0, 0, 0, 0.15);\n",
              "      filter: drop-shadow(0px 1px 2px rgba(0, 0, 0, 0.3));\n",
              "      fill: #FFFFFF;\n",
              "    }\n",
              "  </style>\n",
              "\n",
              "      <script>\n",
              "        const buttonEl =\n",
              "          document.querySelector('#df-0512c239-7a2f-4cde-bf67-2e9da3ce600f button.colab-df-convert');\n",
              "        buttonEl.style.display =\n",
              "          google.colab.kernel.accessAllowed ? 'block' : 'none';\n",
              "\n",
              "        async function convertToInteractive(key) {\n",
              "          const element = document.querySelector('#df-0512c239-7a2f-4cde-bf67-2e9da3ce600f');\n",
              "          const dataTable =\n",
              "            await google.colab.kernel.invokeFunction('convertToInteractive',\n",
              "                                                     [key], {});\n",
              "          if (!dataTable) return;\n",
              "\n",
              "          const docLinkHtml = 'Like what you see? Visit the ' +\n",
              "            '<a target=\"_blank\" href=https://colab.research.google.com/notebooks/data_table.ipynb>data table notebook</a>'\n",
              "            + ' to learn more about interactive tables.';\n",
              "          element.innerHTML = '';\n",
              "          dataTable['output_type'] = 'display_data';\n",
              "          await google.colab.output.renderOutput(dataTable, element);\n",
              "          const docLink = document.createElement('div');\n",
              "          docLink.innerHTML = docLinkHtml;\n",
              "          element.appendChild(docLink);\n",
              "        }\n",
              "      </script>\n",
              "    </div>\n",
              "  </div>\n",
              "  "
            ]
          },
          "metadata": {},
          "execution_count": 21
        }
      ]
    },
    {
      "cell_type": "code",
      "source": [
        "len(df.name.unique())"
      ],
      "metadata": {
        "colab": {
          "base_uri": "https://localhost:8080/"
        },
        "id": "5ppcWSMuO5Re",
        "outputId": "973d42f0-8bbc-416e-8b0d-5915decb347d"
      },
      "execution_count": null,
      "outputs": [
        {
          "output_type": "execute_result",
          "data": {
            "text/plain": [
              "195"
            ]
          },
          "metadata": {},
          "execution_count": 22
        }
      ]
    },
    {
      "cell_type": "markdown",
      "source": [
        "name variable is not required since all are unique so we shall remove it\n"
      ],
      "metadata": {
        "id": "EqN3XZSfPWsr"
      }
    },
    {
      "cell_type": "code",
      "source": [
        "len(df.status.unique())\n",
        "#either 1 or 0"
      ],
      "metadata": {
        "colab": {
          "base_uri": "https://localhost:8080/"
        },
        "id": "Bp7BGyDJO-Jw",
        "outputId": "67ccb725-62e0-469c-c1c6-3a3a1797d707"
      },
      "execution_count": null,
      "outputs": [
        {
          "output_type": "execute_result",
          "data": {
            "text/plain": [
              "2"
            ]
          },
          "metadata": {},
          "execution_count": 23
        }
      ]
    },
    {
      "cell_type": "code",
      "source": [
        "df=df.drop(['name'],axis=1)"
      ],
      "metadata": {
        "id": "5BAiwGhTPphQ"
      },
      "execution_count": null,
      "outputs": []
    },
    {
      "cell_type": "code",
      "source": [
        "df"
      ],
      "metadata": {
        "colab": {
          "base_uri": "https://localhost:8080/",
          "height": 488
        },
        "id": "cSd-iK9JP4uA",
        "outputId": "53b285ca-1e84-43be-d0de-a884c9fd4c8c"
      },
      "execution_count": null,
      "outputs": [
        {
          "output_type": "execute_result",
          "data": {
            "text/plain": [
              "     MDVP:Fo(Hz)  MDVP:Fhi(Hz)  MDVP:Flo(Hz)  MDVP:Jitter(%)  \\\n",
              "0        119.992       157.302        74.997         0.00784   \n",
              "1        122.400       148.650       113.819         0.00968   \n",
              "2        116.682       131.111       111.555         0.01050   \n",
              "3        116.676       137.871       111.366         0.00997   \n",
              "4        116.014       141.781       110.655         0.01284   \n",
              "..           ...           ...           ...             ...   \n",
              "190      174.188       230.978        94.261         0.00459   \n",
              "191      209.516       253.017        89.488         0.00564   \n",
              "192      174.688       240.005        74.287         0.01360   \n",
              "193      198.764       396.961        74.904         0.00740   \n",
              "194      214.289       260.277        77.973         0.00567   \n",
              "\n",
              "     MDVP:Jitter(Abs)  MDVP:RAP  MDVP:PPQ  Jitter:DDP  MDVP:Shimmer  \\\n",
              "0             0.00007   0.00370   0.00554     0.01109       0.04374   \n",
              "1             0.00008   0.00465   0.00696     0.01394       0.06134   \n",
              "2             0.00009   0.00544   0.00781     0.01633       0.05233   \n",
              "3             0.00009   0.00502   0.00698     0.01505       0.05492   \n",
              "4             0.00011   0.00655   0.00908     0.01966       0.06425   \n",
              "..                ...       ...       ...         ...           ...   \n",
              "190           0.00003   0.00263   0.00259     0.00790       0.04087   \n",
              "191           0.00003   0.00331   0.00292     0.00994       0.02751   \n",
              "192           0.00008   0.00624   0.00564     0.01873       0.02308   \n",
              "193           0.00004   0.00370   0.00390     0.01109       0.02296   \n",
              "194           0.00003   0.00295   0.00317     0.00885       0.01884   \n",
              "\n",
              "     MDVP:Shimmer(dB)  ...  Shimmer:DDA      NHR     HNR  status      RPDE  \\\n",
              "0               0.426  ...      0.06545  0.02211  21.033       1  0.414783   \n",
              "1               0.626  ...      0.09403  0.01929  19.085       1  0.458359   \n",
              "2               0.482  ...      0.08270  0.01309  20.651       1  0.429895   \n",
              "3               0.517  ...      0.08771  0.01353  20.644       1  0.434969   \n",
              "4               0.584  ...      0.10470  0.01767  19.649       1  0.417356   \n",
              "..                ...  ...          ...      ...     ...     ...       ...   \n",
              "190             0.405  ...      0.07008  0.02764  19.517       0  0.448439   \n",
              "191             0.263  ...      0.04812  0.01810  19.147       0  0.431674   \n",
              "192             0.256  ...      0.03804  0.10715  17.883       0  0.407567   \n",
              "193             0.241  ...      0.03794  0.07223  19.020       0  0.451221   \n",
              "194             0.190  ...      0.03078  0.04398  21.209       0  0.462803   \n",
              "\n",
              "          DFA   spread1   spread2        D2       PPE  \n",
              "0    0.815285 -4.813031  0.266482  2.301442  0.284654  \n",
              "1    0.819521 -4.075192  0.335590  2.486855  0.368674  \n",
              "2    0.825288 -4.443179  0.311173  2.342259  0.332634  \n",
              "3    0.819235 -4.117501  0.334147  2.405554  0.368975  \n",
              "4    0.823484 -3.747787  0.234513  2.332180  0.410335  \n",
              "..        ...       ...       ...       ...       ...  \n",
              "190  0.657899 -6.538586  0.121952  2.657476  0.133050  \n",
              "191  0.683244 -6.195325  0.129303  2.784312  0.168895  \n",
              "192  0.655683 -6.787197  0.158453  2.679772  0.131728  \n",
              "193  0.643956 -6.744577  0.207454  2.138608  0.123306  \n",
              "194  0.664357 -5.724056  0.190667  2.555477  0.148569  \n",
              "\n",
              "[195 rows x 23 columns]"
            ],
            "text/html": [
              "\n",
              "  <div id=\"df-3d5ca286-561b-4253-ba31-c44af9cd07f2\">\n",
              "    <div class=\"colab-df-container\">\n",
              "      <div>\n",
              "<style scoped>\n",
              "    .dataframe tbody tr th:only-of-type {\n",
              "        vertical-align: middle;\n",
              "    }\n",
              "\n",
              "    .dataframe tbody tr th {\n",
              "        vertical-align: top;\n",
              "    }\n",
              "\n",
              "    .dataframe thead th {\n",
              "        text-align: right;\n",
              "    }\n",
              "</style>\n",
              "<table border=\"1\" class=\"dataframe\">\n",
              "  <thead>\n",
              "    <tr style=\"text-align: right;\">\n",
              "      <th></th>\n",
              "      <th>MDVP:Fo(Hz)</th>\n",
              "      <th>MDVP:Fhi(Hz)</th>\n",
              "      <th>MDVP:Flo(Hz)</th>\n",
              "      <th>MDVP:Jitter(%)</th>\n",
              "      <th>MDVP:Jitter(Abs)</th>\n",
              "      <th>MDVP:RAP</th>\n",
              "      <th>MDVP:PPQ</th>\n",
              "      <th>Jitter:DDP</th>\n",
              "      <th>MDVP:Shimmer</th>\n",
              "      <th>MDVP:Shimmer(dB)</th>\n",
              "      <th>...</th>\n",
              "      <th>Shimmer:DDA</th>\n",
              "      <th>NHR</th>\n",
              "      <th>HNR</th>\n",
              "      <th>status</th>\n",
              "      <th>RPDE</th>\n",
              "      <th>DFA</th>\n",
              "      <th>spread1</th>\n",
              "      <th>spread2</th>\n",
              "      <th>D2</th>\n",
              "      <th>PPE</th>\n",
              "    </tr>\n",
              "  </thead>\n",
              "  <tbody>\n",
              "    <tr>\n",
              "      <th>0</th>\n",
              "      <td>119.992</td>\n",
              "      <td>157.302</td>\n",
              "      <td>74.997</td>\n",
              "      <td>0.00784</td>\n",
              "      <td>0.00007</td>\n",
              "      <td>0.00370</td>\n",
              "      <td>0.00554</td>\n",
              "      <td>0.01109</td>\n",
              "      <td>0.04374</td>\n",
              "      <td>0.426</td>\n",
              "      <td>...</td>\n",
              "      <td>0.06545</td>\n",
              "      <td>0.02211</td>\n",
              "      <td>21.033</td>\n",
              "      <td>1</td>\n",
              "      <td>0.414783</td>\n",
              "      <td>0.815285</td>\n",
              "      <td>-4.813031</td>\n",
              "      <td>0.266482</td>\n",
              "      <td>2.301442</td>\n",
              "      <td>0.284654</td>\n",
              "    </tr>\n",
              "    <tr>\n",
              "      <th>1</th>\n",
              "      <td>122.400</td>\n",
              "      <td>148.650</td>\n",
              "      <td>113.819</td>\n",
              "      <td>0.00968</td>\n",
              "      <td>0.00008</td>\n",
              "      <td>0.00465</td>\n",
              "      <td>0.00696</td>\n",
              "      <td>0.01394</td>\n",
              "      <td>0.06134</td>\n",
              "      <td>0.626</td>\n",
              "      <td>...</td>\n",
              "      <td>0.09403</td>\n",
              "      <td>0.01929</td>\n",
              "      <td>19.085</td>\n",
              "      <td>1</td>\n",
              "      <td>0.458359</td>\n",
              "      <td>0.819521</td>\n",
              "      <td>-4.075192</td>\n",
              "      <td>0.335590</td>\n",
              "      <td>2.486855</td>\n",
              "      <td>0.368674</td>\n",
              "    </tr>\n",
              "    <tr>\n",
              "      <th>2</th>\n",
              "      <td>116.682</td>\n",
              "      <td>131.111</td>\n",
              "      <td>111.555</td>\n",
              "      <td>0.01050</td>\n",
              "      <td>0.00009</td>\n",
              "      <td>0.00544</td>\n",
              "      <td>0.00781</td>\n",
              "      <td>0.01633</td>\n",
              "      <td>0.05233</td>\n",
              "      <td>0.482</td>\n",
              "      <td>...</td>\n",
              "      <td>0.08270</td>\n",
              "      <td>0.01309</td>\n",
              "      <td>20.651</td>\n",
              "      <td>1</td>\n",
              "      <td>0.429895</td>\n",
              "      <td>0.825288</td>\n",
              "      <td>-4.443179</td>\n",
              "      <td>0.311173</td>\n",
              "      <td>2.342259</td>\n",
              "      <td>0.332634</td>\n",
              "    </tr>\n",
              "    <tr>\n",
              "      <th>3</th>\n",
              "      <td>116.676</td>\n",
              "      <td>137.871</td>\n",
              "      <td>111.366</td>\n",
              "      <td>0.00997</td>\n",
              "      <td>0.00009</td>\n",
              "      <td>0.00502</td>\n",
              "      <td>0.00698</td>\n",
              "      <td>0.01505</td>\n",
              "      <td>0.05492</td>\n",
              "      <td>0.517</td>\n",
              "      <td>...</td>\n",
              "      <td>0.08771</td>\n",
              "      <td>0.01353</td>\n",
              "      <td>20.644</td>\n",
              "      <td>1</td>\n",
              "      <td>0.434969</td>\n",
              "      <td>0.819235</td>\n",
              "      <td>-4.117501</td>\n",
              "      <td>0.334147</td>\n",
              "      <td>2.405554</td>\n",
              "      <td>0.368975</td>\n",
              "    </tr>\n",
              "    <tr>\n",
              "      <th>4</th>\n",
              "      <td>116.014</td>\n",
              "      <td>141.781</td>\n",
              "      <td>110.655</td>\n",
              "      <td>0.01284</td>\n",
              "      <td>0.00011</td>\n",
              "      <td>0.00655</td>\n",
              "      <td>0.00908</td>\n",
              "      <td>0.01966</td>\n",
              "      <td>0.06425</td>\n",
              "      <td>0.584</td>\n",
              "      <td>...</td>\n",
              "      <td>0.10470</td>\n",
              "      <td>0.01767</td>\n",
              "      <td>19.649</td>\n",
              "      <td>1</td>\n",
              "      <td>0.417356</td>\n",
              "      <td>0.823484</td>\n",
              "      <td>-3.747787</td>\n",
              "      <td>0.234513</td>\n",
              "      <td>2.332180</td>\n",
              "      <td>0.410335</td>\n",
              "    </tr>\n",
              "    <tr>\n",
              "      <th>...</th>\n",
              "      <td>...</td>\n",
              "      <td>...</td>\n",
              "      <td>...</td>\n",
              "      <td>...</td>\n",
              "      <td>...</td>\n",
              "      <td>...</td>\n",
              "      <td>...</td>\n",
              "      <td>...</td>\n",
              "      <td>...</td>\n",
              "      <td>...</td>\n",
              "      <td>...</td>\n",
              "      <td>...</td>\n",
              "      <td>...</td>\n",
              "      <td>...</td>\n",
              "      <td>...</td>\n",
              "      <td>...</td>\n",
              "      <td>...</td>\n",
              "      <td>...</td>\n",
              "      <td>...</td>\n",
              "      <td>...</td>\n",
              "      <td>...</td>\n",
              "    </tr>\n",
              "    <tr>\n",
              "      <th>190</th>\n",
              "      <td>174.188</td>\n",
              "      <td>230.978</td>\n",
              "      <td>94.261</td>\n",
              "      <td>0.00459</td>\n",
              "      <td>0.00003</td>\n",
              "      <td>0.00263</td>\n",
              "      <td>0.00259</td>\n",
              "      <td>0.00790</td>\n",
              "      <td>0.04087</td>\n",
              "      <td>0.405</td>\n",
              "      <td>...</td>\n",
              "      <td>0.07008</td>\n",
              "      <td>0.02764</td>\n",
              "      <td>19.517</td>\n",
              "      <td>0</td>\n",
              "      <td>0.448439</td>\n",
              "      <td>0.657899</td>\n",
              "      <td>-6.538586</td>\n",
              "      <td>0.121952</td>\n",
              "      <td>2.657476</td>\n",
              "      <td>0.133050</td>\n",
              "    </tr>\n",
              "    <tr>\n",
              "      <th>191</th>\n",
              "      <td>209.516</td>\n",
              "      <td>253.017</td>\n",
              "      <td>89.488</td>\n",
              "      <td>0.00564</td>\n",
              "      <td>0.00003</td>\n",
              "      <td>0.00331</td>\n",
              "      <td>0.00292</td>\n",
              "      <td>0.00994</td>\n",
              "      <td>0.02751</td>\n",
              "      <td>0.263</td>\n",
              "      <td>...</td>\n",
              "      <td>0.04812</td>\n",
              "      <td>0.01810</td>\n",
              "      <td>19.147</td>\n",
              "      <td>0</td>\n",
              "      <td>0.431674</td>\n",
              "      <td>0.683244</td>\n",
              "      <td>-6.195325</td>\n",
              "      <td>0.129303</td>\n",
              "      <td>2.784312</td>\n",
              "      <td>0.168895</td>\n",
              "    </tr>\n",
              "    <tr>\n",
              "      <th>192</th>\n",
              "      <td>174.688</td>\n",
              "      <td>240.005</td>\n",
              "      <td>74.287</td>\n",
              "      <td>0.01360</td>\n",
              "      <td>0.00008</td>\n",
              "      <td>0.00624</td>\n",
              "      <td>0.00564</td>\n",
              "      <td>0.01873</td>\n",
              "      <td>0.02308</td>\n",
              "      <td>0.256</td>\n",
              "      <td>...</td>\n",
              "      <td>0.03804</td>\n",
              "      <td>0.10715</td>\n",
              "      <td>17.883</td>\n",
              "      <td>0</td>\n",
              "      <td>0.407567</td>\n",
              "      <td>0.655683</td>\n",
              "      <td>-6.787197</td>\n",
              "      <td>0.158453</td>\n",
              "      <td>2.679772</td>\n",
              "      <td>0.131728</td>\n",
              "    </tr>\n",
              "    <tr>\n",
              "      <th>193</th>\n",
              "      <td>198.764</td>\n",
              "      <td>396.961</td>\n",
              "      <td>74.904</td>\n",
              "      <td>0.00740</td>\n",
              "      <td>0.00004</td>\n",
              "      <td>0.00370</td>\n",
              "      <td>0.00390</td>\n",
              "      <td>0.01109</td>\n",
              "      <td>0.02296</td>\n",
              "      <td>0.241</td>\n",
              "      <td>...</td>\n",
              "      <td>0.03794</td>\n",
              "      <td>0.07223</td>\n",
              "      <td>19.020</td>\n",
              "      <td>0</td>\n",
              "      <td>0.451221</td>\n",
              "      <td>0.643956</td>\n",
              "      <td>-6.744577</td>\n",
              "      <td>0.207454</td>\n",
              "      <td>2.138608</td>\n",
              "      <td>0.123306</td>\n",
              "    </tr>\n",
              "    <tr>\n",
              "      <th>194</th>\n",
              "      <td>214.289</td>\n",
              "      <td>260.277</td>\n",
              "      <td>77.973</td>\n",
              "      <td>0.00567</td>\n",
              "      <td>0.00003</td>\n",
              "      <td>0.00295</td>\n",
              "      <td>0.00317</td>\n",
              "      <td>0.00885</td>\n",
              "      <td>0.01884</td>\n",
              "      <td>0.190</td>\n",
              "      <td>...</td>\n",
              "      <td>0.03078</td>\n",
              "      <td>0.04398</td>\n",
              "      <td>21.209</td>\n",
              "      <td>0</td>\n",
              "      <td>0.462803</td>\n",
              "      <td>0.664357</td>\n",
              "      <td>-5.724056</td>\n",
              "      <td>0.190667</td>\n",
              "      <td>2.555477</td>\n",
              "      <td>0.148569</td>\n",
              "    </tr>\n",
              "  </tbody>\n",
              "</table>\n",
              "<p>195 rows × 23 columns</p>\n",
              "</div>\n",
              "      <button class=\"colab-df-convert\" onclick=\"convertToInteractive('df-3d5ca286-561b-4253-ba31-c44af9cd07f2')\"\n",
              "              title=\"Convert this dataframe to an interactive table.\"\n",
              "              style=\"display:none;\">\n",
              "        \n",
              "  <svg xmlns=\"http://www.w3.org/2000/svg\" height=\"24px\"viewBox=\"0 0 24 24\"\n",
              "       width=\"24px\">\n",
              "    <path d=\"M0 0h24v24H0V0z\" fill=\"none\"/>\n",
              "    <path d=\"M18.56 5.44l.94 2.06.94-2.06 2.06-.94-2.06-.94-.94-2.06-.94 2.06-2.06.94zm-11 1L8.5 8.5l.94-2.06 2.06-.94-2.06-.94L8.5 2.5l-.94 2.06-2.06.94zm10 10l.94 2.06.94-2.06 2.06-.94-2.06-.94-.94-2.06-.94 2.06-2.06.94z\"/><path d=\"M17.41 7.96l-1.37-1.37c-.4-.4-.92-.59-1.43-.59-.52 0-1.04.2-1.43.59L10.3 9.45l-7.72 7.72c-.78.78-.78 2.05 0 2.83L4 21.41c.39.39.9.59 1.41.59.51 0 1.02-.2 1.41-.59l7.78-7.78 2.81-2.81c.8-.78.8-2.07 0-2.86zM5.41 20L4 18.59l7.72-7.72 1.47 1.35L5.41 20z\"/>\n",
              "  </svg>\n",
              "      </button>\n",
              "      \n",
              "  <style>\n",
              "    .colab-df-container {\n",
              "      display:flex;\n",
              "      flex-wrap:wrap;\n",
              "      gap: 12px;\n",
              "    }\n",
              "\n",
              "    .colab-df-convert {\n",
              "      background-color: #E8F0FE;\n",
              "      border: none;\n",
              "      border-radius: 50%;\n",
              "      cursor: pointer;\n",
              "      display: none;\n",
              "      fill: #1967D2;\n",
              "      height: 32px;\n",
              "      padding: 0 0 0 0;\n",
              "      width: 32px;\n",
              "    }\n",
              "\n",
              "    .colab-df-convert:hover {\n",
              "      background-color: #E2EBFA;\n",
              "      box-shadow: 0px 1px 2px rgba(60, 64, 67, 0.3), 0px 1px 3px 1px rgba(60, 64, 67, 0.15);\n",
              "      fill: #174EA6;\n",
              "    }\n",
              "\n",
              "    [theme=dark] .colab-df-convert {\n",
              "      background-color: #3B4455;\n",
              "      fill: #D2E3FC;\n",
              "    }\n",
              "\n",
              "    [theme=dark] .colab-df-convert:hover {\n",
              "      background-color: #434B5C;\n",
              "      box-shadow: 0px 1px 3px 1px rgba(0, 0, 0, 0.15);\n",
              "      filter: drop-shadow(0px 1px 2px rgba(0, 0, 0, 0.3));\n",
              "      fill: #FFFFFF;\n",
              "    }\n",
              "  </style>\n",
              "\n",
              "      <script>\n",
              "        const buttonEl =\n",
              "          document.querySelector('#df-3d5ca286-561b-4253-ba31-c44af9cd07f2 button.colab-df-convert');\n",
              "        buttonEl.style.display =\n",
              "          google.colab.kernel.accessAllowed ? 'block' : 'none';\n",
              "\n",
              "        async function convertToInteractive(key) {\n",
              "          const element = document.querySelector('#df-3d5ca286-561b-4253-ba31-c44af9cd07f2');\n",
              "          const dataTable =\n",
              "            await google.colab.kernel.invokeFunction('convertToInteractive',\n",
              "                                                     [key], {});\n",
              "          if (!dataTable) return;\n",
              "\n",
              "          const docLinkHtml = 'Like what you see? Visit the ' +\n",
              "            '<a target=\"_blank\" href=https://colab.research.google.com/notebooks/data_table.ipynb>data table notebook</a>'\n",
              "            + ' to learn more about interactive tables.';\n",
              "          element.innerHTML = '';\n",
              "          dataTable['output_type'] = 'display_data';\n",
              "          await google.colab.output.renderOutput(dataTable, element);\n",
              "          const docLink = document.createElement('div');\n",
              "          docLink.innerHTML = docLinkHtml;\n",
              "          element.appendChild(docLink);\n",
              "        }\n",
              "      </script>\n",
              "    </div>\n",
              "  </div>\n",
              "  "
            ]
          },
          "metadata": {},
          "execution_count": 25
        }
      ]
    },
    {
      "cell_type": "code",
      "source": [
        "df.columns"
      ],
      "metadata": {
        "colab": {
          "base_uri": "https://localhost:8080/"
        },
        "id": "iKJ6X_ZhQlTn",
        "outputId": "bebf289b-75a2-4b93-99c0-5ba7dbf0b9bb"
      },
      "execution_count": null,
      "outputs": [
        {
          "output_type": "execute_result",
          "data": {
            "text/plain": [
              "Index(['MDVP:Fo(Hz)', 'MDVP:Fhi(Hz)', 'MDVP:Flo(Hz)', 'MDVP:Jitter(%)',\n",
              "       'MDVP:Jitter(Abs)', 'MDVP:RAP', 'MDVP:PPQ', 'Jitter:DDP',\n",
              "       'MDVP:Shimmer', 'MDVP:Shimmer(dB)', 'Shimmer:APQ3', 'Shimmer:APQ5',\n",
              "       'MDVP:APQ', 'Shimmer:DDA', 'NHR', 'HNR', 'status', 'RPDE', 'DFA',\n",
              "       'spread1', 'spread2', 'D2', 'PPE'],\n",
              "      dtype='object')"
            ]
          },
          "metadata": {},
          "execution_count": 26
        }
      ]
    },
    {
      "cell_type": "code",
      "source": [
        "df.shape"
      ],
      "metadata": {
        "colab": {
          "base_uri": "https://localhost:8080/"
        },
        "id": "-eAKdfXFQry3",
        "outputId": "3e121e01-2049-41ee-e8e6-7de82fcfb948"
      },
      "execution_count": null,
      "outputs": [
        {
          "output_type": "execute_result",
          "data": {
            "text/plain": [
              "(195, 23)"
            ]
          },
          "metadata": {},
          "execution_count": 27
        }
      ]
    },
    {
      "cell_type": "code",
      "source": [
        "df[df['status']==1].shape"
      ],
      "metadata": {
        "colab": {
          "base_uri": "https://localhost:8080/"
        },
        "id": "lU7T28RNQxEo",
        "outputId": "8c61f26a-acf9-4ec4-9102-67efa24a0d02"
      },
      "execution_count": null,
      "outputs": [
        {
          "output_type": "execute_result",
          "data": {
            "text/plain": [
              "(147, 23)"
            ]
          },
          "metadata": {},
          "execution_count": 28
        }
      ]
    },
    {
      "cell_type": "code",
      "source": [
        "df[df['status']==0].shape"
      ],
      "metadata": {
        "colab": {
          "base_uri": "https://localhost:8080/"
        },
        "id": "MjraamfXRC9P",
        "outputId": "d07c1e39-4cc3-4191-d3f4-7c10cbdce98f"
      },
      "execution_count": null,
      "outputs": [
        {
          "output_type": "execute_result",
          "data": {
            "text/plain": [
              "(48, 23)"
            ]
          },
          "metadata": {},
          "execution_count": 30
        }
      ]
    },
    {
      "cell_type": "code",
      "source": [
        "df.isna().sum()"
      ],
      "metadata": {
        "colab": {
          "base_uri": "https://localhost:8080/"
        },
        "id": "o9wPeU7zRIB0",
        "outputId": "e5d44425-74df-4b09-c38f-3bd288d32c79"
      },
      "execution_count": null,
      "outputs": [
        {
          "output_type": "execute_result",
          "data": {
            "text/plain": [
              "MDVP:Fo(Hz)         0\n",
              "MDVP:Fhi(Hz)        0\n",
              "MDVP:Flo(Hz)        0\n",
              "MDVP:Jitter(%)      0\n",
              "MDVP:Jitter(Abs)    0\n",
              "MDVP:RAP            0\n",
              "MDVP:PPQ            0\n",
              "Jitter:DDP          0\n",
              "MDVP:Shimmer        0\n",
              "MDVP:Shimmer(dB)    0\n",
              "Shimmer:APQ3        0\n",
              "Shimmer:APQ5        0\n",
              "MDVP:APQ            0\n",
              "Shimmer:DDA         0\n",
              "NHR                 0\n",
              "HNR                 0\n",
              "status              0\n",
              "RPDE                0\n",
              "DFA                 0\n",
              "spread1             0\n",
              "spread2             0\n",
              "D2                  0\n",
              "PPE                 0\n",
              "dtype: int64"
            ]
          },
          "metadata": {},
          "execution_count": 35
        }
      ]
    },
    {
      "cell_type": "markdown",
      "source": [
        "#**SCALING THE INPUTS**"
      ],
      "metadata": {
        "id": "JqiyOC9aSSlT"
      }
    },
    {
      "cell_type": "code",
      "source": [
        "from sklearn.preprocessing import StandardScaler"
      ],
      "metadata": {
        "id": "THzG4HrMRPJf"
      },
      "execution_count": null,
      "outputs": []
    },
    {
      "cell_type": "code",
      "source": [
        "x=df.drop(['status'],axis=1)\n",
        "y=df['status']"
      ],
      "metadata": {
        "id": "glbm8oqPSjo9"
      },
      "execution_count": null,
      "outputs": []
    },
    {
      "cell_type": "code",
      "source": [
        "stdscaler=StandardScaler()\n",
        "x=np.array(stdscaler.fit_transform(x))"
      ],
      "metadata": {
        "id": "Fn6ijC13Susd"
      },
      "execution_count": null,
      "outputs": []
    },
    {
      "cell_type": "code",
      "source": [
        "x\n",
        "#scale between -1 to 1"
      ],
      "metadata": {
        "colab": {
          "base_uri": "https://localhost:8080/"
        },
        "id": "bhmJkPVeS-vw",
        "outputId": "b34de84f-4bcc-452c-eb1e-984c2498d160"
      },
      "execution_count": null,
      "outputs": [
        {
          "output_type": "execute_result",
          "data": {
            "text/plain": [
              "array([[-0.82929965, -0.43616456, -0.95203729, ...,  0.48047686,\n",
              "        -0.21053082,  0.86888575],\n",
              "       [-0.77097169, -0.53097409, -0.05772056, ...,  1.31118546,\n",
              "         0.27507712,  1.80360503],\n",
              "       [-0.90947638, -0.7231683 , -0.10987483, ...,  1.01768236,\n",
              "        -0.10362861,  1.40266141],\n",
              "       ...,\n",
              "       [ 0.49557839,  0.47010361, -0.96839309, ..., -0.81807931,\n",
              "         0.78033848, -0.83241014],\n",
              "       [ 1.07876114,  2.19004398, -0.95417967, ..., -0.22906571,\n",
              "        -0.63700298, -0.92610456],\n",
              "       [ 1.45481664,  0.69224632, -0.88348115, ..., -0.43085284,\n",
              "         0.45480231, -0.64505466]])"
            ]
          },
          "metadata": {},
          "execution_count": 42
        }
      ]
    },
    {
      "cell_type": "markdown",
      "source": [
        "#**TRAIN TEST SPLIT**\n",
        "test set=20%\n",
        "train set=80%"
      ],
      "metadata": {
        "id": "1lxnRd-wV_ZO"
      }
    },
    {
      "cell_type": "code",
      "source": [
        "from sklearn.model_selection import train_test_split\n",
        "X_train,X_test,Y_train,Y_test=train_test_split(x,y,test_size=0.2,random_state=10)"
      ],
      "metadata": {
        "id": "xGIr6Yy2TE1Z"
      },
      "execution_count": null,
      "outputs": []
    },
    {
      "cell_type": "code",
      "source": [
        "print(X_train.shape)\n",
        "print(X_test.shape)\n",
        "print(Y_train.shape)\n",
        "print(Y_test.shape)"
      ],
      "metadata": {
        "colab": {
          "base_uri": "https://localhost:8080/"
        },
        "id": "6wchcax_XBH6",
        "outputId": "dcdb3370-d8d8-4f00-f142-d3e45f3fed78"
      },
      "execution_count": null,
      "outputs": [
        {
          "output_type": "stream",
          "name": "stdout",
          "text": [
            "(156, 22)\n",
            "(39, 22)\n",
            "(156,)\n",
            "(39,)\n"
          ]
        }
      ]
    },
    {
      "cell_type": "code",
      "source": [
        "#to put as arrays of numpy\n",
        "X_train=np.array(X_train)\n",
        "\n",
        "X_test=np.array(X_test)\n",
        "\n",
        "Y_train=np.array(Y_train)\n",
        "\n",
        "Y_test=np.array(Y_test)\n"
      ],
      "metadata": {
        "id": "OzIPCw2nXO8j"
      },
      "execution_count": null,
      "outputs": []
    },
    {
      "cell_type": "code",
      "source": [
        "len(X_train)"
      ],
      "metadata": {
        "colab": {
          "base_uri": "https://localhost:8080/"
        },
        "id": "p4LJvbixXttp",
        "outputId": "642a1012-3cd2-491a-b4b1-1f0fe32ef83e"
      },
      "execution_count": null,
      "outputs": [
        {
          "output_type": "execute_result",
          "data": {
            "text/plain": [
              "156"
            ]
          },
          "metadata": {},
          "execution_count": 56
        }
      ]
    },
    {
      "cell_type": "code",
      "source": [
        "len(X_test)"
      ],
      "metadata": {
        "colab": {
          "base_uri": "https://localhost:8080/"
        },
        "id": "AYYy2Ns6X9wp",
        "outputId": "6e443961-5d55-4845-b6c2-301177607ea0"
      },
      "execution_count": null,
      "outputs": [
        {
          "output_type": "execute_result",
          "data": {
            "text/plain": [
              "39"
            ]
          },
          "metadata": {},
          "execution_count": 57
        }
      ]
    },
    {
      "cell_type": "code",
      "source": [
        "len(Y_train)"
      ],
      "metadata": {
        "colab": {
          "base_uri": "https://localhost:8080/"
        },
        "id": "b0VfAnX5YCyd",
        "outputId": "8c592abd-4001-4ee1-9b5e-dceac5060ee6"
      },
      "execution_count": null,
      "outputs": [
        {
          "output_type": "execute_result",
          "data": {
            "text/plain": [
              "156"
            ]
          },
          "metadata": {},
          "execution_count": 58
        }
      ]
    },
    {
      "cell_type": "code",
      "source": [
        "len(Y_test)"
      ],
      "metadata": {
        "colab": {
          "base_uri": "https://localhost:8080/"
        },
        "id": "Bf1zAWQ7YDoh",
        "outputId": "4cdd5ee3-1045-4b24-bcfc-c09f71da6b10"
      },
      "execution_count": null,
      "outputs": [
        {
          "output_type": "execute_result",
          "data": {
            "text/plain": [
              "39"
            ]
          },
          "metadata": {},
          "execution_count": 59
        }
      ]
    },
    {
      "cell_type": "markdown",
      "source": [
        "#**ML ALGORITHMS**\n",
        "#**LINEAR REGRESSION**"
      ],
      "metadata": {
        "id": "woOnv2-hYTnF"
      }
    },
    {
      "cell_type": "code",
      "source": [
        "from sklearn.linear_model import LinearRegression"
      ],
      "metadata": {
        "id": "kzPAsLeoYHVN"
      },
      "execution_count": null,
      "outputs": []
    },
    {
      "cell_type": "code",
      "source": [
        "model1=LinearRegression()"
      ],
      "metadata": {
        "id": "RTs-B4jtZAyu"
      },
      "execution_count": null,
      "outputs": []
    },
    {
      "cell_type": "code",
      "source": [
        "model1.fit(X_train,Y_train)"
      ],
      "metadata": {
        "colab": {
          "base_uri": "https://localhost:8080/",
          "height": 164
        },
        "id": "6z-nYr49ZFNM",
        "outputId": "46ec72a9-c4c4-4ac4-d39b-33dc62fb5d17"
      },
      "execution_count": null,
      "outputs": [
        {
          "output_type": "error",
          "ename": "NameError",
          "evalue": "ignored",
          "traceback": [
            "\u001b[0;31m---------------------------------------------------------------------------\u001b[0m",
            "\u001b[0;31mNameError\u001b[0m                                 Traceback (most recent call last)",
            "\u001b[0;32m<ipython-input-3-a89e3fa348c4>\u001b[0m in \u001b[0;36m<module>\u001b[0;34m()\u001b[0m\n\u001b[0;32m----> 1\u001b[0;31m \u001b[0mmodel1\u001b[0m\u001b[0;34m.\u001b[0m\u001b[0mfit\u001b[0m\u001b[0;34m(\u001b[0m\u001b[0mX_train\u001b[0m\u001b[0;34m,\u001b[0m\u001b[0mY_train\u001b[0m\u001b[0;34m)\u001b[0m\u001b[0;34m\u001b[0m\u001b[0;34m\u001b[0m\u001b[0m\n\u001b[0m",
            "\u001b[0;31mNameError\u001b[0m: name 'X_train' is not defined"
          ]
        }
      ]
    },
    {
      "cell_type": "code",
      "source": [
        "Y_predmod1=model1.predict(X_test)\n",
        "Y_predmod1"
      ],
      "metadata": {
        "id": "9Bc5-RjmZJPr"
      },
      "execution_count": null,
      "outputs": []
    },
    {
      "cell_type": "markdown",
      "source": [
        "need to change in binary"
      ],
      "metadata": {
        "id": "gs_YIwW1dolD"
      }
    },
    {
      "cell_type": "code",
      "source": [
        "for i,j in enumerate(Y_predmod1):\n",
        "  if(j<0.5):\n",
        "    Y_predmod1[i]=0\n",
        "  else:\n",
        "    Y_predmod1[i]=1\n",
        "print(Y_predmod1)\n",
        "Y_predmod1.shape"
      ],
      "metadata": {
        "id": "f0dJBOwvdjif"
      },
      "execution_count": null,
      "outputs": []
    },
    {
      "cell_type": "code",
      "source": [
        "print(Y_test)"
      ],
      "metadata": {
        "id": "GJEaAhxyfVNT"
      },
      "execution_count": null,
      "outputs": []
    },
    {
      "cell_type": "code",
      "source": [
        "print(\"X test\",\" \",\"Y test\")\n",
        "for i,j in zip(Y_predmod1,Y_test):\n",
        "  print(i,\"        \",j)\n"
      ],
      "metadata": {
        "id": "ThX2hOg2gyYy"
      },
      "execution_count": null,
      "outputs": []
    },
    {
      "cell_type": "code",
      "source": [
        "print(\"Linear Regression Accuracy \\n\")\n",
        "print(model1.score(X_test,Y_test)*100,\"%\") "
      ],
      "metadata": {
        "id": "moRsubFihQgf"
      },
      "execution_count": null,
      "outputs": []
    },
    {
      "cell_type": "code",
      "source": [
        "from sklearn.metrics import confusion_matrix\n",
        "import matplotlib.pyplot as plt"
      ],
      "metadata": {
        "id": "UKpjIN2OiBNe"
      },
      "execution_count": null,
      "outputs": []
    },
    {
      "cell_type": "code",
      "source": [
        "cm=confusion_matrix(Y_test,Y_predmod1)\n",
        "import seaborn as sn\n",
        "plt.figure()\n",
        "labels = ['True Neg','False Pos','False Neg','True Pos']\n",
        "labels = np.asarray(labels).reshape(2,2)\n",
        "fig=sn.heatmap(cm,annot=labels,fmt='',cmap='Oranges')\n",
        "#annot='True'\n",
        "figure=fig.get_figure()\n",
        "plt.xlabel(\"Predicted\")\n",
        "plt.ylabel(\"Truth\")\n",
        "#A confusion matrix is a table that is used to define the performance of a classification algorithm"
      ],
      "metadata": {
        "id": "xInrsJZHiiuV"
      },
      "execution_count": null,
      "outputs": []
    },
    {
      "cell_type": "markdown",
      "source": [
        "#**LOGISTIC REGRESSION**"
      ],
      "metadata": {
        "id": "p36ESVtfnlUU"
      }
    },
    {
      "cell_type": "code",
      "source": [
        "from sklearn.linear_model import LogisticRegression"
      ],
      "metadata": {
        "id": "aXVbfqRujInn"
      },
      "execution_count": null,
      "outputs": []
    },
    {
      "cell_type": "code",
      "source": [
        "model2=LogisticRegression()"
      ],
      "metadata": {
        "id": "izkMQCkXoBHJ"
      },
      "execution_count": null,
      "outputs": []
    },
    {
      "cell_type": "code",
      "source": [
        "model2.fit(X_train,Y_train)"
      ],
      "metadata": {
        "colab": {
          "base_uri": "https://localhost:8080/"
        },
        "id": "0pqqIIIooGSb",
        "outputId": "f66457a4-00df-4e48-fc04-ec7b99c98b38"
      },
      "execution_count": null,
      "outputs": [
        {
          "output_type": "execute_result",
          "data": {
            "text/plain": [
              "LogisticRegression()"
            ]
          },
          "metadata": {},
          "execution_count": 103
        }
      ]
    },
    {
      "cell_type": "code",
      "source": [
        "Y_predmod2=model2.predict(X_test)\n",
        "Y_predmod2"
      ],
      "metadata": {
        "colab": {
          "base_uri": "https://localhost:8080/"
        },
        "id": "tufLJYeooLJS",
        "outputId": "1fd655db-7e50-4cf8-d4f4-aa9dc8842c0f"
      },
      "execution_count": null,
      "outputs": [
        {
          "output_type": "execute_result",
          "data": {
            "text/plain": [
              "array([1, 1, 1, 1, 0, 1, 0, 1, 1, 1, 1, 1, 1, 1, 1, 0, 1, 1, 0, 1, 1, 0,\n",
              "       0, 1, 1, 1, 1, 1, 0, 0, 1, 1, 1, 0, 0, 1, 0, 1, 0])"
            ]
          },
          "metadata": {},
          "execution_count": 105
        }
      ]
    },
    {
      "cell_type": "code",
      "source": [
        "Y_test"
      ],
      "metadata": {
        "colab": {
          "base_uri": "https://localhost:8080/"
        },
        "id": "akov2Vl2oZrn",
        "outputId": "336bdae7-e0cb-4c7c-e208-ff54bcf201a2"
      },
      "execution_count": null,
      "outputs": [
        {
          "output_type": "execute_result",
          "data": {
            "text/plain": [
              "array([1, 1, 1, 1, 0, 1, 0, 1, 1, 1, 1, 1, 1, 1, 1, 0, 1, 1, 1, 1, 1, 0,\n",
              "       0, 1, 1, 1, 1, 1, 0, 0, 1, 1, 1, 0, 0, 1, 0, 1, 0])"
            ]
          },
          "metadata": {},
          "execution_count": 106
        }
      ]
    },
    {
      "cell_type": "code",
      "source": [
        "print(\"Logistic Regression Accuracy : \\n\")\n",
        "print(model2.score(X_test,Y_test)*100,\"%\")"
      ],
      "metadata": {
        "colab": {
          "base_uri": "https://localhost:8080/"
        },
        "id": "9nD0LJd3odYv",
        "outputId": "249bb855-21a7-466a-a30c-fcdc11e4f4b6"
      },
      "execution_count": null,
      "outputs": [
        {
          "output_type": "stream",
          "name": "stdout",
          "text": [
            "Logistic Regression Accuracy : \n",
            "\n",
            "97.43589743589743 %\n"
          ]
        }
      ]
    },
    {
      "cell_type": "code",
      "source": [
        "cm=confusion_matrix(Y_test,Y_predmod2)\n",
        "import seaborn as sn\n",
        "plt.figure()\n",
        "sn.heatmap(cm,annot=True)\n",
        "plt.xlabel(\"Predicted\")\n",
        "plt.ylabel(\"Truth\")"
      ],
      "metadata": {
        "colab": {
          "base_uri": "https://localhost:8080/",
          "height": 296
        },
        "id": "R6i3DWYborqH",
        "outputId": "681f00de-0748-4638-9c32-9995ed9a15af"
      },
      "execution_count": null,
      "outputs": [
        {
          "output_type": "execute_result",
          "data": {
            "text/plain": [
              "Text(33.0, 0.5, 'Truth')"
            ]
          },
          "metadata": {},
          "execution_count": 116
        },
        {
          "output_type": "display_data",
          "data": {
            "text/plain": [
              "<Figure size 432x288 with 2 Axes>"
            ],
            "image/png": "[encoded data removed]"
          },
          "metadata": {
            "needs_background": "light"
          }
        }
      ]
    },
    {
      "cell_type": "markdown",
      "source": [
        "#**DECISION TREE CLASSIFIER**"
      ],
      "metadata": {
        "id": "mmTLh6Sh5Jgc"
      }
    },
    {
      "cell_type": "code",
      "source": [
        "from sklearn import tree"
      ],
      "metadata": {
        "id": "zJaHRa7Kprws"
      },
      "execution_count": null,
      "outputs": []
    },
    {
      "cell_type": "code",
      "source": [
        "model3=tree.DecisionTreeClassifier()"
      ],
      "metadata": {
        "id": "Jex-RfjAq0x_"
      },
      "execution_count": null,
      "outputs": []
    },
    {
      "cell_type": "code",
      "source": [
        "model3.fit(X_train,Y_train)"
      ],
      "metadata": {
        "colab": {
          "base_uri": "https://localhost:8080/"
        },
        "id": "oiAo7p-gq7Ew",
        "outputId": "59d60d15-3cde-4f5d-eb42-80cc6842a8ef"
      },
      "execution_count": null,
      "outputs": [
        {
          "output_type": "execute_result",
          "data": {
            "text/plain": [
              "DecisionTreeClassifier()"
            ]
          },
          "metadata": {},
          "execution_count": 119
        }
      ]
    },
    {
      "cell_type": "code",
      "source": [
        "Y_predmod3=model3.predict(X_test)\n",
        "Y_predmod3"
      ],
      "metadata": {
        "colab": {
          "base_uri": "https://localhost:8080/"
        },
        "id": "T7cfR4Ljq_XK",
        "outputId": "6ddafec4-c68c-4c52-c867-d4a681525c48"
      },
      "execution_count": null,
      "outputs": [
        {
          "output_type": "execute_result",
          "data": {
            "text/plain": [
              "array([1, 1, 1, 1, 1, 1, 0, 1, 1, 1, 1, 1, 1, 1, 1, 0, 1, 1, 1, 1, 1, 0,\n",
              "       0, 0, 1, 1, 1, 1, 1, 0, 1, 1, 1, 0, 0, 1, 0, 1, 0])"
            ]
          },
          "metadata": {},
          "execution_count": 120
        }
      ]
    },
    {
      "cell_type": "code",
      "source": [
        "Y_test"
      ],
      "metadata": {
        "colab": {
          "base_uri": "https://localhost:8080/"
        },
        "id": "NbaeU4eorJts",
        "outputId": "1979cae9-71ca-4e86-bfe2-2fe1c6193a7a"
      },
      "execution_count": null,
      "outputs": [
        {
          "output_type": "execute_result",
          "data": {
            "text/plain": [
              "array([1, 1, 1, 1, 0, 1, 0, 1, 1, 1, 1, 1, 1, 1, 1, 0, 1, 1, 1, 1, 1, 0,\n",
              "       0, 1, 1, 1, 1, 1, 0, 0, 1, 1, 1, 0, 0, 1, 0, 1, 0])"
            ]
          },
          "metadata": {},
          "execution_count": 121
        }
      ]
    },
    {
      "cell_type": "code",
      "source": [
        "print(\"Decision Tree Accuracy \\n\")\n",
        "print(model3.score(X_test,Y_test)*100,\"%\")"
      ],
      "metadata": {
        "colab": {
          "base_uri": "https://localhost:8080/"
        },
        "id": "z45AXkhyrMF1",
        "outputId": "c3e225d9-e2ac-4bad-fb7d-1a4a4bd03571"
      },
      "execution_count": null,
      "outputs": [
        {
          "output_type": "stream",
          "name": "stdout",
          "text": [
            "Decision Tree Accuracy \n",
            "\n",
            "92.3076923076923 %\n"
          ]
        }
      ]
    },
    {
      "cell_type": "code",
      "source": [
        "cm=confusion_matrix(Y_test,Y_predmod3)\n",
        "plt.figure()\n",
        "sn.heatmap(cm,annot=True,cmap=\"Blues\")\n",
        "plt.xlabel(\"Predicted\")\n",
        "plt.ylabel(\"Truth\")"
      ],
      "metadata": {
        "colab": {
          "base_uri": "https://localhost:8080/",
          "height": 296
        },
        "id": "TodL3Rq6rjSD",
        "outputId": "e7bfca04-4255-48ef-a93b-fc279b83eeb5"
      },
      "execution_count": null,
      "outputs": [
        {
          "output_type": "execute_result",
          "data": {
            "text/plain": [
              "Text(33.0, 0.5, 'Truth')"
            ]
          },
          "metadata": {},
          "execution_count": 125
        },
        {
          "output_type": "display_data",
          "data": {
            "text/plain": [
              "<Figure size 432x288 with 2 Axes>"
            ],
            "image/png": "[encoded data removed]"
          },
          "metadata": {
            "needs_background": "light"
          }
        }
      ]
    },
    {
      "cell_type": "markdown",
      "source": [
        "#**SUPPORT VECTOR MACHINE**"
      ],
      "metadata": {
        "id": "JsotuQP7sioO"
      }
    },
    {
      "cell_type": "code",
      "source": [
        "from sklearn.svm import SVC"
      ],
      "metadata": {
        "id": "SQvJhADXrr1L"
      },
      "execution_count": null,
      "outputs": []
    },
    {
      "cell_type": "code",
      "source": [
        "model4=SVC(C=5)"
      ],
      "metadata": {
        "id": "haIwuDzFsv_h"
      },
      "execution_count": null,
      "outputs": []
    },
    {
      "cell_type": "code",
      "source": [
        "model4.fit(X_train,Y_train)"
      ],
      "metadata": {
        "colab": {
          "base_uri": "https://localhost:8080/"
        },
        "id": "Dm3d1a5Ws2Ca",
        "outputId": "9f73794a-f234-4444-eb32-875e1c7fe5c9"
      },
      "execution_count": null,
      "outputs": [
        {
          "output_type": "execute_result",
          "data": {
            "text/plain": [
              "SVC(C=5)"
            ]
          },
          "metadata": {},
          "execution_count": 150
        }
      ]
    },
    {
      "cell_type": "code",
      "source": [
        "Y_predmod4=model4.predict(X_test)\n",
        "Y_predmod4"
      ],
      "metadata": {
        "colab": {
          "base_uri": "https://localhost:8080/"
        },
        "id": "y0tG09IMs7or",
        "outputId": "40097676-c4dc-4df7-f764-5bee6e65e46d"
      },
      "execution_count": null,
      "outputs": [
        {
          "output_type": "execute_result",
          "data": {
            "text/plain": [
              "array([1, 1, 1, 1, 0, 1, 0, 1, 1, 1, 1, 1, 1, 1, 1, 0, 1, 1, 1, 1, 1, 0,\n",
              "       0, 1, 1, 1, 1, 1, 0, 0, 1, 1, 1, 0, 0, 1, 0, 1, 0])"
            ]
          },
          "metadata": {},
          "execution_count": 155
        }
      ]
    },
    {
      "cell_type": "code",
      "source": [
        "Y_test"
      ],
      "metadata": {
        "colab": {
          "base_uri": "https://localhost:8080/"
        },
        "id": "V5lvF0jPtP6T",
        "outputId": "bcedfb57-cf41-47be-ec1e-e7d1336691c5"
      },
      "execution_count": null,
      "outputs": [
        {
          "output_type": "execute_result",
          "data": {
            "text/plain": [
              "array([1, 1, 1, 1, 0, 1, 0, 1, 1, 1, 1, 1, 1, 1, 1, 0, 1, 1, 1, 1, 1, 0,\n",
              "       0, 1, 1, 1, 1, 1, 0, 0, 1, 1, 1, 0, 0, 1, 0, 1, 0])"
            ]
          },
          "metadata": {},
          "execution_count": 156
        }
      ]
    },
    {
      "cell_type": "code",
      "source": [
        "print(\"Support Vector Machine Accuracy : \\n\")\n",
        "print(model4.score(X_test,Y_test)*100,\"%\")"
      ],
      "metadata": {
        "colab": {
          "base_uri": "https://localhost:8080/"
        },
        "id": "_8jhZDZVtXIc",
        "outputId": "0e35e1df-50f1-4608-f5ac-f47f46de0316"
      },
      "execution_count": null,
      "outputs": [
        {
          "output_type": "stream",
          "name": "stdout",
          "text": [
            "Support Vector Machine Accuracy : \n",
            "\n",
            "100.0 %\n"
          ]
        }
      ]
    },
    {
      "cell_type": "code",
      "source": [
        "cm=confusion_matrix(Y_test,Y_predmod4)\n",
        "plt.figure()\n",
        "sn.heatmap(cm,annot=True)\n",
        "plt.xlabel(\"Predicted\")\n",
        "plt.ylabel(\"Truth\")"
      ],
      "metadata": {
        "colab": {
          "base_uri": "https://localhost:8080/",
          "height": 296
        },
        "id": "UHj7gwXxtmR4",
        "outputId": "70a0e80e-a523-4a32-8be0-e21b007aa100"
      },
      "execution_count": null,
      "outputs": [
        {
          "output_type": "execute_result",
          "data": {
            "text/plain": [
              "Text(33.0, 0.5, 'Truth')"
            ]
          },
          "metadata": {},
          "execution_count": 158
        },
        {
          "output_type": "display_data",
          "data": {
            "text/plain": [
              "<Figure size 432x288 with 2 Axes>"
            ],
            "image/png": "[encoded data removed]"
          },
          "metadata": {
            "needs_background": "light"
          }
        }
      ]
    },
    {
      "cell_type": "markdown",
      "source": [
        "#**RANDOM FOREST CLASSIFIER**"
      ],
      "metadata": {
        "id": "5jpYbzC1vKoh"
      }
    },
    {
      "cell_type": "code",
      "source": [
        "from sklearn.ensemble import RandomForestClassifier"
      ],
      "metadata": {
        "id": "4j83sHvmuHCM"
      },
      "execution_count": null,
      "outputs": []
    },
    {
      "cell_type": "code",
      "source": [
        "model5=RandomForestClassifier()"
      ],
      "metadata": {
        "id": "ti29wSjhwpBt"
      },
      "execution_count": null,
      "outputs": []
    },
    {
      "cell_type": "code",
      "source": [
        "model5.fit(X_train,Y_train)"
      ],
      "metadata": {
        "colab": {
          "base_uri": "https://localhost:8080/"
        },
        "id": "HiiBUL7swuxW",
        "outputId": "34b113b9-7c95-4cd2-a95d-3a8cd2b059f0"
      },
      "execution_count": null,
      "outputs": [
        {
          "output_type": "execute_result",
          "data": {
            "text/plain": [
              "RandomForestClassifier()"
            ]
          },
          "metadata": {},
          "execution_count": 175
        }
      ]
    },
    {
      "cell_type": "code",
      "source": [
        "Y_predmod5=model5.predict(X_test)\n",
        "Y_predmod5"
      ],
      "metadata": {
        "colab": {
          "base_uri": "https://localhost:8080/"
        },
        "id": "KbE7lTOjwyrH",
        "outputId": "659b008a-08b9-4e6b-e9f1-2befc17f6579"
      },
      "execution_count": null,
      "outputs": [
        {
          "output_type": "execute_result",
          "data": {
            "text/plain": [
              "array([1, 1, 1, 1, 0, 1, 0, 1, 1, 1, 1, 1, 1, 1, 1, 0, 1, 1, 1, 1, 1, 0,\n",
              "       0, 1, 1, 1, 1, 1, 0, 0, 1, 1, 1, 0, 0, 1, 0, 1, 0])"
            ]
          },
          "metadata": {},
          "execution_count": 178
        }
      ]
    },
    {
      "cell_type": "code",
      "source": [
        "Y_test"
      ],
      "metadata": {
        "colab": {
          "base_uri": "https://localhost:8080/"
        },
        "id": "ymw5P8aew_E6",
        "outputId": "c018a225-1177-4025-f28c-9bd8c5a12f17"
      },
      "execution_count": null,
      "outputs": [
        {
          "output_type": "execute_result",
          "data": {
            "text/plain": [
              "array([1, 1, 1, 1, 0, 1, 0, 1, 1, 1, 1, 1, 1, 1, 1, 0, 1, 1, 1, 1, 1, 0,\n",
              "       0, 1, 1, 1, 1, 1, 0, 0, 1, 1, 1, 0, 0, 1, 0, 1, 0])"
            ]
          },
          "metadata": {},
          "execution_count": 179
        }
      ]
    },
    {
      "cell_type": "code",
      "source": [
        "print(\"Random Forest Classifier Accuracy :\\n\")\n",
        "print(model5.score(X_test,Y_test)*100,\"%\")"
      ],
      "metadata": {
        "colab": {
          "base_uri": "https://localhost:8080/"
        },
        "id": "gAv-CNDfxBES",
        "outputId": "69dceee9-4bd6-49e7-e9d4-5c610d5d6f70"
      },
      "execution_count": null,
      "outputs": [
        {
          "output_type": "stream",
          "name": "stdout",
          "text": [
            "Random Forest Classifier Accuracy :\n",
            "\n",
            "100.0 %\n"
          ]
        }
      ]
    },
    {
      "cell_type": "code",
      "source": [
        "cm=confusion_matrix(Y_test,Y_predmod5)\n",
        "plt.figure()\n",
        "sn.heatmap(cm,annot=True)\n",
        "plt.xlabel(\"Predicted\")\n",
        "plt.ylabel(\"Truth\")"
      ],
      "metadata": {
        "colab": {
          "base_uri": "https://localhost:8080/",
          "height": 296
        },
        "id": "5wxh6mg8xeqP",
        "outputId": "372a20fa-c727-4711-e355-009b4d435dfa"
      },
      "execution_count": null,
      "outputs": [
        {
          "output_type": "execute_result",
          "data": {
            "text/plain": [
              "Text(33.0, 0.5, 'Truth')"
            ]
          },
          "metadata": {},
          "execution_count": 187
        },
        {
          "output_type": "display_data",
          "data": {
            "text/plain": [
              "<Figure size 432x288 with 2 Axes>"
            ],
            "image/png": "[encoded data removed]"
          },
          "metadata": {
            "needs_background": "light"
          }
        }
      ]
    },
    {
      "cell_type": "markdown",
      "source": [
        "#**Xgbooster**"
      ],
      "metadata": {
        "id": "PHZKb9JVyaNa"
      }
    },
    {
      "cell_type": "code",
      "source": [
        "from xgboost import XGBClassifier"
      ],
      "metadata": {
        "id": "TLgc4mYVx3f-"
      },
      "execution_count": null,
      "outputs": []
    },
    {
      "cell_type": "code",
      "source": [
        "model6=XGBClassifier()"
      ],
      "metadata": {
        "id": "7uSSM5x4ypSX"
      },
      "execution_count": null,
      "outputs": []
    },
    {
      "cell_type": "code",
      "source": [
        "model6.fit(X_train,Y_train)"
      ],
      "metadata": {
        "colab": {
          "base_uri": "https://localhost:8080/"
        },
        "id": "XKSTab_ey2rV",
        "outputId": "d7a85000-b22b-4822-829f-107571585463"
      },
      "execution_count": null,
      "outputs": [
        {
          "output_type": "execute_result",
          "data": {
            "text/plain": [
              "XGBClassifier()"
            ]
          },
          "metadata": {},
          "execution_count": 192
        }
      ]
    },
    {
      "cell_type": "code",
      "source": [
        "Y_predmod6=model6.predict(X_test)\n",
        "Y_predmod6"
      ],
      "metadata": {
        "colab": {
          "base_uri": "https://localhost:8080/"
        },
        "id": "lS6VmOJEy5cw",
        "outputId": "f85f250b-7729-48a4-ed6b-349baaec081b"
      },
      "execution_count": null,
      "outputs": [
        {
          "output_type": "execute_result",
          "data": {
            "text/plain": [
              "array([1, 1, 1, 1, 0, 1, 0, 1, 1, 1, 1, 1, 1, 1, 1, 0, 1, 1, 1, 1, 1, 0,\n",
              "       0, 1, 1, 1, 1, 1, 0, 0, 1, 1, 1, 0, 0, 1, 0, 1, 0])"
            ]
          },
          "metadata": {},
          "execution_count": 194
        }
      ]
    },
    {
      "cell_type": "code",
      "source": [
        "Y_test"
      ],
      "metadata": {
        "colab": {
          "base_uri": "https://localhost:8080/"
        },
        "id": "WQQ88CCIzBrU",
        "outputId": "8acfc838-b42d-4b1b-fed1-d5e8df08c13d"
      },
      "execution_count": null,
      "outputs": [
        {
          "output_type": "execute_result",
          "data": {
            "text/plain": [
              "array([1, 1, 1, 1, 0, 1, 0, 1, 1, 1, 1, 1, 1, 1, 1, 0, 1, 1, 1, 1, 1, 0,\n",
              "       0, 1, 1, 1, 1, 1, 0, 0, 1, 1, 1, 0, 0, 1, 0, 1, 0])"
            ]
          },
          "metadata": {},
          "execution_count": 195
        }
      ]
    },
    {
      "cell_type": "code",
      "source": [
        "print(\"Xgbooster Accuracy : \\n\")\n",
        "print(model6.score(X_test,Y_test)*100,\"%\")"
      ],
      "metadata": {
        "colab": {
          "base_uri": "https://localhost:8080/"
        },
        "id": "2dF51YYJzFML",
        "outputId": "a1e6aedd-93e8-44d9-e7d7-83012e7fdf82"
      },
      "execution_count": null,
      "outputs": [
        {
          "output_type": "stream",
          "name": "stdout",
          "text": [
            "Xgbooster Accuracy : \n",
            "\n",
            "100.0 %\n"
          ]
        }
      ]
    },
    {
      "cell_type": "code",
      "source": [
        "cm=confusion_matrix(Y_test,Y_predmod6)\n",
        "plt.figure()\n",
        "sn.heatmap(cm,annot=True)\n",
        "plt.xlabel(\"Predicted\")\n",
        "plt.ylabel(\"Truth\")"
      ],
      "metadata": {
        "colab": {
          "base_uri": "https://localhost:8080/",
          "height": 296
        },
        "id": "jxphxwxIzTVq",
        "outputId": "e216063d-967d-447f-df1a-432b30553761"
      },
      "execution_count": null,
      "outputs": [
        {
          "output_type": "execute_result",
          "data": {
            "text/plain": [
              "Text(33.0, 0.5, 'Truth')"
            ]
          },
          "metadata": {},
          "execution_count": 198
        },
        {
          "output_type": "display_data",
          "data": {
            "text/plain": [
              "<Figure size 432x288 with 2 Axes>"
            ],
            "image/png": "[encoded data removed]"
          },
          "metadata": {
            "needs_background": "light"
          }
        }
      ]
    },
    {
      "cell_type": "markdown",
      "source": [
        "#**NEURAL NETWORK**"
      ],
      "metadata": {
        "id": "fAGL0Ik8zj3P"
      }
    },
    {
      "cell_type": "code",
      "source": [
        "import tensorflow\n",
        "import keras"
      ],
      "metadata": {
        "id": "pl2wigVRzZk6"
      },
      "execution_count": null,
      "outputs": []
    },
    {
      "cell_type": "code",
      "source": [
        "from keras.layers import Dense "
      ],
      "metadata": {
        "id": "nloq8NHFzsT6"
      },
      "execution_count": null,
      "outputs": []
    },
    {
      "cell_type": "code",
      "source": [
        "from keras.backend import binary_crossentropy\n",
        "model7=keras.Sequential()\n",
        "model7.add(Dense(100,input_dim=22,activation='sigmoid'))\n",
        "model7.add(Dense(50,activation='sigmoid'))\n",
        "model7.add(Dense(50,activation='sigmoid'))\n",
        "model7.add(Dense(1,activation='sigmoid'))\n",
        "\n",
        "\n",
        "\n",
        "model7.compile(optimizer='adam',metrics=['accuracy'],loss='binary_crossentropy')\n",
        "model7.fit(X_train,Y_train,epochs=400)"
      ],
      "metadata": {
        "colab": {
          "base_uri": "https://localhost:8080/"
        },
        "id": "0LIdvaPZz0Oz",
        "outputId": "5f2a1168-a7b8-47eb-f9a0-6084c5aab231"
      },
      "execution_count": null,
      "outputs": [
        {
          "output_type": "stream",
          "name": "stdout",
          "text": [
            "Epoch 1/400\n",
            "5/5 [==============================] - 1s 5ms/step - loss: 0.5616 - accuracy: 0.7628\n",
            "Epoch 2/400\n",
            "5/5 [==============================] - 0s 6ms/step - loss: 0.5451 - accuracy: 0.7628\n",
            "Epoch 3/400\n",
            "5/5 [==============================] - 0s 5ms/step - loss: 0.5390 - accuracy: 0.7628\n",
            "Epoch 4/400\n",
            "5/5 [==============================] - 0s 4ms/step - loss: 0.5348 - accuracy: 0.7628\n",
            "Epoch 5/400\n",
            "5/5 [==============================] - 0s 5ms/step - loss: 0.5286 - accuracy: 0.7628\n",
            "Epoch 6/400\n",
            "5/5 [==============================] - 0s 6ms/step - loss: 0.5198 - accuracy: 0.7628\n",
            "Epoch 7/400\n",
            "5/5 [==============================] - 0s 6ms/step - loss: 0.5125 - accuracy: 0.7628\n",
            "Epoch 8/400\n",
            "5/5 [==============================] - 0s 6ms/step - loss: 0.4998 - accuracy: 0.7628\n",
            "Epoch 9/400\n",
            "5/5 [==============================] - 0s 6ms/step - loss: 0.4909 - accuracy: 0.7628\n",
            "Epoch 10/400\n",
            "5/5 [==============================] - 0s 6ms/step - loss: 0.4766 - accuracy: 0.7628\n",
            "Epoch 11/400\n",
            "5/5 [==============================] - 0s 6ms/step - loss: 0.4593 - accuracy: 0.7628\n",
            "Epoch 12/400\n",
            "5/5 [==============================] - 0s 5ms/step - loss: 0.4448 - accuracy: 0.7628\n",
            "Epoch 13/400\n",
            "5/5 [==============================] - 0s 5ms/step - loss: 0.4333 - accuracy: 0.7821\n",
            "Epoch 14/400\n",
            "5/5 [==============================] - 0s 6ms/step - loss: 0.4203 - accuracy: 0.8077\n",
            "Epoch 15/400\n",
            "5/5 [==============================] - 0s 6ms/step - loss: 0.4095 - accuracy: 0.8205\n",
            "Epoch 16/400\n",
            "5/5 [==============================] - 0s 6ms/step - loss: 0.4017 - accuracy: 0.8141\n",
            "Epoch 17/400\n",
            "5/5 [==============================] - 0s 6ms/step - loss: 0.3963 - accuracy: 0.8205\n",
            "Epoch 18/400\n",
            "5/5 [==============================] - 0s 5ms/step - loss: 0.3916 - accuracy: 0.8269\n",
            "Epoch 19/400\n",
            "5/5 [==============================] - 0s 4ms/step - loss: 0.3873 - accuracy: 0.8077\n",
            "Epoch 20/400\n",
            "5/5 [==============================] - 0s 5ms/step - loss: 0.3836 - accuracy: 0.8205\n",
            "Epoch 21/400\n",
            "5/5 [==============================] - 0s 4ms/step - loss: 0.3804 - accuracy: 0.8205\n",
            "Epoch 22/400\n",
            "5/5 [==============================] - 0s 5ms/step - loss: 0.3814 - accuracy: 0.8205\n",
            "Epoch 23/400\n",
            "5/5 [==============================] - 0s 6ms/step - loss: 0.3761 - accuracy: 0.8141\n",
            "Epoch 24/400\n",
            "5/5 [==============================] - 0s 5ms/step - loss: 0.3758 - accuracy: 0.8013\n",
            "Epoch 25/400\n",
            "5/5 [==============================] - 0s 6ms/step - loss: 0.3706 - accuracy: 0.8077\n",
            "Epoch 26/400\n",
            "5/5 [==============================] - 0s 6ms/step - loss: 0.3717 - accuracy: 0.8269\n",
            "Epoch 27/400\n",
            "5/5 [==============================] - 0s 6ms/step - loss: 0.3677 - accuracy: 0.8205\n",
            "Epoch 28/400\n",
            "5/5 [==============================] - 0s 6ms/step - loss: 0.3651 - accuracy: 0.8141\n",
            "Epoch 29/400\n",
            "5/5 [==============================] - 0s 5ms/step - loss: 0.3676 - accuracy: 0.7821\n",
            "Epoch 30/400\n",
            "5/5 [==============================] - 0s 6ms/step - loss: 0.3596 - accuracy: 0.8205\n",
            "Epoch 31/400\n",
            "5/5 [==============================] - 0s 5ms/step - loss: 0.3653 - accuracy: 0.8205\n",
            "Epoch 32/400\n",
            "5/5 [==============================] - 0s 5ms/step - loss: 0.3601 - accuracy: 0.8269\n",
            "Epoch 33/400\n",
            "5/5 [==============================] - 0s 6ms/step - loss: 0.3657 - accuracy: 0.7885\n",
            "Epoch 34/400\n",
            "5/5 [==============================] - 0s 5ms/step - loss: 0.3584 - accuracy: 0.8141\n",
            "Epoch 35/400\n",
            "5/5 [==============================] - 0s 5ms/step - loss: 0.3585 - accuracy: 0.8333\n",
            "Epoch 36/400\n",
            "5/5 [==============================] - 0s 5ms/step - loss: 0.3534 - accuracy: 0.8269\n",
            "Epoch 37/400\n",
            "5/5 [==============================] - 0s 5ms/step - loss: 0.3497 - accuracy: 0.8205\n",
            "Epoch 38/400\n",
            "5/5 [==============================] - 0s 6ms/step - loss: 0.3480 - accuracy: 0.8141\n",
            "Epoch 39/400\n",
            "5/5 [==============================] - 0s 5ms/step - loss: 0.3465 - accuracy: 0.8269\n",
            "Epoch 40/400\n",
            "5/5 [==============================] - 0s 5ms/step - loss: 0.3483 - accuracy: 0.8269\n",
            "Epoch 41/400\n",
            "5/5 [==============================] - 0s 5ms/step - loss: 0.3446 - accuracy: 0.8269\n",
            "Epoch 42/400\n",
            "5/5 [==============================] - 0s 5ms/step - loss: 0.3417 - accuracy: 0.8205\n",
            "Epoch 43/400\n",
            "5/5 [==============================] - 0s 7ms/step - loss: 0.3439 - accuracy: 0.8141\n",
            "Epoch 44/400\n",
            "5/5 [==============================] - 0s 5ms/step - loss: 0.3394 - accuracy: 0.8141\n",
            "Epoch 45/400\n",
            "5/5 [==============================] - 0s 5ms/step - loss: 0.3371 - accuracy: 0.8269\n",
            "Epoch 46/400\n",
            "5/5 [==============================] - 0s 5ms/step - loss: 0.3424 - accuracy: 0.8333\n",
            "Epoch 47/400\n",
            "5/5 [==============================] - 0s 5ms/step - loss: 0.3383 - accuracy: 0.8333\n",
            "Epoch 48/400\n",
            "5/5 [==============================] - 0s 5ms/step - loss: 0.3362 - accuracy: 0.8269\n",
            "Epoch 49/400\n",
            "5/5 [==============================] - 0s 5ms/step - loss: 0.3396 - accuracy: 0.8269\n",
            "Epoch 50/400\n",
            "5/5 [==============================] - 0s 6ms/step - loss: 0.3384 - accuracy: 0.8269\n",
            "Epoch 51/400\n",
            "5/5 [==============================] - 0s 5ms/step - loss: 0.3346 - accuracy: 0.8333\n",
            "Epoch 52/400\n",
            "5/5 [==============================] - 0s 5ms/step - loss: 0.3397 - accuracy: 0.8269\n",
            "Epoch 53/400\n",
            "5/5 [==============================] - 0s 6ms/step - loss: 0.3318 - accuracy: 0.8205\n",
            "Epoch 54/400\n",
            "5/5 [==============================] - 0s 6ms/step - loss: 0.3302 - accuracy: 0.8269\n",
            "Epoch 55/400\n",
            "5/5 [==============================] - 0s 6ms/step - loss: 0.3309 - accuracy: 0.8269\n",
            "Epoch 56/400\n",
            "5/5 [==============================] - 0s 7ms/step - loss: 0.3319 - accuracy: 0.8269\n",
            "Epoch 57/400\n",
            "5/5 [==============================] - 0s 6ms/step - loss: 0.3280 - accuracy: 0.8269\n",
            "Epoch 58/400\n",
            "5/5 [==============================] - 0s 7ms/step - loss: 0.3287 - accuracy: 0.8269\n",
            "Epoch 59/400\n",
            "5/5 [==============================] - 0s 6ms/step - loss: 0.3276 - accuracy: 0.8269\n",
            "Epoch 60/400\n",
            "5/5 [==============================] - 0s 5ms/step - loss: 0.3292 - accuracy: 0.8269\n",
            "Epoch 61/400\n",
            "5/5 [==============================] - 0s 6ms/step - loss: 0.3252 - accuracy: 0.8269\n",
            "Epoch 62/400\n",
            "5/5 [==============================] - 0s 9ms/step - loss: 0.3295 - accuracy: 0.8269\n",
            "Epoch 63/400\n",
            "5/5 [==============================] - 0s 5ms/step - loss: 0.3259 - accuracy: 0.8205\n",
            "Epoch 64/400\n",
            "5/5 [==============================] - 0s 6ms/step - loss: 0.3236 - accuracy: 0.8269\n",
            "Epoch 65/400\n",
            "5/5 [==============================] - 0s 6ms/step - loss: 0.3226 - accuracy: 0.8269\n",
            "Epoch 66/400\n",
            "5/5 [==============================] - 0s 5ms/step - loss: 0.3243 - accuracy: 0.8269\n",
            "Epoch 67/400\n",
            "5/5 [==============================] - 0s 6ms/step - loss: 0.3237 - accuracy: 0.8205\n",
            "Epoch 68/400\n",
            "5/5 [==============================] - 0s 6ms/step - loss: 0.3199 - accuracy: 0.8333\n",
            "Epoch 69/400\n",
            "5/5 [==============================] - 0s 6ms/step - loss: 0.3278 - accuracy: 0.8397\n",
            "Epoch 70/400\n",
            "5/5 [==============================] - 0s 6ms/step - loss: 0.3220 - accuracy: 0.8333\n",
            "Epoch 71/400\n",
            "5/5 [==============================] - 0s 6ms/step - loss: 0.3183 - accuracy: 0.8269\n",
            "Epoch 72/400\n",
            "5/5 [==============================] - 0s 6ms/step - loss: 0.3264 - accuracy: 0.8205\n",
            "Epoch 73/400\n",
            "5/5 [==============================] - 0s 6ms/step - loss: 0.3186 - accuracy: 0.8269\n",
            "Epoch 74/400\n",
            "5/5 [==============================] - 0s 6ms/step - loss: 0.3177 - accuracy: 0.8333\n",
            "Epoch 75/400\n",
            "5/5 [==============================] - 0s 6ms/step - loss: 0.3172 - accuracy: 0.8333\n",
            "Epoch 76/400\n",
            "5/5 [==============================] - 0s 7ms/step - loss: 0.3165 - accuracy: 0.8333\n",
            "Epoch 77/400\n",
            "5/5 [==============================] - 0s 6ms/step - loss: 0.3165 - accuracy: 0.8333\n",
            "Epoch 78/400\n",
            "5/5 [==============================] - 0s 6ms/step - loss: 0.3186 - accuracy: 0.8205\n",
            "Epoch 79/400\n",
            "5/5 [==============================] - 0s 6ms/step - loss: 0.3163 - accuracy: 0.8269\n",
            "Epoch 80/400\n",
            "5/5 [==============================] - 0s 6ms/step - loss: 0.3156 - accuracy: 0.8333\n",
            "Epoch 81/400\n",
            "5/5 [==============================] - 0s 5ms/step - loss: 0.3134 - accuracy: 0.8397\n",
            "Epoch 82/400\n",
            "5/5 [==============================] - 0s 5ms/step - loss: 0.3199 - accuracy: 0.8333\n",
            "Epoch 83/400\n",
            "5/5 [==============================] - 0s 5ms/step - loss: 0.3148 - accuracy: 0.8205\n",
            "Epoch 84/400\n",
            "5/5 [==============================] - 0s 6ms/step - loss: 0.3110 - accuracy: 0.8397\n",
            "Epoch 85/400\n",
            "5/5 [==============================] - 0s 5ms/step - loss: 0.3109 - accuracy: 0.8397\n",
            "Epoch 86/400\n",
            "5/5 [==============================] - 0s 5ms/step - loss: 0.3120 - accuracy: 0.8397\n",
            "Epoch 87/400\n",
            "5/5 [==============================] - 0s 7ms/step - loss: 0.3104 - accuracy: 0.8397\n",
            "Epoch 88/400\n",
            "5/5 [==============================] - 0s 6ms/step - loss: 0.3097 - accuracy: 0.8333\n",
            "Epoch 89/400\n",
            "5/5 [==============================] - 0s 6ms/step - loss: 0.3094 - accuracy: 0.8333\n",
            "Epoch 90/400\n",
            "5/5 [==============================] - 0s 6ms/step - loss: 0.3075 - accuracy: 0.8462\n",
            "Epoch 91/400\n",
            "5/5 [==============================] - 0s 6ms/step - loss: 0.3083 - accuracy: 0.8397\n",
            "Epoch 92/400\n",
            "5/5 [==============================] - 0s 5ms/step - loss: 0.3080 - accuracy: 0.8397\n",
            "Epoch 93/400\n",
            "5/5 [==============================] - 0s 6ms/step - loss: 0.3072 - accuracy: 0.8333\n",
            "Epoch 94/400\n",
            "5/5 [==============================] - 0s 5ms/step - loss: 0.3065 - accuracy: 0.8333\n",
            "Epoch 95/400\n",
            "5/5 [==============================] - 0s 6ms/step - loss: 0.3041 - accuracy: 0.8397\n",
            "Epoch 96/400\n",
            "5/5 [==============================] - 0s 6ms/step - loss: 0.3048 - accuracy: 0.8462\n",
            "Epoch 97/400\n",
            "5/5 [==============================] - 0s 6ms/step - loss: 0.3075 - accuracy: 0.8462\n",
            "Epoch 98/400\n",
            "5/5 [==============================] - 0s 8ms/step - loss: 0.3036 - accuracy: 0.8462\n",
            "Epoch 99/400\n",
            "5/5 [==============================] - 0s 6ms/step - loss: 0.3035 - accuracy: 0.8333\n",
            "Epoch 100/400\n",
            "5/5 [==============================] - 0s 6ms/step - loss: 0.3050 - accuracy: 0.8333\n",
            "Epoch 101/400\n",
            "5/5 [==============================] - 0s 7ms/step - loss: 0.3025 - accuracy: 0.8397\n",
            "Epoch 102/400\n",
            "5/5 [==============================] - 0s 6ms/step - loss: 0.3014 - accuracy: 0.8462\n",
            "Epoch 103/400\n",
            "5/5 [==============================] - 0s 6ms/step - loss: 0.2998 - accuracy: 0.8462\n",
            "Epoch 104/400\n",
            "5/5 [==============================] - 0s 7ms/step - loss: 0.2986 - accuracy: 0.8397\n",
            "Epoch 105/400\n",
            "5/5 [==============================] - 0s 6ms/step - loss: 0.3019 - accuracy: 0.8333\n",
            "Epoch 106/400\n",
            "5/5 [==============================] - 0s 6ms/step - loss: 0.2979 - accuracy: 0.8462\n",
            "Epoch 107/400\n",
            "5/5 [==============================] - 0s 6ms/step - loss: 0.2974 - accuracy: 0.8462\n",
            "Epoch 108/400\n",
            "5/5 [==============================] - 0s 6ms/step - loss: 0.2957 - accuracy: 0.8462\n",
            "Epoch 109/400\n",
            "5/5 [==============================] - 0s 15ms/step - loss: 0.3028 - accuracy: 0.8333\n",
            "Epoch 110/400\n",
            "5/5 [==============================] - 0s 6ms/step - loss: 0.2972 - accuracy: 0.8397\n",
            "Epoch 111/400\n",
            "5/5 [==============================] - 0s 6ms/step - loss: 0.2953 - accuracy: 0.8526\n",
            "Epoch 112/400\n",
            "5/5 [==============================] - 0s 9ms/step - loss: 0.2923 - accuracy: 0.8462\n",
            "Epoch 113/400\n",
            "5/5 [==============================] - 0s 8ms/step - loss: 0.2937 - accuracy: 0.8397\n",
            "Epoch 114/400\n",
            "5/5 [==============================] - 0s 10ms/step - loss: 0.2920 - accuracy: 0.8333\n",
            "Epoch 115/400\n",
            "5/5 [==============================] - 0s 10ms/step - loss: 0.2903 - accuracy: 0.8397\n",
            "Epoch 116/400\n",
            "5/5 [==============================] - 0s 8ms/step - loss: 0.2897 - accuracy: 0.8526\n",
            "Epoch 117/400\n",
            "5/5 [==============================] - 0s 12ms/step - loss: 0.2896 - accuracy: 0.8397\n",
            "Epoch 118/400\n",
            "5/5 [==============================] - 0s 7ms/step - loss: 0.2907 - accuracy: 0.8397\n",
            "Epoch 119/400\n",
            "5/5 [==============================] - 0s 7ms/step - loss: 0.2901 - accuracy: 0.8462\n",
            "Epoch 120/400\n",
            "5/5 [==============================] - 0s 10ms/step - loss: 0.2881 - accuracy: 0.8333\n",
            "Epoch 121/400\n",
            "5/5 [==============================] - 0s 9ms/step - loss: 0.2851 - accuracy: 0.8590\n",
            "Epoch 122/400\n",
            "5/5 [==============================] - 0s 6ms/step - loss: 0.2883 - accuracy: 0.8397\n",
            "Epoch 123/400\n",
            "5/5 [==============================] - 0s 18ms/step - loss: 0.2845 - accuracy: 0.8333\n",
            "Epoch 124/400\n",
            "5/5 [==============================] - 0s 9ms/step - loss: 0.2832 - accuracy: 0.8590\n",
            "Epoch 125/400\n",
            "5/5 [==============================] - 0s 16ms/step - loss: 0.2817 - accuracy: 0.8590\n",
            "Epoch 126/400\n",
            "5/5 [==============================] - 0s 9ms/step - loss: 0.2862 - accuracy: 0.8526\n",
            "Epoch 127/400\n",
            "5/5 [==============================] - 0s 8ms/step - loss: 0.2852 - accuracy: 0.8397\n",
            "Epoch 128/400\n",
            "5/5 [==============================] - 0s 11ms/step - loss: 0.2808 - accuracy: 0.8462\n",
            "Epoch 129/400\n",
            "5/5 [==============================] - 0s 10ms/step - loss: 0.2777 - accuracy: 0.8526\n",
            "Epoch 130/400\n",
            "5/5 [==============================] - 0s 8ms/step - loss: 0.2776 - accuracy: 0.8526\n",
            "Epoch 131/400\n",
            "5/5 [==============================] - 0s 10ms/step - loss: 0.2780 - accuracy: 0.8526\n",
            "Epoch 132/400\n",
            "5/5 [==============================] - 0s 7ms/step - loss: 0.2753 - accuracy: 0.8654\n",
            "Epoch 133/400\n",
            "5/5 [==============================] - 0s 7ms/step - loss: 0.2766 - accuracy: 0.8397\n",
            "Epoch 134/400\n",
            "5/5 [==============================] - 0s 4ms/step - loss: 0.2738 - accuracy: 0.8462\n",
            "Epoch 135/400\n",
            "5/5 [==============================] - 0s 4ms/step - loss: 0.2792 - accuracy: 0.8654\n",
            "Epoch 136/400\n",
            "5/5 [==============================] - 0s 5ms/step - loss: 0.2726 - accuracy: 0.8718\n",
            "Epoch 137/400\n",
            "5/5 [==============================] - 0s 4ms/step - loss: 0.2738 - accuracy: 0.8333\n",
            "Epoch 138/400\n",
            "5/5 [==============================] - 0s 5ms/step - loss: 0.2718 - accuracy: 0.8333\n",
            "Epoch 139/400\n",
            "5/5 [==============================] - 0s 4ms/step - loss: 0.2684 - accuracy: 0.8718\n",
            "Epoch 140/400\n",
            "5/5 [==============================] - 0s 5ms/step - loss: 0.2714 - accuracy: 0.8654\n",
            "Epoch 141/400\n",
            "5/5 [==============================] - 0s 4ms/step - loss: 0.2668 - accuracy: 0.8590\n",
            "Epoch 142/400\n",
            "5/5 [==============================] - 0s 4ms/step - loss: 0.2660 - accuracy: 0.8462\n",
            "Epoch 143/400\n",
            "5/5 [==============================] - 0s 4ms/step - loss: 0.2641 - accuracy: 0.8590\n",
            "Epoch 144/400\n",
            "5/5 [==============================] - 0s 4ms/step - loss: 0.2627 - accuracy: 0.8590\n",
            "Epoch 145/400\n",
            "5/5 [==============================] - 0s 7ms/step - loss: 0.2642 - accuracy: 0.8462\n",
            "Epoch 146/400\n",
            "5/5 [==============================] - 0s 9ms/step - loss: 0.2699 - accuracy: 0.8526\n",
            "Epoch 147/400\n",
            "5/5 [==============================] - 0s 9ms/step - loss: 0.2613 - accuracy: 0.8590\n",
            "Epoch 148/400\n",
            "5/5 [==============================] - 0s 7ms/step - loss: 0.2592 - accuracy: 0.8590\n",
            "Epoch 149/400\n",
            "5/5 [==============================] - 0s 7ms/step - loss: 0.2569 - accuracy: 0.8654\n",
            "Epoch 150/400\n",
            "5/5 [==============================] - 0s 9ms/step - loss: 0.2584 - accuracy: 0.8654\n",
            "Epoch 151/400\n",
            "5/5 [==============================] - 0s 7ms/step - loss: 0.2549 - accuracy: 0.8590\n",
            "Epoch 152/400\n",
            "5/5 [==============================] - 0s 5ms/step - loss: 0.2554 - accuracy: 0.8654\n",
            "Epoch 153/400\n",
            "5/5 [==============================] - 0s 5ms/step - loss: 0.2545 - accuracy: 0.8654\n",
            "Epoch 154/400\n",
            "5/5 [==============================] - 0s 4ms/step - loss: 0.2581 - accuracy: 0.8718\n",
            "Epoch 155/400\n",
            "5/5 [==============================] - 0s 6ms/step - loss: 0.2610 - accuracy: 0.8590\n",
            "Epoch 156/400\n",
            "5/5 [==============================] - 0s 5ms/step - loss: 0.2514 - accuracy: 0.8654\n",
            "Epoch 157/400\n",
            "5/5 [==============================] - 0s 4ms/step - loss: 0.2516 - accuracy: 0.8718\n",
            "Epoch 158/400\n",
            "5/5 [==============================] - 0s 5ms/step - loss: 0.2475 - accuracy: 0.8718\n",
            "Epoch 159/400\n",
            "5/5 [==============================] - 0s 4ms/step - loss: 0.2447 - accuracy: 0.8718\n",
            "Epoch 160/400\n",
            "5/5 [==============================] - 0s 4ms/step - loss: 0.2456 - accuracy: 0.8590\n",
            "Epoch 161/400\n",
            "5/5 [==============================] - 0s 4ms/step - loss: 0.2470 - accuracy: 0.8590\n",
            "Epoch 162/400\n",
            "5/5 [==============================] - 0s 5ms/step - loss: 0.2495 - accuracy: 0.8590\n",
            "Epoch 163/400\n",
            "5/5 [==============================] - 0s 5ms/step - loss: 0.2453 - accuracy: 0.8846\n",
            "Epoch 164/400\n",
            "5/5 [==============================] - 0s 5ms/step - loss: 0.2409 - accuracy: 0.8718\n",
            "Epoch 165/400\n",
            "5/5 [==============================] - 0s 5ms/step - loss: 0.2390 - accuracy: 0.8718\n",
            "Epoch 166/400\n",
            "5/5 [==============================] - 0s 5ms/step - loss: 0.2467 - accuracy: 0.8590\n",
            "Epoch 167/400\n",
            "5/5 [==============================] - 0s 6ms/step - loss: 0.2379 - accuracy: 0.8782\n",
            "Epoch 168/400\n",
            "5/5 [==============================] - 0s 6ms/step - loss: 0.2364 - accuracy: 0.8654\n",
            "Epoch 169/400\n",
            "5/5 [==============================] - 0s 6ms/step - loss: 0.2342 - accuracy: 0.8718\n",
            "Epoch 170/400\n",
            "5/5 [==============================] - 0s 7ms/step - loss: 0.2321 - accuracy: 0.8846\n",
            "Epoch 171/400\n",
            "5/5 [==============================] - 0s 6ms/step - loss: 0.2352 - accuracy: 0.8718\n",
            "Epoch 172/400\n",
            "5/5 [==============================] - 0s 5ms/step - loss: 0.2358 - accuracy: 0.8782\n",
            "Epoch 173/400\n",
            "5/5 [==============================] - 0s 6ms/step - loss: 0.2294 - accuracy: 0.8846\n",
            "Epoch 174/400\n",
            "5/5 [==============================] - 0s 5ms/step - loss: 0.2380 - accuracy: 0.8782\n",
            "Epoch 175/400\n",
            "5/5 [==============================] - 0s 7ms/step - loss: 0.2328 - accuracy: 0.8782\n",
            "Epoch 176/400\n",
            "5/5 [==============================] - 0s 8ms/step - loss: 0.2280 - accuracy: 0.8846\n",
            "Epoch 177/400\n",
            "5/5 [==============================] - 0s 4ms/step - loss: 0.2233 - accuracy: 0.8846\n",
            "Epoch 178/400\n",
            "5/5 [==============================] - 0s 4ms/step - loss: 0.2227 - accuracy: 0.8846\n",
            "Epoch 179/400\n",
            "5/5 [==============================] - 0s 6ms/step - loss: 0.2207 - accuracy: 0.8974\n",
            "Epoch 180/400\n",
            "5/5 [==============================] - 0s 5ms/step - loss: 0.2190 - accuracy: 0.8974\n",
            "Epoch 181/400\n",
            "5/5 [==============================] - 0s 4ms/step - loss: 0.2233 - accuracy: 0.8910\n",
            "Epoch 182/400\n",
            "5/5 [==============================] - 0s 4ms/step - loss: 0.2202 - accuracy: 0.8910\n",
            "Epoch 183/400\n",
            "5/5 [==============================] - 0s 4ms/step - loss: 0.2164 - accuracy: 0.8910\n",
            "Epoch 184/400\n",
            "5/5 [==============================] - 0s 5ms/step - loss: 0.2160 - accuracy: 0.8782\n",
            "Epoch 185/400\n",
            "5/5 [==============================] - 0s 5ms/step - loss: 0.2140 - accuracy: 0.8846\n",
            "Epoch 186/400\n",
            "5/5 [==============================] - 0s 7ms/step - loss: 0.2119 - accuracy: 0.8974\n",
            "Epoch 187/400\n",
            "5/5 [==============================] - 0s 7ms/step - loss: 0.2117 - accuracy: 0.8910\n",
            "Epoch 188/400\n",
            "5/5 [==============================] - 0s 4ms/step - loss: 0.2105 - accuracy: 0.8974\n",
            "Epoch 189/400\n",
            "5/5 [==============================] - 0s 5ms/step - loss: 0.2087 - accuracy: 0.8910\n",
            "Epoch 190/400\n",
            "5/5 [==============================] - 0s 5ms/step - loss: 0.2094 - accuracy: 0.8974\n",
            "Epoch 191/400\n",
            "5/5 [==============================] - 0s 4ms/step - loss: 0.2075 - accuracy: 0.8974\n",
            "Epoch 192/400\n",
            "5/5 [==============================] - 0s 4ms/step - loss: 0.2079 - accuracy: 0.8910\n",
            "Epoch 193/400\n",
            "5/5 [==============================] - 0s 4ms/step - loss: 0.2057 - accuracy: 0.8910\n",
            "Epoch 194/400\n",
            "5/5 [==============================] - 0s 4ms/step - loss: 0.2016 - accuracy: 0.8974\n",
            "Epoch 195/400\n",
            "5/5 [==============================] - 0s 4ms/step - loss: 0.2023 - accuracy: 0.8910\n",
            "Epoch 196/400\n",
            "5/5 [==============================] - 0s 5ms/step - loss: 0.2021 - accuracy: 0.8974\n",
            "Epoch 197/400\n",
            "5/5 [==============================] - 0s 6ms/step - loss: 0.2003 - accuracy: 0.8910\n",
            "Epoch 198/400\n",
            "5/5 [==============================] - 0s 12ms/step - loss: 0.1973 - accuracy: 0.8910\n",
            "Epoch 199/400\n",
            "5/5 [==============================] - 0s 9ms/step - loss: 0.2022 - accuracy: 0.8910\n",
            "Epoch 200/400\n",
            "5/5 [==============================] - 0s 7ms/step - loss: 0.1953 - accuracy: 0.9038\n",
            "Epoch 201/400\n",
            "5/5 [==============================] - 0s 7ms/step - loss: 0.2056 - accuracy: 0.8846\n",
            "Epoch 202/400\n",
            "5/5 [==============================] - 0s 5ms/step - loss: 0.1902 - accuracy: 0.9038\n",
            "Epoch 203/400\n",
            "5/5 [==============================] - 0s 4ms/step - loss: 0.1957 - accuracy: 0.9167\n",
            "Epoch 204/400\n",
            "5/5 [==============================] - 0s 5ms/step - loss: 0.1906 - accuracy: 0.9038\n",
            "Epoch 205/400\n",
            "5/5 [==============================] - 0s 5ms/step - loss: 0.1916 - accuracy: 0.9038\n",
            "Epoch 206/400\n",
            "5/5 [==============================] - 0s 4ms/step - loss: 0.1876 - accuracy: 0.8974\n",
            "Epoch 207/400\n",
            "5/5 [==============================] - 0s 4ms/step - loss: 0.1893 - accuracy: 0.9231\n",
            "Epoch 208/400\n",
            "5/5 [==============================] - 0s 4ms/step - loss: 0.1829 - accuracy: 0.9103\n",
            "Epoch 209/400\n",
            "5/5 [==============================] - 0s 5ms/step - loss: 0.1870 - accuracy: 0.9038\n",
            "Epoch 210/400\n",
            "5/5 [==============================] - 0s 6ms/step - loss: 0.1823 - accuracy: 0.8974\n",
            "Epoch 211/400\n",
            "5/5 [==============================] - 0s 5ms/step - loss: 0.1820 - accuracy: 0.9167\n",
            "Epoch 212/400\n",
            "5/5 [==============================] - 0s 5ms/step - loss: 0.1847 - accuracy: 0.9038\n",
            "Epoch 213/400\n",
            "5/5 [==============================] - 0s 7ms/step - loss: 0.1819 - accuracy: 0.8974\n",
            "Epoch 214/400\n",
            "5/5 [==============================] - 0s 6ms/step - loss: 0.1791 - accuracy: 0.9167\n",
            "Epoch 215/400\n",
            "5/5 [==============================] - 0s 7ms/step - loss: 0.1785 - accuracy: 0.8974\n",
            "Epoch 216/400\n",
            "5/5 [==============================] - 0s 7ms/step - loss: 0.1765 - accuracy: 0.9167\n",
            "Epoch 217/400\n",
            "5/5 [==============================] - 0s 7ms/step - loss: 0.1755 - accuracy: 0.8974\n",
            "Epoch 218/400\n",
            "5/5 [==============================] - 0s 7ms/step - loss: 0.1735 - accuracy: 0.9038\n",
            "Epoch 219/400\n",
            "5/5 [==============================] - 0s 7ms/step - loss: 0.1741 - accuracy: 0.9231\n",
            "Epoch 220/400\n",
            "5/5 [==============================] - 0s 6ms/step - loss: 0.1748 - accuracy: 0.9038\n",
            "Epoch 221/400\n",
            "5/5 [==============================] - 0s 6ms/step - loss: 0.1720 - accuracy: 0.9103\n",
            "Epoch 222/400\n",
            "5/5 [==============================] - 0s 7ms/step - loss: 0.1741 - accuracy: 0.8974\n",
            "Epoch 223/400\n",
            "5/5 [==============================] - 0s 7ms/step - loss: 0.1724 - accuracy: 0.9167\n",
            "Epoch 224/400\n",
            "5/5 [==============================] - 0s 5ms/step - loss: 0.1673 - accuracy: 0.9359\n",
            "Epoch 225/400\n",
            "5/5 [==============================] - 0s 5ms/step - loss: 0.1698 - accuracy: 0.9103\n",
            "Epoch 226/400\n",
            "5/5 [==============================] - 0s 5ms/step - loss: 0.1653 - accuracy: 0.9103\n",
            "Epoch 227/400\n",
            "5/5 [==============================] - 0s 7ms/step - loss: 0.1638 - accuracy: 0.9167\n",
            "Epoch 228/400\n",
            "5/5 [==============================] - 0s 6ms/step - loss: 0.1620 - accuracy: 0.9167\n",
            "Epoch 229/400\n",
            "5/5 [==============================] - 0s 6ms/step - loss: 0.1614 - accuracy: 0.9231\n",
            "Epoch 230/400\n",
            "5/5 [==============================] - 0s 7ms/step - loss: 0.1664 - accuracy: 0.9167\n",
            "Epoch 231/400\n",
            "5/5 [==============================] - 0s 7ms/step - loss: 0.1640 - accuracy: 0.9295\n",
            "Epoch 232/400\n",
            "5/5 [==============================] - 0s 7ms/step - loss: 0.1599 - accuracy: 0.9231\n",
            "Epoch 233/400\n",
            "5/5 [==============================] - 0s 6ms/step - loss: 0.1577 - accuracy: 0.9231\n",
            "Epoch 234/400\n",
            "5/5 [==============================] - 0s 6ms/step - loss: 0.1636 - accuracy: 0.9295\n",
            "Epoch 235/400\n",
            "5/5 [==============================] - 0s 7ms/step - loss: 0.1670 - accuracy: 0.9103\n",
            "Epoch 236/400\n",
            "5/5 [==============================] - 0s 7ms/step - loss: 0.1541 - accuracy: 0.9295\n",
            "Epoch 237/400\n",
            "5/5 [==============================] - 0s 6ms/step - loss: 0.1590 - accuracy: 0.9423\n",
            "Epoch 238/400\n",
            "5/5 [==============================] - 0s 6ms/step - loss: 0.1568 - accuracy: 0.9103\n",
            "Epoch 239/400\n",
            "5/5 [==============================] - 0s 7ms/step - loss: 0.1504 - accuracy: 0.9295\n",
            "Epoch 240/400\n",
            "5/5 [==============================] - 0s 7ms/step - loss: 0.1547 - accuracy: 0.9295\n",
            "Epoch 241/400\n",
            "5/5 [==============================] - 0s 7ms/step - loss: 0.1476 - accuracy: 0.9359\n",
            "Epoch 242/400\n",
            "5/5 [==============================] - 0s 6ms/step - loss: 0.1469 - accuracy: 0.9295\n",
            "Epoch 243/400\n",
            "5/5 [==============================] - 0s 6ms/step - loss: 0.1458 - accuracy: 0.9359\n",
            "Epoch 244/400\n",
            "5/5 [==============================] - 0s 6ms/step - loss: 0.1459 - accuracy: 0.9295\n",
            "Epoch 245/400\n",
            "5/5 [==============================] - 0s 6ms/step - loss: 0.1431 - accuracy: 0.9423\n",
            "Epoch 246/400\n",
            "5/5 [==============================] - 0s 5ms/step - loss: 0.1460 - accuracy: 0.9359\n",
            "Epoch 247/400\n",
            "5/5 [==============================] - 0s 6ms/step - loss: 0.1423 - accuracy: 0.9423\n",
            "Epoch 248/400\n",
            "5/5 [==============================] - 0s 6ms/step - loss: 0.1447 - accuracy: 0.9231\n",
            "Epoch 249/400\n",
            "5/5 [==============================] - 0s 8ms/step - loss: 0.1385 - accuracy: 0.9423\n",
            "Epoch 250/400\n",
            "5/5 [==============================] - 0s 6ms/step - loss: 0.1417 - accuracy: 0.9423\n",
            "Epoch 251/400\n",
            "5/5 [==============================] - 0s 6ms/step - loss: 0.1394 - accuracy: 0.9487\n",
            "Epoch 252/400\n",
            "5/5 [==============================] - 0s 7ms/step - loss: 0.1372 - accuracy: 0.9487\n",
            "Epoch 253/400\n",
            "5/5 [==============================] - 0s 6ms/step - loss: 0.1385 - accuracy: 0.9423\n",
            "Epoch 254/400\n",
            "5/5 [==============================] - 0s 6ms/step - loss: 0.1363 - accuracy: 0.9359\n",
            "Epoch 255/400\n",
            "5/5 [==============================] - 0s 6ms/step - loss: 0.1423 - accuracy: 0.9359\n",
            "Epoch 256/400\n",
            "5/5 [==============================] - 0s 6ms/step - loss: 0.1349 - accuracy: 0.9487\n",
            "Epoch 257/400\n",
            "5/5 [==============================] - 0s 6ms/step - loss: 0.1341 - accuracy: 0.9423\n",
            "Epoch 258/400\n",
            "5/5 [==============================] - 0s 5ms/step - loss: 0.1381 - accuracy: 0.9359\n",
            "Epoch 259/400\n",
            "5/5 [==============================] - 0s 7ms/step - loss: 0.1298 - accuracy: 0.9551\n",
            "Epoch 260/400\n",
            "5/5 [==============================] - 0s 6ms/step - loss: 0.1345 - accuracy: 0.9423\n",
            "Epoch 261/400\n",
            "5/5 [==============================] - 0s 5ms/step - loss: 0.1268 - accuracy: 0.9487\n",
            "Epoch 262/400\n",
            "5/5 [==============================] - 0s 6ms/step - loss: 0.1282 - accuracy: 0.9551\n",
            "Epoch 263/400\n",
            "5/5 [==============================] - 0s 5ms/step - loss: 0.1266 - accuracy: 0.9551\n",
            "Epoch 264/400\n",
            "5/5 [==============================] - 0s 5ms/step - loss: 0.1297 - accuracy: 0.9487\n",
            "Epoch 265/400\n",
            "5/5 [==============================] - 0s 5ms/step - loss: 0.1248 - accuracy: 0.9551\n",
            "Epoch 266/400\n",
            "5/5 [==============================] - 0s 6ms/step - loss: 0.1268 - accuracy: 0.9551\n",
            "Epoch 267/400\n",
            "5/5 [==============================] - 0s 9ms/step - loss: 0.1269 - accuracy: 0.9551\n",
            "Epoch 268/400\n",
            "5/5 [==============================] - 0s 8ms/step - loss: 0.1226 - accuracy: 0.9487\n",
            "Epoch 269/400\n",
            "5/5 [==============================] - 0s 6ms/step - loss: 0.1235 - accuracy: 0.9487\n",
            "Epoch 270/400\n",
            "5/5 [==============================] - 0s 6ms/step - loss: 0.1229 - accuracy: 0.9551\n",
            "Epoch 271/400\n",
            "5/5 [==============================] - 0s 8ms/step - loss: 0.1206 - accuracy: 0.9551\n",
            "Epoch 272/400\n",
            "5/5 [==============================] - 0s 5ms/step - loss: 0.1171 - accuracy: 0.9615\n",
            "Epoch 273/400\n",
            "5/5 [==============================] - 0s 6ms/step - loss: 0.1180 - accuracy: 0.9551\n",
            "Epoch 274/400\n",
            "5/5 [==============================] - 0s 5ms/step - loss: 0.1167 - accuracy: 0.9551\n",
            "Epoch 275/400\n",
            "5/5 [==============================] - 0s 5ms/step - loss: 0.1163 - accuracy: 0.9551\n",
            "Epoch 276/400\n",
            "5/5 [==============================] - 0s 5ms/step - loss: 0.1243 - accuracy: 0.9551\n",
            "Epoch 277/400\n",
            "5/5 [==============================] - 0s 7ms/step - loss: 0.1082 - accuracy: 0.9679\n",
            "Epoch 278/400\n",
            "5/5 [==============================] - 0s 7ms/step - loss: 0.1261 - accuracy: 0.9423\n",
            "Epoch 279/400\n",
            "5/5 [==============================] - 0s 6ms/step - loss: 0.1187 - accuracy: 0.9615\n",
            "Epoch 280/400\n",
            "5/5 [==============================] - 0s 6ms/step - loss: 0.1152 - accuracy: 0.9615\n",
            "Epoch 281/400\n",
            "5/5 [==============================] - 0s 6ms/step - loss: 0.1224 - accuracy: 0.9487\n",
            "Epoch 282/400\n",
            "5/5 [==============================] - 0s 5ms/step - loss: 0.1073 - accuracy: 0.9551\n",
            "Epoch 283/400\n",
            "5/5 [==============================] - 0s 7ms/step - loss: 0.1167 - accuracy: 0.9679\n",
            "Epoch 284/400\n",
            "5/5 [==============================] - 0s 6ms/step - loss: 0.1145 - accuracy: 0.9615\n",
            "Epoch 285/400\n",
            "5/5 [==============================] - 0s 5ms/step - loss: 0.1144 - accuracy: 0.9487\n",
            "Epoch 286/400\n",
            "5/5 [==============================] - 0s 5ms/step - loss: 0.1111 - accuracy: 0.9615\n",
            "Epoch 287/400\n",
            "5/5 [==============================] - 0s 5ms/step - loss: 0.1062 - accuracy: 0.9551\n",
            "Epoch 288/400\n",
            "5/5 [==============================] - 0s 6ms/step - loss: 0.1046 - accuracy: 0.9615\n",
            "Epoch 289/400\n",
            "5/5 [==============================] - 0s 5ms/step - loss: 0.1060 - accuracy: 0.9551\n",
            "Epoch 290/400\n",
            "5/5 [==============================] - 0s 5ms/step - loss: 0.1046 - accuracy: 0.9615\n",
            "Epoch 291/400\n",
            "5/5 [==============================] - 0s 5ms/step - loss: 0.1092 - accuracy: 0.9551\n",
            "Epoch 292/400\n",
            "5/5 [==============================] - 0s 5ms/step - loss: 0.1030 - accuracy: 0.9551\n",
            "Epoch 293/400\n",
            "5/5 [==============================] - 0s 5ms/step - loss: 0.1035 - accuracy: 0.9615\n",
            "Epoch 294/400\n",
            "5/5 [==============================] - 0s 6ms/step - loss: 0.0991 - accuracy: 0.9679\n",
            "Epoch 295/400\n",
            "5/5 [==============================] - 0s 6ms/step - loss: 0.0987 - accuracy: 0.9679\n",
            "Epoch 296/400\n",
            "5/5 [==============================] - 0s 6ms/step - loss: 0.0985 - accuracy: 0.9679\n",
            "Epoch 297/400\n",
            "5/5 [==============================] - 0s 6ms/step - loss: 0.0994 - accuracy: 0.9551\n",
            "Epoch 298/400\n",
            "5/5 [==============================] - 0s 8ms/step - loss: 0.0997 - accuracy: 0.9551\n",
            "Epoch 299/400\n",
            "5/5 [==============================] - 0s 6ms/step - loss: 0.0960 - accuracy: 0.9679\n",
            "Epoch 300/400\n",
            "5/5 [==============================] - 0s 5ms/step - loss: 0.0966 - accuracy: 0.9744\n",
            "Epoch 301/400\n",
            "5/5 [==============================] - 0s 6ms/step - loss: 0.0934 - accuracy: 0.9679\n",
            "Epoch 302/400\n",
            "5/5 [==============================] - 0s 5ms/step - loss: 0.0966 - accuracy: 0.9615\n",
            "Epoch 303/400\n",
            "5/5 [==============================] - 0s 5ms/step - loss: 0.0932 - accuracy: 0.9744\n",
            "Epoch 304/400\n",
            "5/5 [==============================] - 0s 6ms/step - loss: 0.0907 - accuracy: 0.9679\n",
            "Epoch 305/400\n",
            "5/5 [==============================] - 0s 6ms/step - loss: 0.0916 - accuracy: 0.9615\n",
            "Epoch 306/400\n",
            "5/5 [==============================] - 0s 6ms/step - loss: 0.0912 - accuracy: 0.9679\n",
            "Epoch 307/400\n",
            "5/5 [==============================] - 0s 6ms/step - loss: 0.0891 - accuracy: 0.9679\n",
            "Epoch 308/400\n",
            "5/5 [==============================] - 0s 7ms/step - loss: 0.0882 - accuracy: 0.9679\n",
            "Epoch 309/400\n",
            "5/5 [==============================] - 0s 5ms/step - loss: 0.0885 - accuracy: 0.9615\n",
            "Epoch 310/400\n",
            "5/5 [==============================] - 0s 5ms/step - loss: 0.0869 - accuracy: 0.9679\n",
            "Epoch 311/400\n",
            "5/5 [==============================] - 0s 7ms/step - loss: 0.0905 - accuracy: 0.9744\n",
            "Epoch 312/400\n",
            "5/5 [==============================] - 0s 6ms/step - loss: 0.0850 - accuracy: 0.9679\n",
            "Epoch 313/400\n",
            "5/5 [==============================] - 0s 6ms/step - loss: 0.0862 - accuracy: 0.9615\n",
            "Epoch 314/400\n",
            "5/5 [==============================] - 0s 5ms/step - loss: 0.0860 - accuracy: 0.9744\n",
            "Epoch 315/400\n",
            "5/5 [==============================] - 0s 6ms/step - loss: 0.0857 - accuracy: 0.9679\n",
            "Epoch 316/400\n",
            "5/5 [==============================] - 0s 7ms/step - loss: 0.0875 - accuracy: 0.9551\n",
            "Epoch 317/400\n",
            "5/5 [==============================] - 0s 6ms/step - loss: 0.0812 - accuracy: 0.9744\n",
            "Epoch 318/400\n",
            "5/5 [==============================] - 0s 6ms/step - loss: 0.0818 - accuracy: 0.9744\n",
            "Epoch 319/400\n",
            "5/5 [==============================] - 0s 7ms/step - loss: 0.0821 - accuracy: 0.9551\n",
            "Epoch 320/400\n",
            "5/5 [==============================] - 0s 8ms/step - loss: 0.0842 - accuracy: 0.9679\n",
            "Epoch 321/400\n",
            "5/5 [==============================] - 0s 8ms/step - loss: 0.0811 - accuracy: 0.9679\n",
            "Epoch 322/400\n",
            "5/5 [==============================] - 0s 6ms/step - loss: 0.0785 - accuracy: 0.9615\n",
            "Epoch 323/400\n",
            "5/5 [==============================] - 0s 6ms/step - loss: 0.0789 - accuracy: 0.9744\n",
            "Epoch 324/400\n",
            "5/5 [==============================] - 0s 6ms/step - loss: 0.0809 - accuracy: 0.9615\n",
            "Epoch 325/400\n",
            "5/5 [==============================] - 0s 6ms/step - loss: 0.0769 - accuracy: 0.9808\n",
            "Epoch 326/400\n",
            "5/5 [==============================] - 0s 6ms/step - loss: 0.0746 - accuracy: 0.9744\n",
            "Epoch 327/400\n",
            "5/5 [==============================] - 0s 7ms/step - loss: 0.0829 - accuracy: 0.9551\n",
            "Epoch 328/400\n",
            "5/5 [==============================] - 0s 6ms/step - loss: 0.0767 - accuracy: 0.9744\n",
            "Epoch 329/400\n",
            "5/5 [==============================] - 0s 7ms/step - loss: 0.0737 - accuracy: 0.9744\n",
            "Epoch 330/400\n",
            "5/5 [==============================] - 0s 6ms/step - loss: 0.0764 - accuracy: 0.9679\n",
            "Epoch 331/400\n",
            "5/5 [==============================] - 0s 7ms/step - loss: 0.0750 - accuracy: 0.9744\n",
            "Epoch 332/400\n",
            "5/5 [==============================] - 0s 6ms/step - loss: 0.0795 - accuracy: 0.9551\n",
            "Epoch 333/400\n",
            "5/5 [==============================] - 0s 7ms/step - loss: 0.0796 - accuracy: 0.9744\n",
            "Epoch 334/400\n",
            "5/5 [==============================] - 0s 6ms/step - loss: 0.0709 - accuracy: 0.9744\n",
            "Epoch 335/400\n",
            "5/5 [==============================] - 0s 8ms/step - loss: 0.0711 - accuracy: 0.9679\n",
            "Epoch 336/400\n",
            "5/5 [==============================] - 0s 6ms/step - loss: 0.0706 - accuracy: 0.9744\n",
            "Epoch 337/400\n",
            "5/5 [==============================] - 0s 7ms/step - loss: 0.0679 - accuracy: 0.9679\n",
            "Epoch 338/400\n",
            "5/5 [==============================] - 0s 7ms/step - loss: 0.0660 - accuracy: 0.9744\n",
            "Epoch 339/400\n",
            "5/5 [==============================] - 0s 5ms/step - loss: 0.0826 - accuracy: 0.9808\n",
            "Epoch 340/400\n",
            "5/5 [==============================] - 0s 7ms/step - loss: 0.0646 - accuracy: 0.9744\n",
            "Epoch 341/400\n",
            "5/5 [==============================] - 0s 6ms/step - loss: 0.0694 - accuracy: 0.9679\n",
            "Epoch 342/400\n",
            "5/5 [==============================] - 0s 5ms/step - loss: 0.0656 - accuracy: 0.9808\n",
            "Epoch 343/400\n",
            "5/5 [==============================] - 0s 6ms/step - loss: 0.0630 - accuracy: 0.9744\n",
            "Epoch 344/400\n",
            "5/5 [==============================] - 0s 7ms/step - loss: 0.0635 - accuracy: 0.9744\n",
            "Epoch 345/400\n",
            "5/5 [==============================] - 0s 7ms/step - loss: 0.0641 - accuracy: 0.9744\n",
            "Epoch 346/400\n",
            "5/5 [==============================] - 0s 8ms/step - loss: 0.0599 - accuracy: 0.9744\n",
            "Epoch 347/400\n",
            "5/5 [==============================] - 0s 9ms/step - loss: 0.0615 - accuracy: 0.9808\n",
            "Epoch 348/400\n",
            "5/5 [==============================] - 0s 6ms/step - loss: 0.0608 - accuracy: 0.9744\n",
            "Epoch 349/400\n",
            "5/5 [==============================] - 0s 6ms/step - loss: 0.0590 - accuracy: 0.9808\n",
            "Epoch 350/400\n",
            "5/5 [==============================] - 0s 5ms/step - loss: 0.0620 - accuracy: 0.9744\n",
            "Epoch 351/400\n",
            "5/5 [==============================] - 0s 7ms/step - loss: 0.0685 - accuracy: 0.9808\n",
            "Epoch 352/400\n",
            "5/5 [==============================] - 0s 8ms/step - loss: 0.0683 - accuracy: 0.9808\n",
            "Epoch 353/400\n",
            "5/5 [==============================] - 0s 6ms/step - loss: 0.0544 - accuracy: 0.9808\n",
            "Epoch 354/400\n",
            "5/5 [==============================] - 0s 7ms/step - loss: 0.0648 - accuracy: 0.9808\n",
            "Epoch 355/400\n",
            "5/5 [==============================] - 0s 7ms/step - loss: 0.0665 - accuracy: 0.9744\n",
            "Epoch 356/400\n",
            "5/5 [==============================] - 0s 8ms/step - loss: 0.0601 - accuracy: 0.9872\n",
            "Epoch 357/400\n",
            "5/5 [==============================] - 0s 7ms/step - loss: 0.0572 - accuracy: 0.9744\n",
            "Epoch 358/400\n",
            "5/5 [==============================] - 0s 7ms/step - loss: 0.0553 - accuracy: 0.9872\n",
            "Epoch 359/400\n",
            "5/5 [==============================] - 0s 6ms/step - loss: 0.0571 - accuracy: 0.9808\n",
            "Epoch 360/400\n",
            "5/5 [==============================] - 0s 6ms/step - loss: 0.0575 - accuracy: 0.9808\n",
            "Epoch 361/400\n",
            "5/5 [==============================] - 0s 6ms/step - loss: 0.0512 - accuracy: 0.9936\n",
            "Epoch 362/400\n",
            "5/5 [==============================] - 0s 7ms/step - loss: 0.0557 - accuracy: 0.9808\n",
            "Epoch 363/400\n",
            "5/5 [==============================] - 0s 6ms/step - loss: 0.0509 - accuracy: 0.9872\n",
            "Epoch 364/400\n",
            "5/5 [==============================] - 0s 6ms/step - loss: 0.0567 - accuracy: 0.9808\n",
            "Epoch 365/400\n",
            "5/5 [==============================] - 0s 7ms/step - loss: 0.0459 - accuracy: 0.9872\n",
            "Epoch 366/400\n",
            "5/5 [==============================] - 0s 6ms/step - loss: 0.0566 - accuracy: 0.9808\n",
            "Epoch 367/400\n",
            "5/5 [==============================] - 0s 6ms/step - loss: 0.0494 - accuracy: 0.9936\n",
            "Epoch 368/400\n",
            "5/5 [==============================] - 0s 8ms/step - loss: 0.0488 - accuracy: 0.9872\n",
            "Epoch 369/400\n",
            "5/5 [==============================] - 0s 6ms/step - loss: 0.0477 - accuracy: 0.9872\n",
            "Epoch 370/400\n",
            "5/5 [==============================] - 0s 6ms/step - loss: 0.0471 - accuracy: 0.9936\n",
            "Epoch 371/400\n",
            "5/5 [==============================] - 0s 6ms/step - loss: 0.0461 - accuracy: 0.9872\n",
            "Epoch 372/400\n",
            "5/5 [==============================] - 0s 8ms/step - loss: 0.0471 - accuracy: 0.9808\n",
            "Epoch 373/400\n",
            "5/5 [==============================] - 0s 8ms/step - loss: 0.0490 - accuracy: 0.9936\n",
            "Epoch 374/400\n",
            "5/5 [==============================] - 0s 6ms/step - loss: 0.0462 - accuracy: 0.9872\n",
            "Epoch 375/400\n",
            "5/5 [==============================] - 0s 7ms/step - loss: 0.0440 - accuracy: 0.9936\n",
            "Epoch 376/400\n",
            "5/5 [==============================] - 0s 6ms/step - loss: 0.0449 - accuracy: 0.9872\n",
            "Epoch 377/400\n",
            "5/5 [==============================] - 0s 7ms/step - loss: 0.0440 - accuracy: 0.9936\n",
            "Epoch 378/400\n",
            "5/5 [==============================] - 0s 10ms/step - loss: 0.0428 - accuracy: 0.9936\n",
            "Epoch 379/400\n",
            "5/5 [==============================] - 0s 7ms/step - loss: 0.0447 - accuracy: 0.9936\n",
            "Epoch 380/400\n",
            "5/5 [==============================] - 0s 7ms/step - loss: 0.0422 - accuracy: 1.0000\n",
            "Epoch 381/400\n",
            "5/5 [==============================] - 0s 9ms/step - loss: 0.0439 - accuracy: 0.9872\n",
            "Epoch 382/400\n",
            "5/5 [==============================] - 0s 6ms/step - loss: 0.0406 - accuracy: 1.0000\n",
            "Epoch 383/400\n",
            "5/5 [==============================] - 0s 7ms/step - loss: 0.0418 - accuracy: 0.9936\n",
            "Epoch 384/400\n",
            "5/5 [==============================] - 0s 7ms/step - loss: 0.0411 - accuracy: 1.0000\n",
            "Epoch 385/400\n",
            "5/5 [==============================] - 0s 6ms/step - loss: 0.0442 - accuracy: 0.9936\n",
            "Epoch 386/400\n",
            "5/5 [==============================] - 0s 6ms/step - loss: 0.0387 - accuracy: 0.9936\n",
            "Epoch 387/400\n",
            "5/5 [==============================] - 0s 7ms/step - loss: 0.0390 - accuracy: 1.0000\n",
            "Epoch 388/400\n",
            "5/5 [==============================] - 0s 6ms/step - loss: 0.0381 - accuracy: 0.9936\n",
            "Epoch 389/400\n",
            "5/5 [==============================] - 0s 6ms/step - loss: 0.0427 - accuracy: 0.9936\n",
            "Epoch 390/400\n",
            "5/5 [==============================] - 0s 6ms/step - loss: 0.0354 - accuracy: 1.0000\n",
            "Epoch 391/400\n",
            "5/5 [==============================] - 0s 6ms/step - loss: 0.0397 - accuracy: 0.9872\n",
            "Epoch 392/400\n",
            "5/5 [==============================] - 0s 8ms/step - loss: 0.0354 - accuracy: 1.0000\n",
            "Epoch 393/400\n",
            "5/5 [==============================] - 0s 10ms/step - loss: 0.0375 - accuracy: 0.9936\n",
            "Epoch 394/400\n",
            "5/5 [==============================] - 0s 7ms/step - loss: 0.0372 - accuracy: 0.9936\n",
            "Epoch 395/400\n",
            "5/5 [==============================] - 0s 8ms/step - loss: 0.0378 - accuracy: 0.9936\n",
            "Epoch 396/400\n",
            "5/5 [==============================] - 0s 6ms/step - loss: 0.0344 - accuracy: 0.9936\n",
            "Epoch 397/400\n",
            "5/5 [==============================] - 0s 6ms/step - loss: 0.0362 - accuracy: 0.9936\n",
            "Epoch 398/400\n",
            "5/5 [==============================] - 0s 6ms/step - loss: 0.0348 - accuracy: 1.0000\n",
            "Epoch 399/400\n",
            "5/5 [==============================] - 0s 5ms/step - loss: 0.0338 - accuracy: 1.0000\n",
            "Epoch 400/400\n",
            "5/5 [==============================] - 0s 7ms/step - loss: 0.0334 - accuracy: 1.0000\n"
          ]
        },
        {
          "output_type": "execute_result",
          "data": {
            "text/plain": [
              "<keras.callbacks.History at 0x7f22acfe2250>"
            ]
          },
          "metadata": {},
          "execution_count": 210
        }
      ]
    },
    {
      "cell_type": "code",
      "source": [
        "model7.evaluate(X_test,Y_test)"
      ],
      "metadata": {
        "colab": {
          "base_uri": "https://localhost:8080/"
        },
        "id": "nudfZTW81qyv",
        "outputId": "f6281c31-330d-40df-895b-70d3fd3881f7"
      },
      "execution_count": null,
      "outputs": [
        {
          "output_type": "stream",
          "name": "stdout",
          "text": [
            "2/2 [==============================] - 0s 9ms/step - loss: 0.2372 - accuracy: 0.9231\n"
          ]
        },
        {
          "output_type": "execute_result",
          "data": {
            "text/plain": [
              "[0.23723305761814117, 0.9230769276618958]"
            ]
          },
          "metadata": {},
          "execution_count": 211
        }
      ]
    },
    {
      "cell_type": "code",
      "source": [
        "prednn=model7.predict(X_test)\n",
        "prednn\n",
        "for i,j in enumerate(prednn):\n",
        "  if(j<0.5):\n",
        "    prednn[i]=0\n",
        "  else:\n",
        "    prednn[i]=1\n",
        "prednn.reshape(1,39)\n",
        "predd=prednn.flatten()\n",
        "print(predd)\n",
        "Y_test\n",
        "  "
      ],
      "metadata": {
        "colab": {
          "base_uri": "https://localhost:8080/"
        },
        "id": "fpw24hYH1wfI",
        "outputId": "e0f0148b-f69a-49ad-b62c-156e387e15c5"
      },
      "execution_count": null,
      "outputs": [
        {
          "output_type": "stream",
          "name": "stdout",
          "text": [
            "[1. 1. 1. 1. 0. 1. 1. 1. 1. 1. 0. 1. 1. 1. 1. 0. 1. 1. 1. 1. 1. 0. 0. 1.\n",
            " 1. 1. 1. 1. 0. 0. 1. 1. 1. 0. 1. 1. 0. 1. 0.]\n"
          ]
        },
        {
          "output_type": "execute_result",
          "data": {
            "text/plain": [
              "array([1, 1, 1, 1, 0, 1, 0, 1, 1, 1, 1, 1, 1, 1, 1, 0, 1, 1, 1, 1, 1, 0,\n",
              "       0, 1, 1, 1, 1, 1, 0, 0, 1, 1, 1, 0, 0, 1, 0, 1, 0])"
            ]
          },
          "metadata": {},
          "execution_count": 216
        }
      ]
    },
    {
      "cell_type": "code",
      "source": [
        "cm=confusion_matrix(Y_test,predd)\n",
        "plt.figure()\n",
        "sn.heatmap(cm,annot=True)\n",
        "plt.xlabel(\"Predicted\")\n",
        "plt.ylabel(\"Truth\")"
      ],
      "metadata": {
        "colab": {
          "base_uri": "https://localhost:8080/",
          "height": 296
        },
        "id": "JTP2v32f156T",
        "outputId": "3bfa7194-c5c0-4ed2-dbe4-24f7a409bf0c"
      },
      "execution_count": null,
      "outputs": [
        {
          "output_type": "execute_result",
          "data": {
            "text/plain": [
              "Text(33.0, 0.5, 'Truth')"
            ]
          },
          "metadata": {},
          "execution_count": 218
        },
        {
          "output_type": "display_data",
          "data": {
            "text/plain": [
              "<Figure size 432x288 with 2 Axes>"
            ],
            "image/png": "[encoded data removed]"
          },
          "metadata": {
            "needs_background": "light"
          }
        }
      ]
    },
    {
      "cell_type": "markdown",
      "source": [
        "#ALL MODELS ACCURACY"
      ],
      "metadata": {
        "id": "0_vY7BvI4xbk"
      }
    },
    {
      "cell_type": "code",
      "source": [
        "print(\"Linear Regression Accuracy \")\n",
        "print(model1.score(X_test,Y_test)*100,\"% \\n\") \n",
        "\n",
        "print(\"Logistic Regression Accuracy : \")\n",
        "print(model2.score(X_test,Y_test)*100,\"%\\n\")\n",
        "\n",
        "print(\"Decision Tree Accuracy \")\n",
        "print(model3.score(X_test,Y_test)*100,\"%\\n\")\n",
        "\n",
        "print(\"Support Vector Machine Accuracy : \")\n",
        "print(model4.score(X_test,Y_test)*100,\"%\\n\")\n",
        "\n",
        "print(\"Random Forest Classifier Accuracy :\")\n",
        "print(model5.score(X_test,Y_test)*100,\"%\\n\")\n",
        "\n",
        "print(\"Xgbooster Accuracy : \")\n",
        "print(model6.score(X_test,Y_test)*100,\"%\\n\")\n",
        "\n",
        "print(\"NEURAL NETWORK ACCURACY \")\n",
        "_,x7=model7.evaluate(X_test,Y_test)\n",
        "print(x7*100,\"%\")"
      ],
      "metadata": {
        "colab": {
          "base_uri": "https://localhost:8080/",
          "height": 252
        },
        "id": "qwy8fe2m4pTf",
        "outputId": "6db9d005-faa2-4a2e-fd86-f3715ed71039"
      },
      "execution_count": null,
      "outputs": [
        {
          "output_type": "stream",
          "name": "stdout",
          "text": [
            "Linear Regression Accuracy \n"
          ]
        },
        {
          "output_type": "error",
          "ename": "NameError",
          "evalue": "ignored",
          "traceback": [
            "\u001b[0;31m---------------------------------------------------------------------------\u001b[0m",
            "\u001b[0;31mNameError\u001b[0m                                 Traceback (most recent call last)",
            "\u001b[0;32m<ipython-input-1-5afa2a8197a1>\u001b[0m in \u001b[0;36m<module>\u001b[0;34m()\u001b[0m\n\u001b[1;32m      1\u001b[0m \u001b[0mprint\u001b[0m\u001b[0;34m(\u001b[0m\u001b[0;34m\"Linear Regression Accuracy \"\u001b[0m\u001b[0;34m)\u001b[0m\u001b[0;34m\u001b[0m\u001b[0;34m\u001b[0m\u001b[0m\n\u001b[0;32m----> 2\u001b[0;31m \u001b[0mprint\u001b[0m\u001b[0;34m(\u001b[0m\u001b[0mmodel1\u001b[0m\u001b[0;34m.\u001b[0m\u001b[0mscore\u001b[0m\u001b[0;34m(\u001b[0m\u001b[0mX_test\u001b[0m\u001b[0;34m,\u001b[0m\u001b[0mY_test\u001b[0m\u001b[0;34m)\u001b[0m\u001b[0;34m*\u001b[0m\u001b[0;36m100\u001b[0m\u001b[0;34m,\u001b[0m\u001b[0;34m\"% \\n\"\u001b[0m\u001b[0;34m)\u001b[0m\u001b[0;34m\u001b[0m\u001b[0;34m\u001b[0m\u001b[0m\n\u001b[0m\u001b[1;32m      3\u001b[0m \u001b[0;34m\u001b[0m\u001b[0m\n\u001b[1;32m      4\u001b[0m \u001b[0mprint\u001b[0m\u001b[0;34m(\u001b[0m\u001b[0;34m\"Logistic Regression Accuracy : \"\u001b[0m\u001b[0;34m)\u001b[0m\u001b[0;34m\u001b[0m\u001b[0;34m\u001b[0m\u001b[0m\n\u001b[1;32m      5\u001b[0m \u001b[0mprint\u001b[0m\u001b[0;34m(\u001b[0m\u001b[0mmodel2\u001b[0m\u001b[0;34m.\u001b[0m\u001b[0mscore\u001b[0m\u001b[0;34m(\u001b[0m\u001b[0mX_test\u001b[0m\u001b[0;34m,\u001b[0m\u001b[0mY_test\u001b[0m\u001b[0;34m)\u001b[0m\u001b[0;34m*\u001b[0m\u001b[0;36m100\u001b[0m\u001b[0;34m,\u001b[0m\u001b[0;34m\"%\\n\"\u001b[0m\u001b[0;34m)\u001b[0m\u001b[0;34m\u001b[0m\u001b[0;34m\u001b[0m\u001b[0m\n",
            "\u001b[0;31mNameError\u001b[0m: name 'model1' is not defined"
          ]
        }
      ]
    },
    {
      "cell_type": "code",
      "source": [
        ""
      ],
      "metadata": {
        "id": "57XmwVYF5r3S"
      },
      "execution_count": null,
      "outputs": []
    }
  ]
}